{
 "cells": [
  {
   "cell_type": "markdown",
   "id": "cccedd2a-402b-49f9-86dc-c3cfad6c4f60",
   "metadata": {
    "jp-MarkdownHeadingCollapsed": true,
    "tags": []
   },
   "source": [
    "## RSA"
   ]
  },
  {
   "cell_type": "markdown",
   "id": "03e4a186-0a02-406e-b0f5-d0bf9dab38b7",
   "metadata": {
    "jp-MarkdownHeadingCollapsed": true,
    "tags": []
   },
   "source": [
    "### Key Generation"
   ]
  },
  {
   "cell_type": "code",
   "execution_count": 16,
   "id": "fbbe2cd4-a4a4-43b9-b691-379a12aa9e78",
   "metadata": {},
   "outputs": [],
   "source": [
    "p = 1613\n",
    "q = 1949\n",
    "e = 2 ^ 16 + 1\n",
    "e = 65537"
   ]
  },
  {
   "cell_type": "code",
   "execution_count": 17,
   "id": "bc8b5ffe-22ec-455d-b65c-4cc1be7c1808",
   "metadata": {},
   "outputs": [
    {
     "data": {
      "text/plain": [
       "3143737"
      ]
     },
     "execution_count": 17,
     "metadata": {},
     "output_type": "execute_result"
    }
   ],
   "source": [
    "n = p * q\n",
    "n"
   ]
  },
  {
   "cell_type": "code",
   "execution_count": 18,
   "id": "00bf5be1-f9ff-4b28-b6dc-28ded263c897",
   "metadata": {},
   "outputs": [
    {
     "data": {
      "text/plain": [
       "3140176"
      ]
     },
     "execution_count": 18,
     "metadata": {},
     "output_type": "execute_result"
    }
   ],
   "source": [
    "phi_n = (p-1) * (q-1)\n",
    "phi_n"
   ]
  },
  {
   "cell_type": "code",
   "execution_count": 19,
   "id": "1227a06e-268e-433f-b032-914f97656cf0",
   "metadata": {},
   "outputs": [
    {
     "data": {
      "text/plain": [
       "1865601"
      ]
     },
     "execution_count": 19,
     "metadata": {},
     "output_type": "execute_result"
    }
   ],
   "source": [
    "d = mod(1/e, phi_n)\n",
    "d"
   ]
  },
  {
   "cell_type": "markdown",
   "id": "2184adc5-effa-46c6-b247-8889fa303643",
   "metadata": {
    "jp-MarkdownHeadingCollapsed": true,
    "tags": []
   },
   "source": [
    "### Decryption"
   ]
  },
  {
   "cell_type": "code",
   "execution_count": 20,
   "id": "892ad2f2-d810-43f7-8a7b-1327f481947e",
   "metadata": {},
   "outputs": [],
   "source": [
    "n, e = 1173031, 65537\n",
    "n, d = 1173031, 378449\n",
    "c = 601090"
   ]
  },
  {
   "cell_type": "code",
   "execution_count": 21,
   "id": "dc7dba0c-785b-4a77-b355-6beaf4a3c21b",
   "metadata": {},
   "outputs": [
    {
     "data": {
      "text/plain": [
       "888341"
      ]
     },
     "execution_count": 21,
     "metadata": {},
     "output_type": "execute_result"
    }
   ],
   "source": [
    "m = mod(c ^ d, n)\n",
    "m"
   ]
  },
  {
   "cell_type": "markdown",
   "id": "cfc91769-ba00-46c7-b077-c05e2b134430",
   "metadata": {
    "jp-MarkdownHeadingCollapsed": true,
    "tags": []
   },
   "source": [
    "### Encryption"
   ]
  },
  {
   "cell_type": "code",
   "execution_count": 24,
   "id": "d3e86a76-5cfa-40ff-8d17-2454b10c0299",
   "metadata": {},
   "outputs": [
    {
     "data": {
      "text/plain": [
       "601090"
      ]
     },
     "execution_count": 24,
     "metadata": {},
     "output_type": "execute_result"
    }
   ],
   "source": [
    "c = mod(m ^ e, n)\n",
    "c"
   ]
  },
  {
   "cell_type": "markdown",
   "id": "7717868f-47dc-4103-86c7-ece5ebfe9c74",
   "metadata": {
    "jp-MarkdownHeadingCollapsed": true,
    "tags": []
   },
   "source": [
    "### CRT - RSA"
   ]
  },
  {
   "cell_type": "code",
   "execution_count": 28,
   "id": "d709455d-d7f9-4d23-8955-b239a4e77ade",
   "metadata": {},
   "outputs": [],
   "source": [
    "n = 396553\n",
    "p = 541\n",
    "q = 733\n",
    "e = 17\n",
    "phi_n = (q-1) * (p-1)"
   ]
  },
  {
   "cell_type": "code",
   "execution_count": 29,
   "id": "20d71051-34a1-4d32-bbc1-8974c14dfcb9",
   "metadata": {},
   "outputs": [
    {
     "data": {
      "text/plain": [
       "691"
      ]
     },
     "execution_count": 29,
     "metadata": {},
     "output_type": "execute_result"
    }
   ],
   "source": [
    "u = int(mod(1/p, q)) \n",
    "u"
   ]
  },
  {
   "cell_type": "code",
   "execution_count": 30,
   "id": "f2893129-4dfc-4dba-987a-cc1682a88771",
   "metadata": {},
   "outputs": [
    {
     "data": {
      "text/plain": [
       "302273"
      ]
     },
     "execution_count": 30,
     "metadata": {},
     "output_type": "execute_result"
    }
   ],
   "source": [
    "d = int(mod(1/e, phi_n))\n",
    "d"
   ]
  },
  {
   "cell_type": "code",
   "execution_count": 31,
   "id": "a01aa251-5f5d-4604-a712-d00069c682fb",
   "metadata": {},
   "outputs": [
    {
     "data": {
      "text/plain": [
       "413"
      ]
     },
     "execution_count": 31,
     "metadata": {},
     "output_type": "execute_result"
    }
   ],
   "source": [
    "dp = int(mod(d, p-1))\n",
    "dp"
   ]
  },
  {
   "cell_type": "code",
   "execution_count": 32,
   "id": "8f82c35e-48bf-40de-b14b-460e5b61f059",
   "metadata": {},
   "outputs": [
    {
     "data": {
      "text/plain": [
       "689"
      ]
     },
     "execution_count": 32,
     "metadata": {},
     "output_type": "execute_result"
    }
   ],
   "source": [
    "dq = int(mod(d, q-1))\n",
    "dq"
   ]
  },
  {
   "cell_type": "code",
   "execution_count": 33,
   "id": "52513042-ea5c-4015-b849-3b1cf4289443",
   "metadata": {},
   "outputs": [
    {
     "data": {
      "text/plain": [
       "332211"
      ]
     },
     "execution_count": 33,
     "metadata": {},
     "output_type": "execute_result"
    }
   ],
   "source": [
    "# Decrypt\n",
    "c = 234040\n",
    "cp = c\n",
    "cq = c\n",
    "\n",
    "mp = int(mod(cp^dp, p))\n",
    "mq = int(mod(cq^dq, q))\n",
    "\n",
    "m = int(mod(mp + (p * u * (mq - mp)), n))\n",
    "m"
   ]
  },
  {
   "cell_type": "code",
   "execution_count": 34,
   "id": "486803f7-8bfa-4747-b43e-11e6768bd7b7",
   "metadata": {},
   "outputs": [
    {
     "data": {
      "text/plain": [
       "234040"
      ]
     },
     "execution_count": 34,
     "metadata": {},
     "output_type": "execute_result"
    }
   ],
   "source": [
    "# Test Reencrypt\n",
    "c_new = mod(m ^ e, n)\n",
    "c_new"
   ]
  },
  {
   "cell_type": "markdown",
   "id": "5b37569a-8560-47c1-8c1d-1f9e45b14808",
   "metadata": {
    "jp-MarkdownHeadingCollapsed": true,
    "tags": []
   },
   "source": [
    "## Factorization"
   ]
  },
  {
   "cell_type": "markdown",
   "id": "5a29a5af-2245-4a4e-bb0a-0a421d99e3f7",
   "metadata": {
    "jp-MarkdownHeadingCollapsed": true,
    "tags": []
   },
   "source": [
    "### p-1 for RSA factorization"
   ]
  },
  {
   "cell_type": "code",
   "execution_count": 200,
   "id": "38c5f49a-7a96-46db-bb12-e1ee9affb252",
   "metadata": {},
   "outputs": [],
   "source": [
    "n = 635404704211 // 89\n",
    "a = 225170"
   ]
  },
  {
   "cell_type": "code",
   "execution_count": 201,
   "id": "1dd50dd4-d590-48bf-b09c-d3bbf490ba99",
   "metadata": {},
   "outputs": [],
   "source": [
    "def calc_s(B):\n",
    "    lcm_B = []\n",
    "    for b in range(1, B+1):\n",
    "        lcm_B.append(b)\n",
    "    return lcm(lcm_B)"
   ]
  },
  {
   "cell_type": "code",
   "execution_count": 209,
   "id": "e0f66044-e432-4566-b83f-b2ae897b6f2c",
   "metadata": {},
   "outputs": [
    {
     "name": "stdout",
     "output_type": "stream",
     "text": [
      "1\n",
      "2\n",
      "3\n",
      "4\n",
      "5\n",
      "6\n",
      "7\n",
      "8\n",
      "9\n",
      "10\n",
      "11\n",
      "12\n",
      "13\n",
      "14\n",
      "15\n",
      "16\n"
     ]
    },
    {
     "data": {
      "text/plain": [
       "2^4 * 3^2 * 5 * 7 * 11 * 13"
      ]
     },
     "execution_count": 209,
     "metadata": {},
     "output_type": "execute_result"
    }
   ],
   "source": [
    "s = calc_s(16)\n",
    "s.factor()"
   ]
  },
  {
   "cell_type": "code",
   "execution_count": 203,
   "id": "ac118354-6c20-49ea-b457-e81b6fecd0f3",
   "metadata": {},
   "outputs": [
    {
     "data": {
      "text/plain": [
       "1194511837"
      ]
     },
     "execution_count": 203,
     "metadata": {},
     "output_type": "execute_result"
    }
   ],
   "source": [
    "b = int(mod(a ^ s, n))\n",
    "b"
   ]
  },
  {
   "cell_type": "code",
   "execution_count": 207,
   "id": "74c760b9-e775-4711-aae2-bad6c56d6243",
   "metadata": {},
   "outputs": [
    {
     "data": {
      "text/plain": [
       "2^3 * 3^5 * 5 * 7 * 11"
      ]
     },
     "execution_count": 207,
     "metadata": {},
     "output_type": "execute_result"
    }
   ],
   "source": [
    "p = gcd(b - 1, n)\n",
    "p\n",
    "(p-1).factor()"
   ]
  },
  {
   "cell_type": "code",
   "execution_count": 208,
   "id": "fcca4312-3801-4bcc-8f45-d50d9859142e",
   "metadata": {},
   "outputs": [
    {
     "data": {
      "text/plain": [
       "2 * 19 * 251"
      ]
     },
     "execution_count": 208,
     "metadata": {},
     "output_type": "execute_result"
    }
   ],
   "source": [
    "q = n / p\n",
    "(q-1).factor()"
   ]
  },
  {
   "cell_type": "code",
   "execution_count": 206,
   "id": "04224d96-94de-454b-b7ca-dd834eb6b6c2",
   "metadata": {},
   "outputs": [],
   "source": [
    "assert n == p * q"
   ]
  },
  {
   "cell_type": "code",
   "execution_count": 110,
   "id": "c6bccf54-1d13-4563-9e3a-e07b6c6f5c5c",
   "metadata": {},
   "outputs": [
    {
     "data": {
      "text/plain": [
       "3.0714786556407327"
      ]
     },
     "execution_count": 110,
     "metadata": {},
     "output_type": "execute_result"
    }
   ],
   "source": [
    "c = float(89^(1/4))\n",
    "c"
   ]
  },
  {
   "cell_type": "markdown",
   "id": "f1adbf25-da1f-4546-9b7f-502c829d9b88",
   "metadata": {
    "jp-MarkdownHeadingCollapsed": true,
    "tags": []
   },
   "source": [
    "### Pollard Rho for Factorization"
   ]
  },
  {
   "cell_type": "code",
   "execution_count": 112,
   "id": "5b6e6411-afdc-4137-bac4-3d3a67431a09",
   "metadata": {},
   "outputs": [
    {
     "name": "stdout",
     "output_type": "stream",
     "text": [
      "S 604394567889\n",
      "p 89\n",
      "q 7139378699\n"
     ]
    }
   ],
   "source": [
    "n = 635404704211\n",
    "# // 89\n",
    "# 89 * 9539 * 748441\n",
    "\n",
    "# B is the smoothness of the prime I am looking for\n",
    "B = int(n ^ (1/4))\n",
    "\n",
    "# Note: there could be a constant d\n",
    "def next_p(p):\n",
    "    c = 73\n",
    "    return int(mod(p ^ 2 + c, n))\n",
    "\n",
    "p0 = 426166815697\n",
    "S = 1\n",
    "s_1 = p0\n",
    "s_2 = p0\n",
    "for i in range(5):\n",
    "    s_1 = next_p(s_1)\n",
    "    s_2 = next_p(next_p((s_2)))\n",
    "    diff = int(mod(s_2 - s_1, n))\n",
    "    S = mod(S * diff, n)\n",
    "p = gcd(S, n)\n",
    "# check if p is prime\n",
    "# if not, try with another c and d parameters for calculating the next step\n",
    "# If you do not get any factors that are prime, then you increase the range B,\n",
    "# if you get that gcd(s,n) = n, then you decrease B\n",
    "print(\"S\", S)\n",
    "print(\"p\", p)\n",
    "q = n / int(p)\n",
    "print(\"q\", q)"
   ]
  },
  {
   "cell_type": "code",
   "execution_count": 113,
   "id": "52fa414f-f7c3-47bc-8290-4a084e00ed66",
   "metadata": {},
   "outputs": [
    {
     "data": {
      "text/plain": [
       "625"
      ]
     },
     "execution_count": 113,
     "metadata": {},
     "output_type": "execute_result"
    }
   ],
   "source": [
    "5^4"
   ]
  },
  {
   "cell_type": "markdown",
   "id": "4ccbc951-fc7e-43df-86aa-79e6199e7222",
   "metadata": {
    "jp-MarkdownHeadingCollapsed": true,
    "tags": []
   },
   "source": [
    "## Coppersmith Method"
   ]
  },
  {
   "cell_type": "markdown",
   "id": "cd8c3464-3fa1-4b80-8486-644fd3fe80d0",
   "metadata": {},
   "source": [
    "Coppersmith' method works to find small roots of polynomials. In this case the polynomial is f(x) = (a + x)^5 - c \\bmod nf(x)=(a+x) \n",
    "5\n",
    " −cmodn from the encryption equation c = m^3 \\bmod nc=m \n",
    "3\n",
    " modn and the known top part aa of mm from the stereotyped message. The unknown part xx is less than X = 36^6= 2176782336X=36 \n",
    "6\n",
    " =2176782336 which is small on the scale of nn which is about 36^{91}36 \n",
    "91\n",
    " .\n",
    "The method works by setting up a lattice, given by a matrix, so that each row is has xx as a root modulo nn. The top row is given by f(x)f(x), where the left-most columns corresponds to x^5x \n",
    "5\n",
    "  and the rightmost column to x^0x \n",
    "0\n",
    " .\n",
    "Because of a result of Howgrave-Graham on when the method succeeds and to balance the weights, the column of x^ix \n",
    "i\n",
    "  is actually scaled by X^iX \n",
    "i\n",
    " , using the upper bound XX on xx. Hence, the first row matches the coefficients of\n",
    "f(xX) = (a + xX)^5 = X^5x^5 + 5 X^4ax^4 + 10X^3a^2x^3 + 10X^2a^3x^2 + 5Xa^4x + a^5 - cf(xX)=(a+xX) \n",
    "5\n",
    " =X \n",
    "5\n",
    " x \n",
    "5\n",
    " +5X \n",
    "4\n",
    " ax \n",
    "4\n",
    " +10X \n",
    "3\n",
    " a \n",
    "2\n",
    " x \n",
    "3\n",
    " +10X \n",
    "2\n",
    " a \n",
    "3\n",
    " x \n",
    "2\n",
    " +5Xa \n",
    "4\n",
    " x+a \n",
    "5\n",
    " −c. The other rows are given by the coefficients of X^inx^iX \n",
    "i\n",
    " nx \n",
    "i\n",
    " .\n",
    "The lattice is given by\n",
    "M = [[X^5 + 5* X^4*a , 10*X^3*a^2 , 10*X^2*a^3 , 5*X*a^4, a^5 - c],\n",
    "[0,X^4*n,0,0,0,0],\n",
    "[0,0,X^3*n,0,0,0],\n",
    "[0,0,0,X^2*n,0,0],\n",
    "[0,0,0,0,X*n,0],\n",
    "[0,0,0,0,0,n]]\n",
    "The last 5 rows are identical to 0 modulo nn so satisfy the rule and ensure that each position can be reduced modulo n.\n",
    "Using LLL we can obtain a basis with short vectors which implies small coefficients.\n",
    "Howgrave-Graham gives conditions on the norm of the coefficient vector under which a root modulo nn is also a root over the integers. Combining this with LLL gives (apart from some smaller factors) that the method succeeds if $$\\root[6](\\det(M)) < n$$. Here \\det(M) = n^5X^{15}det(M)=n \n",
    "5\n",
    " X \n",
    "15\n",
    " , hence the condition translates to X^{15}<nX \n",
    "15\n",
    " <n. In this case we have X = 36^6X=36 \n",
    "6\n",
    "  and 36^{90}<n36 \n",
    "90\n",
    " <n, so the method should succeed."
   ]
  },
  {
   "cell_type": "markdown",
   "id": "9d20dac8-b789-44ce-afab-3465f47731b4",
   "metadata": {
    "jp-MarkdownHeadingCollapsed": true,
    "tags": []
   },
   "source": [
    "### For RSA primes"
   ]
  },
  {
   "cell_type": "code",
   "execution_count": 29,
   "id": "8b03651b-e8f7-430d-a61d-fc822802d3b4",
   "metadata": {},
   "outputs": [],
   "source": [
    "# Case from slides\n",
    "p = random_prime(2^512); q = random_prime(2^512)\n",
    "n = p*q # nothing suspicious here\n",
    "a = p - (p % 2^160) # partial info we learn\n",
    "\n",
    "# we obtain a in the form of p = a + r\n",
    "# 160 number of bits we don't know\n",
    "X = 2^160"
   ]
  },
  {
   "cell_type": "code",
   "execution_count": 36,
   "id": "e1a1e2a3-df66-4c5c-914e-775e943359c3",
   "metadata": {},
   "outputs": [
    {
     "name": "stdout",
     "output_type": "stream",
     "text": [
      "4062363857 31.9196723184308\n",
      "167.747900873840\n"
     ]
    }
   ],
   "source": [
    "# Case from exam\n",
    "r = (random_prime(2^32))\n",
    "c = log(r, 2).n()\n",
    "print(r, c)\n",
    "\n",
    "a = 3141592653589793238462643383279502884197 * 10^11 \n",
    "a\n",
    "print(log(p1, 2).n())\n",
    "X = 2^32\n",
    "n = 85397342226735670654635508695465744950338290459323016319434988214268887865669909148767449445636761969"
   ]
  },
  {
   "cell_type": "code",
   "execution_count": 185,
   "id": "4a1191e7-a783-45ec-9424-9e94f42d158a",
   "metadata": {},
   "outputs": [
    {
     "data": {
      "text/plain": [
       "123"
      ]
     },
     "execution_count": 185,
     "metadata": {},
     "output_type": "execute_result"
    }
   ],
   "source": [
    "# EXAM\n",
    "n = 67890055483009241509585928845990056768301355636549437937029809249749727319\n",
    "p_top = 7975367974709495237422842361682067456\n",
    "missing = 123 - 83\n",
    "# 40 bits is less than 1/3 of 123\n",
    "e = 2^16 + 1\n",
    "X = 2^40\n",
    "a = p_top\n",
    "# p.bits()\n",
    "len(p_top.bits())"
   ]
  },
  {
   "cell_type": "markdown",
   "id": "9560934d-c6a5-43ea-b937-9efead40bd00",
   "metadata": {},
   "source": [
    "Make sure a=7643764000000, X=2^r and n are defined, then check for p"
   ]
  },
  {
   "cell_type": "code",
   "execution_count": 186,
   "id": "49089332-d70f-48d9-8d48-28d4910e54b1",
   "metadata": {},
   "outputs": [],
   "source": [
    "M = matrix([[X^2, X*a, 0], [0, X, a], [0, 0, n]])"
   ]
  },
  {
   "cell_type": "code",
   "execution_count": 187,
   "id": "1ffc2fbc-4a33-49d1-bd84-8f4f02d81d05",
   "metadata": {},
   "outputs": [],
   "source": [
    "B = M.LLL()"
   ]
  },
  {
   "cell_type": "code",
   "execution_count": 188,
   "id": "6ce65973-3a75-4856-981d-d98a6a237515",
   "metadata": {},
   "outputs": [],
   "source": [
    "Q = (B[0][0] * x^2 )/X^2 + (B[0][1] * x)/ X + B[0][2]"
   ]
  },
  {
   "cell_type": "code",
   "execution_count": 191,
   "id": "6745c382-aa59-408c-8d69-28d02066b506",
   "metadata": {},
   "outputs": [
    {
     "data": {
      "text/plain": [
       "[(21276691477, 1)]"
      ]
     },
     "execution_count": 191,
     "metadata": {},
     "output_type": "execute_result"
    }
   ],
   "source": [
    "Q.roots(ring=ZZ)"
   ]
  },
  {
   "cell_type": "code",
   "execution_count": 196,
   "id": "e802aa43-9d69-45ea-9cfd-fd875b6f130d",
   "metadata": {},
   "outputs": [],
   "source": [
    "q = n / (a + Q.roots(ring=ZZ)[0][0])"
   ]
  },
  {
   "cell_type": "code",
   "execution_count": 198,
   "id": "1fa2e252-5ade-4329-8649-ac76a8b12320",
   "metadata": {},
   "outputs": [
    {
     "name": "stdout",
     "output_type": "stream",
     "text": [
      "p 7975367974709495237422842382958758933, q 8512466847710829752670576779133440443\n"
     ]
    },
    {
     "data": {
      "text/plain": [
       "21276691477"
      ]
     },
     "execution_count": 198,
     "metadata": {},
     "output_type": "execute_result"
    }
   ],
   "source": [
    "p = n / q\n",
    "m = p * q\n",
    "m == n\n",
    "print(f\"p {p}, q {q}\")\n",
    "mod(p, 2^40)"
   ]
  },
  {
   "cell_type": "markdown",
   "id": "b6a10e4b-e79a-42fa-ab29-b07dd33da039",
   "metadata": {
    "jp-MarkdownHeadingCollapsed": true,
    "tags": []
   },
   "source": [
    "### For Messages"
   ]
  },
  {
   "cell_type": "code",
   "execution_count": 186,
   "id": "f434d7f9-9af2-4c19-8d39-48c9b5111ce0",
   "metadata": {},
   "outputs": [
    {
     "data": {
      "text/plain": [
       "4065148191661314021859159447510046461975168206921387422466048"
      ]
     },
     "execution_count": 186,
     "metadata": {},
     "output_type": "execute_result"
    }
   ],
   "source": [
    "a = Integer('The ticket code for entry to the event is 000000' , 36)\n",
    "a"
   ]
  },
  {
   "cell_type": "code",
   "execution_count": 187,
   "id": "519df729-f803-4056-9849-017e1cf590de",
   "metadata": {},
   "outputs": [
    {
     "data": {
      "text/plain": [
       "'theticketcodeforentrytotheeventis000000'"
      ]
     },
     "execution_count": 187,
     "metadata": {},
     "output_type": "execute_result"
    }
   ],
   "source": [
    "m.str(36)"
   ]
  },
  {
   "cell_type": "code",
   "execution_count": 188,
   "id": "8b4a2034-d05e-4c50-885b-e43d8b9709ac",
   "metadata": {},
   "outputs": [],
   "source": [
    "n = 22025482441888726596151828037580210653496214995318500244177792057815419084860452102794997828952857497081479129671501030354465069182775254612751\n",
    "e = 5"
   ]
  },
  {
   "cell_type": "code",
   "execution_count": 189,
   "id": "a6e5d5dc-18f6-429d-a459-9ad1679ea7d4",
   "metadata": {},
   "outputs": [],
   "source": [
    "c = 18026784157801727131455776136196465618870787523053645052562578424425084803098429518969764363704209533679484842464484114144371404287037590112297"
   ]
  },
  {
   "cell_type": "code",
   "execution_count": 193,
   "id": "5d601fab-6c72-41a8-abce-c17a11b85f8e",
   "metadata": {},
   "outputs": [],
   "source": [
    "# If it does not work, try with 'zzzzzz'\n",
    "X = Integer('ffffff',36)\n",
    "# (x + a)^5 - c\n",
    "# where e = 5\n",
    "# for top row use https://www.symbolab.com/solver/polynomial-equation-calculator/%5Cleft(x%2B%20a%5Cright)%5E%7B5%7D-c?or=input\n",
    "M = matrix([\n",
    "    [X^5, 5 * X^4 * a, 10 * X^3 * a^2, 10 * X^2 * a^3, 5 * X * a^4, a^5 - c],\n",
    "    [0,   n * X^4,     0,              0,              0,           0], \n",
    "    [0,   0,           n * X^3,        0,              0,           0],\n",
    "    [0,   0,           0,              n * X^2,        0,           0],\n",
    "    [0,   0,           0,              0,              n * X,       0],\n",
    "    [0,   0,           0,              0,              0,           n]\n",
    "])"
   ]
  },
  {
   "cell_type": "code",
   "execution_count": 194,
   "id": "42530dce-7000-49f9-8345-8cde017ae388",
   "metadata": {},
   "outputs": [],
   "source": [
    "B = M.LLL()\n",
    "Q = (B[0][0] * x^5 / X^5) + (B[0][1] * x^4 / X^4) + (B[0][2] * x^3 / X^3) + (B[0][3] * x^2 / X^2) + (B[0][4] * x / X) + B[0][5]"
   ]
  },
  {
   "cell_type": "code",
   "execution_count": 195,
   "id": "897eb385-e565-48c9-88a7-c32abe29caa2",
   "metadata": {},
   "outputs": [
    {
     "data": {
      "text/plain": [
       "'1497tt'"
      ]
     },
     "execution_count": 195,
     "metadata": {},
     "output_type": "execute_result"
    }
   ],
   "source": [
    "Q.roots(ring=ZZ)[0][0].str(base=36)"
   ]
  },
  {
   "cell_type": "markdown",
   "id": "f880d7dc-5941-4881-bc9f-b39b678faf32",
   "metadata": {
    "tags": []
   },
   "source": [
    "## Diffie Hellman"
   ]
  },
  {
   "cell_type": "code",
   "execution_count": 169,
   "id": "443afa71-8cd4-422c-a989-68d32128e3a1",
   "metadata": {},
   "outputs": [],
   "source": [
    "# https://en.wikipedia.org/wiki/Diffie%E2%80%93Hellman_key_exchange\n",
    "p = 1000003\n",
    "g = 2\n",
    "a = 322470\n",
    "hB = 55013"
   ]
  },
  {
   "cell_type": "code",
   "execution_count": 170,
   "id": "95d98f5f-ed92-4403-8a52-00c80b30d59e",
   "metadata": {},
   "outputs": [
    {
     "data": {
      "text/plain": [
       "514229"
      ]
     },
     "execution_count": 170,
     "metadata": {},
     "output_type": "execute_result"
    }
   ],
   "source": [
    "hA = mod(g^a, p)\n",
    "hA"
   ]
  },
  {
   "cell_type": "code",
   "execution_count": 171,
   "id": "ec19e6f9-2a6a-47d6-a7d7-5410189fa873",
   "metadata": {},
   "outputs": [
    {
     "data": {
      "text/plain": [
       "553408"
      ]
     },
     "execution_count": 171,
     "metadata": {},
     "output_type": "execute_result"
    }
   ],
   "source": [
    "H = mod(hB^a, p)\n",
    "H"
   ]
  },
  {
   "cell_type": "markdown",
   "id": "901ba8be-aa77-46f1-a45d-85408f495353",
   "metadata": {
    "tags": []
   },
   "source": [
    "## Discrete Log"
   ]
  },
  {
   "cell_type": "markdown",
   "id": "c4dcbce1-a528-4ff9-8d0f-5a3f1598f4b9",
   "metadata": {
    "jp-MarkdownHeadingCollapsed": true,
    "tags": []
   },
   "source": [
    "### Baby Step Gian Step"
   ]
  },
  {
   "cell_type": "code",
   "execution_count": 62,
   "id": "ddbbf2aa-d9b4-497b-bfa9-7e2c6c8dbe58",
   "metadata": {},
   "outputs": [],
   "source": [
    "def BSGS(N, g, ga):\n",
    "    \n",
    "    \n",
    "    m = floor(sqrt(N))\n",
    "    \n",
    "    bs_dict = {}\n",
    "    bs_dict[1] = 0\n",
    "    bs_dict[g] = 1 \n",
    "    \n",
    "    # Correct\n",
    "    # Baby step\n",
    "    g_temp = g\n",
    "    for i in range(1, m):\n",
    "        g_temp = mod(g ^ i, N)\n",
    "        bs_dict[g_temp] = i\n",
    "    \n",
    "    # Correct\n",
    "    # Giant step\n",
    "    # print(f\"m {m}\")\n",
    "    R = mod(g ^ (-m), N)\n",
    "    j = 0\n",
    "    Q = ga\n",
    "    while Q not in bs_dict:\n",
    "        j += 1\n",
    "        Q = mod(Q * R, N)\n",
    "        \n",
    "    i = bs_dict[Q]\n",
    "    \n",
    "    return mod(j * m + i, N)"
   ]
  },
  {
   "cell_type": "markdown",
   "id": "6112c8ed-69c8-4fd4-aed9-b12c37fa99a9",
   "metadata": {
    "jp-MarkdownHeadingCollapsed": true,
    "tags": []
   },
   "source": [
    "### Pollig-Hellman Attack"
   ]
  },
  {
   "cell_type": "code",
   "execution_count": 40,
   "id": "b69f0fa5-b628-453c-8b5a-82e9f7aeb0ba",
   "metadata": {},
   "outputs": [],
   "source": [
    "# order N in array of tuples in the form (prime, exponent)\n",
    "# N_list = [(2, 4), (7, 2), (37, 1)] \n",
    "# N = (2 ** 4) * (7 ** 2) * 37 + 1\n",
    "# N is prime\n",
    "\n",
    "# http://math.ucdenver.edu/~wcherowi/courses/m5410/phexam.html\n",
    "\n",
    "def pohling_hellman(g: int, Q: int, N: int, N_list: list[(int, int)]):\n",
    "    crm_list = []\n",
    "    \n",
    "    for i in range(len(N_list)):\n",
    "        \n",
    "        pi, ei = N_list[i]\n",
    "        Qi = Q\n",
    "        a_list = []\n",
    "        \n",
    "        for j in range(1, ei + 1):    \n",
    "            \n",
    "            e = int(((N-1) / pi^j))\n",
    "            aij = mod(Qi ^ e, N)\n",
    "            \n",
    "            #BSGS\n",
    "            # gij = mod(g ^ e, N)\n",
    "            # print(f\"pi {pi}, e {e}, gij {gij}, aij {aij}\")\n",
    "            # bs = BSGS(pi, gij, aij)\n",
    "            # a_list.append(bs)\n",
    "            \n",
    "            # This is ok for small primes\n",
    "            # Brute force\n",
    "            for k in range(pi + 1):\n",
    "                e = k * (N-1) / pi\n",
    "                #print(f\"e {e}\") \n",
    "                if mod((g ^  e), N) == aij:\n",
    "                    a_list.append(k)\n",
    "                    inv_g = mod(g ^ (-k * pi^(j -1)), N)\n",
    "                    Qi = mod(Qi * inv_g, N)\n",
    "                    break\n",
    "\n",
    "        x = 0\n",
    "        j = 0\n",
    "        print(f\"list a for {N_list[i][0]}: {a_list}\")\n",
    "        for a in a_list:\n",
    "            x += a * (pi ^ j)\n",
    "            j += 1\n",
    "        crm_list.append(x)\n",
    "        \n",
    "    factors_list = [ p^e for p,e in N_list]\n",
    "    a = crt(crm_list, factors_list)\n",
    "    return a"
   ]
  },
  {
   "cell_type": "code",
   "execution_count": 41,
   "id": "136cea17-6c8d-4769-aded-bba5ec50cdfc",
   "metadata": {},
   "outputs": [
    {
     "name": "stdout",
     "output_type": "stream",
     "text": [
      "list a for 2: [1, 0]\n",
      "list a for 3: [2, 0, 2, 1]\n",
      "list a for 5: [4, 2]\n",
      "exp 6689\n"
     ]
    },
    {
     "data": {
      "text/plain": [
       "2^2 * 3^4 * 5^2"
      ]
     },
     "execution_count": 41,
     "metadata": {},
     "output_type": "execute_result"
    }
   ],
   "source": [
    "# Example from http://math.ucdenver.edu/~wcherowi/courses/m5410/phexam.html\n",
    "N = 8101 # prime\n",
    "N_list = [(2, 2), (3, 4), (5, 2)]\n",
    "g = 6\n",
    "B = 7531\n",
    "\n",
    "exp = pohling_hellman(g, B, N, N_list)\n",
    "print(\"exp\", exp)\n",
    "factor(N-1)\n"
   ]
  },
  {
   "cell_type": "code",
   "execution_count": 42,
   "id": "dd58bae4-9b2a-4c2a-84e4-38adb2e65ad8",
   "metadata": {},
   "outputs": [
    {
     "name": "stdout",
     "output_type": "stream",
     "text": [
      "list a for 2: [0]\n",
      "list a for 3: [2, 1, 1]\n",
      "list a for 5: [2, 4, 2, 2]\n",
      "list a for 7: [2]\n",
      "list a for 97: [33]\n",
      "exp 16236572\n"
     ]
    }
   ],
   "source": [
    "# example from exam 144078 exercise 2\n",
    "g = 10\n",
    "N = 22916251\n",
    "B = 14876484\n",
    "N_list = [(2, 1), (3, 3), (5, 4), (7, 1), (97, 1)]\n",
    "\n",
    "exp = pohling_hellman(g, B, N, N_list)\n",
    "print(\"exp\", exp)"
   ]
  },
  {
   "cell_type": "code",
   "execution_count": 43,
   "id": "e912a399-9425-48c1-9195-ad38316e9d7b",
   "metadata": {},
   "outputs": [
    {
     "name": "stdout",
     "output_type": "stream",
     "text": [
      "14876484\n"
     ]
    },
    {
     "data": {
      "text/plain": [
       "True"
      ]
     },
     "execution_count": 43,
     "metadata": {},
     "output_type": "execute_result"
    }
   ],
   "source": [
    "# Verify your result\n",
    "hB = mod(g ^ 16236572, N)\n",
    "print(hB)\n",
    "hB == B"
   ]
  },
  {
   "cell_type": "markdown",
   "id": "bae1180c-560c-4908-b248-6d580e142f7a",
   "metadata": {
    "tags": []
   },
   "source": [
    "### Pollard Rho & Floyds"
   ]
  },
  {
   "cell_type": "code",
   "execution_count": 51,
   "id": "493d4e31-a501-4cfd-b8d8-cee60f1dd8fc",
   "metadata": {},
   "outputs": [
    {
     "data": {
      "text/plain": [
       "[16167847, 7631738, 16167847, 3553851, 21514752]"
      ]
     },
     "execution_count": 51,
     "metadata": {},
     "output_type": "execute_result"
    }
   ],
   "source": [
    "PN = 22916251\n",
    "e = (PN-1)/97\n",
    "H = int(mod(B^e, PN))\n",
    "\n",
    "g = 10\n",
    "G = int(mod(g^e, PN))\n",
    "\n",
    "N = 97\n",
    "# Pollard rho\n",
    "# steps (ri, ti)\n",
    "steps = [(10, 84), (95, 1), (15, 28), (1, 84), (14, 67)]\n",
    "s_list = []\n",
    "for step in steps:\n",
    "    ri, ti = step\n",
    "    # print(ri, ti)\n",
    "    si = int(mod(G^ri * H^ti, PN))\n",
    "    s_list.append(si)\n",
    "s_list    "
   ]
  },
  {
   "cell_type": "code",
   "execution_count": 52,
   "id": "a54fdd98-cafd-42f4-9a2a-fa4ce0af5cd3",
   "metadata": {},
   "outputs": [
    {
     "data": {
      "text/plain": [
       "(2429001, 3035691, 97)"
      ]
     },
     "execution_count": 52,
     "metadata": {},
     "output_type": "execute_result"
    }
   ],
   "source": [
    "G, H, N"
   ]
  },
  {
   "cell_type": "code",
   "execution_count": 57,
   "id": "a588d074-b51e-4983-a7a9-5e1876b644f6",
   "metadata": {},
   "outputs": [],
   "source": [
    "def next_step(x, r, t):\n",
    "    i = mod(x, 5)\n",
    "    x = int(mod(s_list[i] * x, PN))\n",
    "    ri, ti = steps[i]\n",
    "    r += ri\n",
    "    t += ti\n",
    "    return x, r, t\n",
    "        \n",
    "def pollard_rho(G, H, N):\n",
    "    s = 6\n",
    "    x = int(mod(G^s, N))\n",
    "    s_slow = s_fast = x\n",
    "    r_slow = r_fast = s\n",
    "    t_slow = t_fast = 0\n",
    "    assert s_fast == int(mod(G^r_fast * H^t_fast , N))\n",
    "    for i in range(1, 20):\n",
    "        s_slow, r_slow, t_slow = next_step(s_slow, r_slow, t_slow)\n",
    "        s_fast, r_fast, t_fast = next_step(*next_step(s_fast, r_fast, t_fast))\n",
    "        assert s_fast == int(mod(G^r_fast * H^t_fast , N))\n",
    "        print(f\"{i} slow is {s_slow}, fast is {s_fast}\")\n",
    "        if (s_slow == s_fast):\n",
    "            print(\"FOUND IT!!!\")\n",
    "            return mod((r_fast - r_slow)/(t_slow - t_fast), 97)\n",
    "    return a"
   ]
  },
  {
   "cell_type": "code",
   "execution_count": 56,
   "id": "1e3b4d77-40d5-498e-a731-378b71d79d92",
   "metadata": {},
   "outputs": [
    {
     "name": "stdout",
     "output_type": "stream",
     "text": [
      "1 slow is 20809813, fast is 16172679\n",
      "2 slow is 16172679, fast is 8430602\n",
      "3 slow is 12093259, fast is 8430602\n",
      "4 slow is 8430602, fast is 8430602\n",
      "FOUND EM!!!\n"
     ]
    },
    {
     "data": {
      "text/plain": [
       "33"
      ]
     },
     "execution_count": 56,
     "metadata": {},
     "output_type": "execute_result"
    }
   ],
   "source": [
    "rho = pollard_rho(G, H, PN)\n",
    "rho"
   ]
  },
  {
   "cell_type": "code",
   "execution_count": 61,
   "id": "283df8cc-ad7f-4a0c-8b8a-270c713b3ee6",
   "metadata": {},
   "outputs": [
    {
     "data": {
      "text/plain": [
       "True"
      ]
     },
     "execution_count": 61,
     "metadata": {},
     "output_type": "execute_result"
    }
   ],
   "source": [
    "# assertion\n",
    "int(mod(int(G)^int(rho), PN)) == H"
   ]
  },
  {
   "cell_type": "code",
   "execution_count": 106,
   "id": "783b8266-8588-457e-9de4-6d864b93755a",
   "metadata": {},
   "outputs": [
    {
     "name": "stdout",
     "output_type": "stream",
     "text": [
      "list a for 2: [0, 0, 1, 0]\n",
      "list a for 7: [4, 4]\n",
      "list a for 37: [34]\n",
      "3364\n"
     ]
    },
    {
     "data": {
      "text/plain": [
       "12542"
      ]
     },
     "execution_count": 138,
     "metadata": {},
     "output_type": "execute_result"
    }
   ],
   "source": [
    "# Example from exam /80764 #2 Discrete Log\n",
    "N_list = [(2, 4), (7, 2), (37, 1)] \n",
    "N = (2 ** 4) * (7 ** 2) * 37\n",
    "P = 29009\n",
    "g = 11\n",
    "Q = 12542\n",
    "\n",
    "b = pohling_hellman(g, Q, P, N_list)\n",
    "\n",
    "print(b)\n",
    "mod(g ^ b, P)"
   ]
  },
  {
   "cell_type": "code",
   "execution_count": null,
   "id": "9627db29-bbab-4b6e-936d-3671cb129bb4",
   "metadata": {},
   "outputs": [],
   "source": []
  },
  {
   "cell_type": "markdown",
   "id": "87ae2b70-3ae2-4384-829d-fb0e3fc2c264",
   "metadata": {},
   "source": [
    "### Verify Results"
   ]
  },
  {
   "cell_type": "code",
   "execution_count": null,
   "id": "c47f9653-bb47-40a1-83b2-eb4a2ccf6a4c",
   "metadata": {},
   "outputs": [],
   "source": []
  },
  {
   "cell_type": "markdown",
   "id": "6f449a06-48e0-4e88-a0bf-856650d56781",
   "metadata": {
    "tags": []
   },
   "source": [
    "## Elliptic Curves"
   ]
  },
  {
   "cell_type": "markdown",
   "id": "d51e0627-0298-49d1-bf2a-0d12cfded1cb",
   "metadata": {
    "jp-MarkdownHeadingCollapsed": true,
    "tags": []
   },
   "source": [
    "### Edwards, Twisted Edwards, Weierstrass, Montgomery"
   ]
  },
  {
   "cell_type": "code",
   "execution_count": 114,
   "id": "2842d17b-9bdc-4448-9517-5c38025dec5e",
   "metadata": {},
   "outputs": [],
   "source": [
    "## Edwards Curve\n",
    "## Form: x^2 + y^2 = 1 + d*x^2*y^2, with d < 0\n",
    "## Usually computed mod n\n",
    "## Point addition\n",
    "\n",
    "## In Twisted Edwards curve the a is set to something different than 1\n",
    "\n",
    "def edwards_point_addition(p1: (int, int), p2: (int, int), d: int, n: int, a = 1) -> (int, int):\n",
    "    xa, ya = p1\n",
    "    xb, yb = p2\n",
    "    den = d * xa * ya * xb * yb\n",
    "    xc = ((xa * yb) + (xb * ya))/(1 + den)\n",
    "    xc = int(mod(xc, n))\n",
    "    yc = ((ya * yb) - (a * xa * xb))/(1 - den)\n",
    "    yc = int(mod(yc, n))\n",
    "    return (xc, yc)\n",
    "\n",
    "def edwards_point_doubling(p1: (int, int), d: int, n: int, a=1) -> (int, int):\n",
    "    pass\n",
    "\n",
    "def point_check(p: (int, int), d: int, n: int, a=1) -> bool:\n",
    "    x, y = p\n",
    "    a = mod(a * x^2 + y^2, n)\n",
    "    b = mod(1 + d * x^2 * y^2 , n)\n",
    "    return a == b\n",
    "    \n",
    "d = -5\n",
    "n = 13\n",
    "p = (6, 3)\n",
    "# print(point_check(p, d, n))\n",
    "\n",
    "\n",
    "# Montgomery and Weistrass implement with Sage\n",
    "\n",
    "\n",
    "\n",
    "# Weierstrass\n",
    "# y^2 = x^3 + c4 * x + c6\n",
    "c4, c6 = 3, 6\n",
    "K = GF(43) # Field \n",
    "W = EllipticCurve(K, [c4, c6])\n",
    "\n",
    "# Montgomery\n",
    "# B *y^2 = x^3 + A * x^2 + x\n",
    "# for B != 0, A != 2, -2\n",
    "# Montgomery implemented in homework"
   ]
  },
  {
   "cell_type": "code",
   "execution_count": 115,
   "id": "c03797d6-f1b9-4f3e-8327-e727ac5cb80e",
   "metadata": {},
   "outputs": [
    {
     "data": {
      "text/plain": [
       "False"
      ]
     },
     "execution_count": 115,
     "metadata": {},
     "output_type": "execute_result"
    }
   ],
   "source": [
    "n = 2^31 - 1\n",
    "a = n - 1\n",
    "d = 1990442015\n",
    "p = (486722789, 1078198773)\n",
    "p2 = edwards_point_addition(p, p, d, n, a)\n",
    "\n",
    "# e2 = edwards_point_addition(p, e, d, n, a)\n",
    "# e2\n",
    "point_check(p, d, n)"
   ]
  },
  {
   "cell_type": "code",
   "execution_count": 117,
   "id": "f76fc625-d79c-4ea4-94f3-67a99952844d",
   "metadata": {},
   "outputs": [
    {
     "name": "stdout",
     "output_type": "stream",
     "text": [
      "A 528003815, B 1619479830\n"
     ]
    }
   ],
   "source": [
    "A = mod(2* (a+d) / (a-d), n)\n",
    "B = mod(4 / (a-d), n)\n",
    "print(f\"A {A}, B {B}\")"
   ]
  },
  {
   "cell_type": "code",
   "execution_count": 123,
   "id": "31201384-4f59-494e-b421-a9088a9ed219",
   "metadata": {},
   "outputs": [],
   "source": [
    "def to_mont(p):\n",
    "    # To montgomery\n",
    "    x, y = p\n",
    "    u = (1+y) / (1-y)\n",
    "    v = u / x\n",
    "    return (mod(u, n), mod(v, n))"
   ]
  },
  {
   "cell_type": "code",
   "execution_count": 127,
   "id": "9947ce0f-db21-4d2f-b7a0-6bd77e0a9701",
   "metadata": {},
   "outputs": [
    {
     "name": "stdout",
     "output_type": "stream",
     "text": [
      "Q (1986357151, 1124510096), Q2 (1234293321, 1843043349)\n"
     ]
    }
   ],
   "source": [
    "Q = to_mont(p)\n",
    "Q2 = to_mont(p2)\n",
    "print(f\"Q {Q}, Q2 {Q2}\")"
   ]
  },
  {
   "cell_type": "code",
   "execution_count": 128,
   "id": "be2e6e85-08b3-43d0-9c5d-b717027ce003",
   "metadata": {},
   "outputs": [
    {
     "data": {
      "text/plain": [
       "True"
      ]
     },
     "execution_count": 128,
     "metadata": {},
     "output_type": "execute_result"
    }
   ],
   "source": [
    "# Montgomery\n",
    "# B * v^2 = u^3 + A * u^2 + u\n",
    "v = 1124510096\n",
    "left = B * v^2\n",
    "left = int(mod(left , n))\n",
    "\n",
    "u = 1986357151\n",
    "right = u^3 + A*u^2 + u\n",
    "right = int(mod(right , n))\n",
    "\n",
    "left == right\n"
   ]
  },
  {
   "cell_type": "code",
   "execution_count": 129,
   "id": "cf477db0-f23e-4b01-8f8e-b31afc0390ef",
   "metadata": {},
   "outputs": [],
   "source": [
    "def doubling_point(p1, A, B):\n",
    "    \"\"\"\n",
    "    montgomery doubling\n",
    "    \"\"\"\n",
    "    x1,y1 = p1\n",
    "    \n",
    "    x3 = B*(3*x1^2+2*A*x1+1)^2 / (2*B*y1)^2 - A - x1 -x1\n",
    "    y3 = ((2*x1+x1+A)*(3*x1^2+2*A*x1+1) / (2*B*y1)) - ((B*(3*x1^2+2*A*x1+1)^3) / (2*B*y1)^3 ) - y1\n",
    "    \n",
    "    return (mod(x3, n), mod(y3, n))"
   ]
  },
  {
   "cell_type": "code",
   "execution_count": 138,
   "id": "bc20b8de-43fc-4e7d-af5c-eccb18856e23",
   "metadata": {},
   "outputs": [],
   "source": [
    "def mont_double_slope(Q, A, B):\n",
    "    u, v = Q\n",
    "    num = 3*u^2 + 2*A*u +1\n",
    "    div = 2 * B * v\n",
    "    slope = num / div\n",
    "    return slope"
   ]
  },
  {
   "cell_type": "code",
   "execution_count": 139,
   "id": "b711afbf-4934-4bc7-b2ee-8f91e089fa71",
   "metadata": {},
   "outputs": [
    {
     "data": {
      "text/plain": [
       "6983345"
      ]
     },
     "execution_count": 139,
     "metadata": {},
     "output_type": "execute_result"
    }
   ],
   "source": [
    "slo = mont_double_slope(Q, A, B)\n",
    "slo"
   ]
  },
  {
   "cell_type": "code",
   "execution_count": 130,
   "id": "3a71f6c3-78e8-4247-a313-a39a0a2d3752",
   "metadata": {},
   "outputs": [
    {
     "data": {
      "text/plain": [
       "(1234293321, 1843043349)"
      ]
     },
     "execution_count": 130,
     "metadata": {},
     "output_type": "execute_result"
    }
   ],
   "source": [
    "Q3 = doubling_point(Q, A, B)\n",
    "Q3"
   ]
  },
  {
   "cell_type": "markdown",
   "id": "3829cf49-9cfa-4f11-95e1-ab75173d1726",
   "metadata": {},
   "source": [
    "### Birational Equivalence"
   ]
  },
  {
   "cell_type": "code",
   "execution_count": null,
   "id": "5dee0838-f231-4f0a-b161-4f85b91916f8",
   "metadata": {},
   "outputs": [],
   "source": []
  },
  {
   "cell_type": "code",
   "execution_count": null,
   "id": "8032240f-7df0-4208-a69a-fd06f32a2b87",
   "metadata": {},
   "outputs": [],
   "source": []
  },
  {
   "cell_type": "markdown",
   "id": "759d9bd5-c977-4007-86bd-efa9265338ea",
   "metadata": {
    "tags": []
   },
   "source": [
    "### Discrete Log Attacks:"
   ]
  },
  {
   "cell_type": "markdown",
   "id": "46b13dc3-c69e-497b-8c07-aaef1812ae42",
   "metadata": {
    "tags": []
   },
   "source": [
    "#### Baby Step Giant Step"
   ]
  },
  {
   "cell_type": "code",
   "execution_count": null,
   "id": "ee81d26c-c1e5-4e35-9bfa-c805484feb73",
   "metadata": {},
   "outputs": [],
   "source": []
  },
  {
   "cell_type": "markdown",
   "id": "56ea024e-0c66-4098-80e8-adfd14ed89a7",
   "metadata": {
    "tags": []
   },
   "source": [
    "#### Pollard Rho"
   ]
  },
  {
   "cell_type": "code",
   "execution_count": null,
   "id": "8734fabe-10ed-4cdd-b6ca-e79760f0954e",
   "metadata": {},
   "outputs": [],
   "source": []
  },
  {
   "cell_type": "markdown",
   "id": "224358c2-c4f1-4cd5-96b0-2a02e60f643a",
   "metadata": {
    "tags": []
   },
   "source": [
    "#### Pollig Hellman"
   ]
  },
  {
   "cell_type": "code",
   "execution_count": 167,
   "id": "a2546b35-9ca1-47fb-be17-ada5dd0e2ce5",
   "metadata": {},
   "outputs": [],
   "source": [
    "p = 424243\n",
    "K = GF(p) # Field \n",
    "A = 518\n",
    "c1 = 0\n",
    "c2 = A\n",
    "c3 = 0\n",
    "c4 = 1\n",
    "c6 = 0\n",
    "\n",
    "W = EllipticCurve(K, [c1, c2, c3, c4, c6])\n",
    "\n",
    "P = W(53880, 381693)\n",
    "Q = W(245898,70893)\n",
    "\n",
    "n = 2^5 * 5\n",
    "assert n == P.order()\n",
    "\n",
    "N_list = [(2, 5), (5, 1)]"
   ]
  },
  {
   "cell_type": "code",
   "execution_count": 152,
   "id": "4ccea25c-abb0-47dd-9746-c4b291c9fee1",
   "metadata": {},
   "outputs": [],
   "source": [
    "def BSGS(N, P, Pa):\n",
    "\n",
    "    m = floor(sqrt(N))\n",
    "    \n",
    "    bs_dict = {}\n",
    "    bs_dict[P.curve()(0,1,0)] = 0\n",
    "    bs_dict[P] = 1 \n",
    "    \n",
    "    # Baby step\n",
    "    p_temp = P\n",
    "    for i in range(2, m):\n",
    "        # EC addition\n",
    "        p_temp = P + p_temp\n",
    "        bs_dict[p_temp] = i\n",
    "        \n",
    "    # Giant step\n",
    "    # EC addition\n",
    "    R = P + p_temp\n",
    "    j = 0\n",
    "    Q = Pa\n",
    "    while Q not in bs_dict:\n",
    "        j += 1\n",
    "        # EC addition\n",
    "        Q = Q + R\n",
    "        \n",
    "    i = bs_dict[Q]\n",
    "    \n",
    "    return mod(i - j * m, N)"
   ]
  },
  {
   "cell_type": "code",
   "execution_count": 165,
   "id": "ac3d4695-f809-423a-b355-ee328d508647",
   "metadata": {},
   "outputs": [],
   "source": [
    "def pohling_hellman(P, Q, N, N_list):\n",
    "    crm_list = []\n",
    "    \n",
    "    for i in range(len(N_list)):\n",
    "        Qi = Q\n",
    "        a_list = [0]\n",
    "        pi, ei = N_list[i]\n",
    "        ni = int(N / pi)\n",
    "        Ri = ni * P\n",
    "        for j in range(0, ei):\n",
    "            if (j != 0):\n",
    "                ni = int(N / (pi ** (j + 1)))\n",
    "            tmp = int(a_list[j] * (pi^(j-1)))\n",
    "            Qi = Qi - (tmp *  P)\n",
    "            Si = ni * Qi\n",
    "            # Solve DLP with BSGS\n",
    "            aij = int(BSGS(pi, Ri, Si))\n",
    "            a_list.append(aij)\n",
    "\n",
    "            \n",
    "        print(f\"a_list for {pi}: {a_list}\")\n",
    "        ai = 0\n",
    "        for idx,aij in enumerate(a_list[1:]):\n",
    "            ai += aij*(pi^idx)\n",
    "        # Mod\n",
    "        crm_list.append(ai)\n",
    "                \n",
    "    # Solve CRT\n",
    "    factors_list = [ p^e for p,e in N_list]\n",
    "    a = crt(crm_list, factors_list)\n",
    "    \n",
    "    return a"
   ]
  },
  {
   "cell_type": "code",
   "execution_count": 166,
   "id": "d1680417-8c76-445c-99cb-d4a02a253777",
   "metadata": {},
   "outputs": [
    {
     "name": "stdout",
     "output_type": "stream",
     "text": [
      "a_list for 2: [0, 1, 0, 1, 0, 1]\n",
      "a_list for 5: [0, 2]\n"
     ]
    },
    {
     "data": {
      "text/plain": [
       "117"
      ]
     },
     "execution_count": 166,
     "metadata": {},
     "output_type": "execute_result"
    }
   ],
   "source": [
    "pohling_hellman(P, Q, n, N_list)"
   ]
  },
  {
   "cell_type": "code",
   "execution_count": 155,
   "id": "775eadb8-d248-491c-a0bd-1253589db745",
   "metadata": {},
   "outputs": [
    {
     "name": "stdout",
     "output_type": "stream",
     "text": [
      "R (245898 : 70893 : 1), Q (245898 : 70893 : 1)\n"
     ]
    }
   ],
   "source": [
    "R = P * 117\n",
    "print(f\"R {R}, Q {Q}\")"
   ]
  },
  {
   "cell_type": "markdown",
   "id": "ee9adc28-ba4b-405b-9915-02bd715f2931",
   "metadata": {
    "tags": []
   },
   "source": [
    "### Signatures with ECDSA:"
   ]
  },
  {
   "cell_type": "code",
   "execution_count": null,
   "id": "0cb7a35f-00bb-4458-9fcc-d922e9bed7db",
   "metadata": {},
   "outputs": [],
   "source": []
  },
  {
   "cell_type": "markdown",
   "id": "996d18a8-2a1d-437a-8627-81bb80699664",
   "metadata": {
    "jp-MarkdownHeadingCollapsed": true,
    "tags": []
   },
   "source": [
    "## MACs"
   ]
  },
  {
   "cell_type": "code",
   "execution_count": null,
   "id": "7d1edd21-62a7-4b78-9271-bd9356c0e6da",
   "metadata": {},
   "outputs": [],
   "source": []
  },
  {
   "cell_type": "markdown",
   "id": "6c8083e3-5d5d-4129-956b-f1fa746ddd88",
   "metadata": {
    "jp-MarkdownHeadingCollapsed": true,
    "tags": []
   },
   "source": [
    "## Hash functions"
   ]
  },
  {
   "cell_type": "code",
   "execution_count": null,
   "id": "21cfc762-35a9-47de-abdb-03222ac0b7f7",
   "metadata": {},
   "outputs": [],
   "source": []
  },
  {
   "cell_type": "markdown",
   "id": "4c81e2d9-e75f-42c7-9760-94d95136136f",
   "metadata": {
    "jp-MarkdownHeadingCollapsed": true,
    "tags": []
   },
   "source": [
    "## Signatures"
   ]
  },
  {
   "cell_type": "code",
   "execution_count": null,
   "id": "199f1866-dbc6-438a-9250-832f7d3632fc",
   "metadata": {},
   "outputs": [],
   "source": []
  },
  {
   "cell_type": "markdown",
   "id": "ccae8eb8-1bd8-4712-a9ab-612b98abe0b8",
   "metadata": {
    "jp-MarkdownHeadingCollapsed": true,
    "tags": []
   },
   "source": [
    "## Symmetric crypto"
   ]
  },
  {
   "cell_type": "code",
   "execution_count": null,
   "id": "a1a39932-3454-479a-b3ef-05543ec5a212",
   "metadata": {},
   "outputs": [],
   "source": []
  },
  {
   "cell_type": "code",
   "execution_count": null,
   "id": "cf798d80-6b24-4c7b-aeb5-f6d9689e3b69",
   "metadata": {},
   "outputs": [],
   "source": []
  },
  {
   "cell_type": "code",
   "execution_count": null,
   "id": "9dbeb253-1220-4bdd-bd15-8d56cf48863d",
   "metadata": {},
   "outputs": [],
   "source": []
  },
  {
   "cell_type": "markdown",
   "id": "3bf0fce9-eb75-4ba9-9830-5cd996514699",
   "metadata": {},
   "source": [
    "## Questions"
   ]
  },
  {
   "cell_type": "markdown",
   "id": "f9075c38-be36-43d7-a89f-84a644a516ff",
   "metadata": {},
   "source": [
    "### Exam 1 - 3 b\n",
    "\n",
    "Describe in your own words how and why Pollard's rho method for factorization works and what the\n",
    "expected runtime is depending on the factors of n.\n",
    "\n",
    "Use this to explain why you managed to factor n in part a) and explain why the p-1 method would\n",
    "likely not have succeded for factoring n when used with B1 = 10, i.e., s =lcm(1, 2, 3, ... , 10)."
   ]
  },
  {
   "cell_type": "code",
   "execution_count": null,
   "id": "e8a2f055-135f-4a1d-8f93-c6139d182e2a",
   "metadata": {},
   "outputs": [],
   "source": []
  },
  {
   "cell_type": "markdown",
   "id": "b2a975da-2e2b-44ed-9823-052c4dabfc04",
   "metadata": {},
   "source": [
    "### Exam 1 - 4 a\n",
    "\n",
    "Explain how and why you can use Coppersmith' method to compute the missing part of m from c\n",
    "given the above information, i.e., the known part of m and that the event codes have 6 alphanumeric\n",
    "characters as well as n and e."
   ]
  },
  {
   "cell_type": "code",
   "execution_count": null,
   "id": "b83f0c7a-8908-4297-98fe-7eef3cb72661",
   "metadata": {},
   "outputs": [],
   "source": []
  },
  {
   "cell_type": "markdown",
   "id": "df57f77b-6c9c-4836-92b7-b8b8245a62e1",
   "metadata": {},
   "source": [
    "### Exam 2 - 2 e\n",
    "\n",
    "Explain why the p − 1 method was successful in factoring this n."
   ]
  },
  {
   "cell_type": "code",
   "execution_count": null,
   "id": "3f2e46df-5929-44b4-8839-2521f524c874",
   "metadata": {},
   "outputs": [],
   "source": []
  },
  {
   "cell_type": "markdown",
   "id": "327106ca-efa5-4117-b3fc-ffe7f3c77ea1",
   "metadata": {},
   "source": [
    "### Exam 4 - 5\n",
    "\n",
    "Is it Coppersmith?"
   ]
  },
  {
   "cell_type": "code",
   "execution_count": null,
   "id": "b731a93f-cf24-43ef-ac5f-fc2b4c210f9f",
   "metadata": {},
   "outputs": [],
   "source": []
  },
  {
   "cell_type": "markdown",
   "id": "f0941986-afb5-43eb-95c5-4d3495de1629",
   "metadata": {},
   "source": [
    "### Exam 4 - 2 a\n",
    "\n",
    "Give a short explanation of how and why the Pohlig-Hellman attack works and\n",
    "why the steps below allow you to compute all of b (modulo p − 1)."
   ]
  },
  {
   "cell_type": "code",
   "execution_count": null,
   "id": "b92eb78c-c7cc-40a6-b188-b5876d66a623",
   "metadata": {},
   "outputs": [],
   "source": []
  },
  {
   "cell_type": "code",
   "execution_count": 1,
   "id": "f6d38ea5-7425-471a-8e27-49748f103e09",
   "metadata": {},
   "outputs": [
    {
     "data": {
      "text/plain": [
       "4294967296"
      ]
     },
     "execution_count": 1,
     "metadata": {},
     "output_type": "execute_result"
    }
   ],
   "source": [
    "2^32"
   ]
  },
  {
   "cell_type": "code",
   "execution_count": 2,
   "id": "d0e6e23c-a1da-4551-89bd-31931cc8c2df",
   "metadata": {},
   "outputs": [
    {
     "data": {
      "text/plain": [
       "2147483648"
      ]
     },
     "execution_count": 2,
     "metadata": {},
     "output_type": "execute_result"
    }
   ],
   "source": [
    "2^32 - 2^31"
   ]
  },
  {
   "cell_type": "code",
   "execution_count": 49,
   "id": "d72ed7ce-b080-43c4-9fa6-b9bbb1386000",
   "metadata": {},
   "outputs": [
    {
     "data": {
      "text/plain": [
       "True"
      ]
     },
     "execution_count": 49,
     "metadata": {},
     "output_type": "execute_result"
    }
   ],
   "source": [
    "is_prime(3373)"
   ]
  },
  {
   "cell_type": "code",
   "execution_count": null,
   "id": "e87bd4b2-4c45-4933-8b7b-c2640f04bb71",
   "metadata": {},
   "outputs": [],
   "source": []
  }
 ],
 "metadata": {
  "kernelspec": {
   "display_name": "SageMath 9.8",
   "language": "sage",
   "name": "sagemath"
  },
  "language_info": {
   "codemirror_mode": {
    "name": "ipython",
    "version": 3
   },
   "file_extension": ".py",
   "mimetype": "text/x-python",
   "name": "python",
   "nbconvert_exporter": "python",
   "pygments_lexer": "ipython3",
   "version": "3.10.10"
  }
 },
 "nbformat": 4,
 "nbformat_minor": 5
}
