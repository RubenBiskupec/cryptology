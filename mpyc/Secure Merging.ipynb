{
 "cells": [
  {
   "cell_type": "markdown",
   "id": "467373a7-2c58-44ec-83b9-e6f430d7b5a8",
   "metadata": {
    "tags": []
   },
   "source": [
    "These notes consider secure merging of arrays using Berry Schoenmakers [MPyC](https://github.com/lschoe/mpyc) library for secure multiparty computation in Python. \n",
    "\n",
    "This document is available as a pdf but can also be run interactively as a Jupyter Notebook by downloading the ipynb file. Compiling the notebook will result in a correct pdf. Additionally, it is compatible to be compiled using the TU/e corporate LaTeX style.\n",
    "\n",
    "The section [Prerequisites](#Prerequisites) deals with some technical requirements of running the software. It is followed by [Problem](#Problem) which formalizes the problem that we consider in these notes. The two sections that follow, [Merging `seclist`s](#Merging-seclists) and [Secure merging of `list`s](#Secure-merging-of-lists) look at two different approaches for solving this merging issue securely. Finally, in [Experimental results](#Experimental-results) we run the implementations with various parameters and show their performance."
   ]
  },
  {
   "cell_type": "markdown",
   "id": "60f33e3b-4c14-468b-b6d7-277b71135809",
   "metadata": {
    "tags": []
   },
   "source": [
    "%LaTeX needed, ideally is a Raw nbconvert LaTeX cell, but th|at is not supported everywhere<br/>\n",
    "\\setcounter{section}{-1}"
   ]
  },
  {
   "cell_type": "markdown",
   "id": "d267d7b6-a178-432d-b204-f2a61d2a9cf4",
   "metadata": {
    "tags": []
   },
   "source": [
    "# Prerequisites\n",
    "In this section we consider the prerequisites for running the code in these notes. This section is merely included at the beginning of this document to allow for a logical structure of the corresponding Notebook and Python script where these commands should run first. "
   ]
  },
  {
   "cell_type": "markdown",
   "id": "c0d9b3d5-3c9e-4430-8602-f4f24a8c3d32",
   "metadata": {},
   "source": [
    "> Do you want to reproduce this report including your own output results? Run this command:\n",
    "\n",
    "```bash\n",
    "jupyter nbconvert --execute --to=pdf --allow-errors \"Secure Merging.ipynb\"\n",
    "```"
   ]
  },
  {
   "cell_type": "markdown",
   "id": "053074ae-542d-4ff0-af05-bc14bda1389c",
   "metadata": {},
   "source": [
    "First, we ensure we have installed and imported all requirements. We can only install the packages when we are using ipython."
   ]
  },
  {
   "cell_type": "code",
   "execution_count": 1,
   "id": "8883c9c6-21ef-4ced-961b-c87f66cea8d7",
   "metadata": {
    "tags": []
   },
   "outputs": [
    {
     "name": "stdout",
     "output_type": "stream",
     "text": [
      "Note: you may need to restart the kernel to use updated packages.\n"
     ]
    }
   ],
   "source": [
    "try:\n",
    "    %pip install mpyc>=0.9 numpy>=1.24.2 gmpy2>=2.1.5\n",
    "except NameError: print(\"Not running in ipython environment, so not installing packages\")\n",
    "\n",
    "from mpyc.runtime import mpc\n",
    "import math\n",
    "import random\n",
    "import sys"
   ]
  },
  {
   "cell_type": "markdown",
   "id": "008292c7-fe5c-48e0-b5df-e9b0a739e50e",
   "metadata": {
    "tags": []
   },
   "source": [
    "At some point, we will run part of this notebook as a script; if we do, we start the `mpc` environment"
   ]
  },
  {
   "cell_type": "code",
   "execution_count": 2,
   "id": "a34920ee-b2ee-43d3-9106-b78fe2e94b74",
   "metadata": {
    "tags": []
   },
   "outputs": [],
   "source": [
    "if len(sys.argv) > 1:\n",
    "    mpc.run(mpc.start())"
   ]
  },
  {
   "cell_type": "markdown",
   "id": "ba34ab36-de0e-45ea-9871-d8ba10ff64f1",
   "metadata": {},
   "source": [
    "For quick referencing, we use `seclist` and `secint`. When running from this notebook, `secint` will be the type of 32-bit integers, but when we run this notebook as a script, we can specify the bitlength using the `-L` argument"
   ]
  },
  {
   "cell_type": "code",
   "execution_count": 3,
   "id": "7e0c7895-b854-4a9e-8201-9c1db48494e5",
   "metadata": {
    "tags": []
   },
   "outputs": [],
   "source": [
    "secint = mpc.SecInt()\n",
    "from mpyc.seclists import seclist"
   ]
  },
  {
   "cell_type": "markdown",
   "id": "40d5baa3-b0f4-441b-a88d-fa9fb42422c7",
   "metadata": {},
   "source": [
    "# Problem\n",
    "The problem that we consider is the problem of securely merging two lists of secure integers $x$ and $y$ into one list $z$. $x$, $y$ and $z$ shall be sorted non-decreasingly and hence may contain duplicates.\n",
    "\n",
    "The problem is applied to the field of multiparty computation where the following restrictions apply: without the protocol specifying, there should be no information about the lists known to any of the participants or an outsider. Throughout these notes, we will consider 'securely merging' to mean that no information about the content, other than the length of each of $x$, $y$ and $z$ becomes known. Clearly, it is unavoidable to share the length of the array as each of the parties must hold a part of the values in the list. "
   ]
  },
  {
   "cell_type": "markdown",
   "id": "8933cc73-5b56-49fb-9f04-ca1d4a8e512f",
   "metadata": {
    "tags": []
   },
   "source": [
    "## Abstraction\n",
    "To allow us to write general code, we generalize the format of the code here. We also define some helping functions we will use later."
   ]
  },
  {
   "cell_type": "code",
   "execution_count": 4,
   "id": "071e07f1-f353-4c90-aa08-ebb4856abb04",
   "metadata": {
    "tags": []
   },
   "outputs": [],
   "source": [
    "class listMergerInterface:\n",
    "    _done = False\n",
    "    compareCount = 0\n",
    "    length = None\n",
    "    \n",
    "    def __init__(self, listA, listB):\n",
    "        self.listR = listA + listB\n",
    "        if self.length == None: self.length = len(listA) + len(listB)\n",
    "\n",
    "    @mpc.coroutine\n",
    "    async def _merge(self):\n",
    "        raise NotImplementedError(\"Trying to run merge on an abstract interface\")\n",
    "    \n",
    "    @mpc.coroutine\n",
    "    async def _padd(self, α, N = 0):\n",
    "        if N == 0: #By default we pad to the next power of 2\n",
    "            N = 2**math.ceil(math.log(len(α),2))\n",
    "        for i in range(len(α), N):\n",
    "            α.append(secint(2**32 - 1))\n",
    "    \n",
    "    # Coroutine to swap elements u and v of an array t if c is True\n",
    "    @mpc.coroutine\n",
    "    async def _swap(self, t, u, v):\n",
    "        t[u], t[v] = mpc.if_swap(\n",
    "            c,\n",
    "            t[v],\n",
    "            t[u]\n",
    "        )\n",
    "    \n",
    "    @mpc.coroutine\n",
    "    async def merge(self):\n",
    "        await mpc.returnType(secint, self.length)\n",
    "        if self._done == False:\n",
    "            self._merge()\n",
    "            self._done = True\n",
    "        # We know this already before doing it\n",
    "        print(\"Total number of comparisons: \" + str(self.compareCount))\n",
    "        return self.listR"
   ]
  },
  {
   "cell_type": "markdown",
   "id": "1067d120-1223-4350-aa4a-4854438fccf7",
   "metadata": {
    "tags": []
   },
   "source": [
    "# Merging `seclist`s\n",
    "In this algorithm, we implement the classic merge of two sorted arrays. We declare two indexes, i for list A, and j for list B. Then we iterate through the arrays, at each step, we compare the elements at the current indices. We add the smallest one to the result list R, and increase the respective index. One small detail is that we also append a `MAX_INT` value, $2^{32} - 1$ as the last element of the list, this way we never iterate through the whole array and we can keep making comparisons until the end, thus keeping the computation oblivious. At the end of the computation, we return the final list without including those 2 elements.\n",
    "\n",
    "## Correctness\n",
    "Since both lists are already ordered in ascending order, and we keep adding the smallest element between the two lists, from left to right, at each iteration, the final list R will also be sorted. The algorithm works for lists of different sizes.\n",
    "\n",
    "## Security\n",
    "In our implementation, the lists are secure lists, as well as the indices i and j. Keeping the indices secret makes it so the parties do not know if elements of array A or B are being added to R. Keeping them public would leak that an element of which array is being added to R at every step.  We also make use of secure if statements and comparisons at all times. The only information being leaked is the length of the arrays, but that is not a problem.\n",
    "\n",
    "## Complexity and run-time\n",
    "The algorithm runs in linear time of operations and comparisons, so $O(n)$, where $n$ is the length of the final array. The space complexity is also linear because the merging does not happen in-place. This algorithm is not very performant for multi-party computation because we need to use both secure lists and 2 secure integers. Seclists are also very slow, this solution uses the most of communication bytes between the algorithms algorithm presented in the assignment and it is the slowest by far.\n"
   ]
  },
  {
   "cell_type": "code",
   "execution_count": 5,
   "id": "855aece8-514f-4bd8-a692-7865bf92aca0",
   "metadata": {
    "tags": []
   },
   "outputs": [],
   "source": [
    "class seclistMerge(listMergerInterface):\n",
    "    @mpc.coroutine\n",
    "    async def __init__(self, listA, listB):\n",
    "        self.length = len(listA) + len(listB)\n",
    "        # We add extra elements to prevent looping back to the first element\n",
    "        # We never add these to the inal list because we stop once we have len(p) + len(q) elements\n",
    "        listA.append(2**32 - 1)\n",
    "        listB.append(2**32 - 1)\n",
    "        self.listA = listA\n",
    "        self.listB = listB\n",
    "        super().__init__(listA, listB)\n",
    "        self.listR = seclist([], secint)\n",
    "\n",
    "    @mpc.coroutine\n",
    "    async def _merge(self):\n",
    "        p, q = self.listA, self.listB\n",
    "        \n",
    "        i,j = secint(0),secint(0) #Indices may reveal where we are\n",
    "        r, n = self.listR, self.length\n",
    "\n",
    "        while len(r) < n:\n",
    "            # We use a secure if else statement so you don't know which number we are adding to the result list\n",
    "            c = mpc.and_(\n",
    "                    mpc.lt(p[i],q[j]),\n",
    "                    mpc.lt(i, len(p) - 1) # To make sure we never add the last element of p\n",
    "            ); self.compareCount += 1\n",
    "            new_number = mpc.if_else(c, p[i], q[j])\n",
    "            increase_i = mpc.if_else(c,1,0)\n",
    "            r.append(new_number)\n",
    "\n",
    "            # Our position j in the second list is always len(r) - i\n",
    "            i += increase_i\n",
    "            j = len(r) - i"
   ]
  },
  {
   "cell_type": "markdown",
   "id": "e8509782-65f7-4fa1-8674-f5e6d4349d40",
   "metadata": {
    "tags": []
   },
   "source": [
    "# Secure merging of `list`s\n",
    "This section considers solutions that do not user `MPyC`s `seclist` datatype, but instead rely on secure integers that are stored in normal arrays."
   ]
  },
  {
   "cell_type": "markdown",
   "id": "3b46f146-b75a-4d28-aef6-2fefebfad2c1",
   "metadata": {},
   "source": [
    "## Bitonic merge (and sort)\n",
    "The second algorithm we consider is another by Batcher. His bitonic sorter\\cite{wiki-batcherbitonic} is an algorithm that works on two arrays of equal length where that length is a power of two. We opt to generalize this by padding both arrays to a power of two they both fit in: $2^{\\lceil {\\log_2{\\max(|listA|,|listB|}} \\rceil}$. On output, we use the fact that we only return the `self.length` items we specified.\n",
    "\n",
    "It is possible to generalize this algorithm to work on arrays of arbitrary length; however, to ensure obliviousness this requires the same amount of comparisons as by padding the array to the next power of 2.\n",
    "\n",
    "### Correctness\n",
    "The idea of the bitonic sorter is that it sorts a list by first sorting two sublists of size $\\frac{n}{2}$, one ascending and one descending, to obtain a bitonic list of size $n$. This list is then again sorted by comparing the $i$th element to the $i + \\frac{n}{2}$th element, the $i + \\frac{n}{4}$th element, .., $i + \\frac{n}{n}$th element, thus comparing each element to $\\log_2{n}$ elements. In the implementation below, we do it slightly more involved by computing the bitwise or of the partner and making sure we only do forwards comparisons ($i>l$).\n",
    "\n",
    "When we start the array is bitonic, which means that the element that is stored at position $0$ is smaller than at least $\\frac{n}{2^1} - 1$ elements, because elements $1 ... \\frac{n}{2^1}$ are guaranteed to be smaller. Hence, it never moves down more than $\\frac{n}{2^1}$ positions. The same holds for all elements until position $\\frac{n}{2^1}$. We will also never move an element up more than this amount. Thus, after we have run the algorithm for $j = 1$, we know that the lower half of the array is in the first half and the highest numbers are in the second half. After we have run for $j=2$, we have split it in $2^2=4$ parts. After we have run it for all $j$s, we are left with a sorted array. \n",
    "\n",
    "### Security\n",
    "The algorithm works on lists of secure integers. This means that all parties can see what integers we are updating. However, as is the case for [Batcher's odd-even mergesort](Batcher's-odd-even-mergesort), the indices of the elements we update only depend on the length of the array which is public. This means that the indices can be public knowledge. \n",
    "\n",
    "The swaps we perform use the built-in conditional swap function `if_swap` which will perform a swap securely: $x, y = x + d, y - d$ with $d = c * (y-x)$ the difference depending on the condition $c$ which is 1 if we need to swap and 0 otherwise. Since we are always updating both elements, none of the parties know which elements we are swapping. \n",
    "\n",
    "Note that to ensure security, we cannot use the optimization that is argued for traditional algorithms. If $i$ and $i + \\frac{n}{2^j}$ are swapped, you normally always need to swap $i + 1$ and $i + \\frac{n}{2^j}$. However, we may not take this optimization because this condition is not secure and computing the OR securely will take the same amount of time as doing another comparison. Another frequently argued optmization is that once element $i$ is swapped into $i + \\frac{n}{2^j}$, we will never have to update $i + \\frac{n}{2^j}$ again, but we also cannot keep track of elements we have already updated. \n",
    "\n",
    "### Complexity and runtime\n",
    "As argued before, we compare each of the $n$ elements to $\\log_2{n}$ other elements. Taking into account $i>l$ means we do $\\dfrac{n \\cdot \\log_2{n}}{2} = n \\cdot (\\log_2{n}-1)$ comparisons. This is both an upper and lower bound on the number of comparisons as we will see in the experimental part of these notes.\n",
    "\n",
    "Depending on the result of the comparison, we perform a swap. Due to the nature of multiparty-computation, we will always perform this swap. However, the swap does not require an extra operation. This means that all our comparisons include a swap. The complexity of the swap is linear in the amount of parties; we add once and we subtract once, which is linear and we do one multiplication which is slightly worse. To verify this, we check that the amount of time we take is linear in the number of comparisons. \n",
    "\n",
    "### A note on sorting\n",
    "Note that we only consider the bitonic merging part of the algorithm, i.e. one round; it is possible to extend this to multiple rounds to get a full sorting algorithm, by replacing the loop for $k$ and before swapping checking whether you are in an increasing part or decreasing part of the full list.\n",
    "\n",
    "When 'upgrading' the bitonic merge to a bitonic sorter, complexity increases from $n \\cdot (\\log_2{n}-1)$ comparisons to $n \\cdot (\\log_2{n}-1) \\cdot \\log_2{n}$ comparisons as you have to do $\\log_2{n}$ rounds to sort the sublists of length $1, 2, 4, \\dots, n$."
   ]
  },
  {
   "cell_type": "code",
   "execution_count": 6,
   "id": "ad4d79f9-c586-4fbb-80eb-11400888c8ef",
   "metadata": {
    "tags": []
   },
   "outputs": [],
   "source": [
    "class bitonicMerge(listMergerInterface):\n",
    "    @mpc.coroutine\n",
    "    async def __init__(self, listA, listB):\n",
    "        self.length = len(listA) + len(listB)\n",
    "        maxLength = 2**math.ceil(math.log(max(len(listA),len(listB)),2))\n",
    "        self._padd(listA, N=maxLength)\n",
    "        self._padd(listB, N=maxLength)\n",
    "        listB.reverse()\n",
    "        super().__init__(listA, listB)\n",
    "\n",
    "    @mpc.coroutine\n",
    "    async def _merge(self):\n",
    "        r, N = self.listR, len(self.listR)\n",
    "\n",
    "        # If the input is not bitonic, we may use the following instead\n",
    "        #for k in [2**z for z in range(0,math.ceil(math.log(N+1,2)))]:\n",
    "        for k in range(N,N+1):\n",
    "            for j in [math.floor(k*2**(-z)) for z in range(1,math.ceil(math.log(k+1,2)))]:\n",
    "                    for i in range(0,N):\n",
    "                        l = i ^ j\n",
    "                        if (l > i):\n",
    "                            #Decide using bitwise and if we are in the ascending \n",
    "                            #or descending part, NOT relevant for merging\n",
    "                            if (i & k == 0): #Ascending\n",
    "                                c = mpc.lt(r[l], r[i]); self.compareCount += 1\n",
    "                                r[i], r[l] = mpc.if_swap(c, r[i], r[l])\n",
    "                            else: #Descending, only relevant with sublists\n",
    "                                c = mpc.lt(r[i], r[l]); self.compareCount += 1\n",
    "                                r[i], r[l] = mpc.if_swap(c, r[i], r[l])"
   ]
  },
  {
   "cell_type": "markdown",
   "id": "0d2f9595-c496-4ac7-b696-f223d60eb6f0",
   "metadata": {},
   "source": [
    "## Batcher's odd-even mergesort\n",
    "\n",
    "The first algorithm that we implement is a variant of Batcher's odd-even mergesort. The implementation given below is based on the pseudocode on the corresponding Wikipedia page\\cite{wiki-batcheroddeven}. \n",
    "\n",
    "Note that due to the way the merging network is constructed, we must always execute the full depth and cannot optimize based on the knowledge we already have about the existing sorting; this also means it is possible to merge arrays of non-equal length. This algorithm is able to sort arrays of arbitrary length, including numbers that are not a power of 2. \n",
    "\n",
    "### Security\n",
    "The algorithm performs the same steps for every input of the same size, regardless of the values, so all the indices can be kept public. The only secret operation is the if statement where we can secretly swap the two elements.\n",
    "\n",
    "### Correctness\n",
    "The algorithm is built upon the iterative use of the merging networks as shown in \\cite{batchersort}. A detailed proof of Batcher's odd-even merge can be found in Appendix A of aforementioned paper.\n",
    "\n",
    "### Complexity and run-time\n",
    "For this algorithm, we double a $p$ continuously until we hit $N$. This means we take $\\log_2{N}$ steps. For each of these $p$s we take $\\log_2{p}$ different $k$s for which we range over all elements of $N$. For all of these, we do a single comparison and exactly one swap. This means we take $\\Theta(N \\cdot \\log^2_2{n})$ comparisons. We have argued that time is linear in the amount of comparisons, so that is also our time complexity. "
   ]
  },
  {
   "cell_type": "code",
   "execution_count": 7,
   "id": "3e4a755d-8005-496e-987b-2d44e713b5e6",
   "metadata": {
    "tags": []
   },
   "outputs": [],
   "source": [
    "class batcherMerge(listMergerInterface):\n",
    "    @mpc.coroutine\n",
    "    async def _merge(self):\n",
    "        r, N = self.listR, len(self.listR)\n",
    "\n",
    "        for p in [2**i for i in range(0,math.floor(math.log(N,2)) + 1)]:\n",
    "            for k in [round(p * 2**(-i)) for i in range(0,math.floor(math.log(p,2)) + 1)]:\n",
    "                for j in range(k % p, N-k, 2*k):\n",
    "                    for i in range(0, min(k,N-j-k)):\n",
    "                        if ((i + j) // (p*2) == (i+j+k)//(p*2)):\n",
    "                            c=mpc.lt(r[i+j+k],r[i+j]); self.compareCount += 1\n",
    "                            r[i+j+k], r[i+j] = mpc.if_swap(c, r[i+j+k], r[i+j])"
   ]
  },
  {
   "cell_type": "markdown",
   "id": "eb5ff54f-dc3d-4a50-943b-547614f63bca",
   "metadata": {},
   "source": [
    "## Knuth's merge-exchange sort\n",
    "This algorithm is an implementation of the merge-exchange sorting algorithm Knuth \\cite{knuth} attributes to Batcher. We implemented algorithm M from \\cite{knuth}. This is an optimization of our implementation of Batcher's algorithm for merging. Due to the way this algorithm is constructed, we are also able to only merge arrays with length a power of 2. \n",
    "\n",
    "## Correctness\n",
    "Due to the highly optimized nature, the proof is quite elaborate, but various variants can be found in \\cite{knuth} pages 111-114. The code below is annotated with the corresponding steps \\texttt{M1} to \\texttt{M6} in \\cite{knuth}.\n",
    "\n",
    "## Security\n",
    "As was the case for the [Bitonic sort](#Bitonic-sort), the steps of the algorithm only depend on the value of $N$, being the length of the array. This means that we don't leek any information that was not public before by performing the steps. Whether we swap two elements or not depends on a condition we securely evaluate, always updating both elements using aforementioned `if_swap`. \n",
    "\n",
    "## Complexity and run-time\n",
    "When we look at the algorithm, we see the outer loop starts at $p = 2^t \\approx N$ where $N$ is the length of the array. We half this each time, so we do $\\log_2{n}$ steps in this outer loop. Then we linearly range over somewhere between $\\frac{N}{2}$ and $N$ elements. This will take approximately the same amount of steps as the previously mentioned bitonic merge, skipping a few items potentially, but ending at $\\Theta(N \\cdot \\log_2{N})$ comparisons."
   ]
  },
  {
   "cell_type": "code",
   "execution_count": 8,
   "id": "8022a363-0620-4094-8621-17397edb4aa0",
   "metadata": {
    "tags": []
   },
   "outputs": [],
   "source": [
    "class knuthMerge(listMergerInterface):\n",
    "    @mpc.coroutine\n",
    "    async def __init__(self, listA, listB):\n",
    "        self.length = len(listA) + len(listB)\n",
    "        maxLength = 2**math.ceil(math.log(max(len(listA),len(listB)),2))\n",
    "        self._padd(listA, N=maxLength)\n",
    "        self._padd(listB, N=maxLength)\n",
    "        super().__init__(listA, listB)\n",
    "        \n",
    "    @mpc.coroutine\n",
    "    async def _merge(self):\n",
    "        R, N =  self.listR, len(self.listR)\n",
    "\n",
    "        t = math.ceil(math.log(N,2)) #M1\n",
    "        p = 2**(t-1)\n",
    "        while p > 0: #M1\n",
    "            #print(\"p=\" + str(p))\n",
    "            q = 2**(t-1)            #M2\n",
    "            r = 0                   #M2\n",
    "            d = p                   #M2\n",
    "            for i in range(0, N-d): #M3\n",
    "                if i & p == r:      #M3\n",
    "                    c = mpc.lt(R[i], R[i+d]); self.compareCount += 1\n",
    "                    R[i], R[i+d] = mpc.if_swap(c, R[i+d], R[i]) #M4\n",
    "                while q != p: #M5\n",
    "                    d = q - p #M5\n",
    "                    q = q//2  #M5\n",
    "                    r = p     #M5\n",
    "            p //= 2 #M6"
   ]
  },
  {
   "cell_type": "markdown",
   "id": "c67ccdc0-feee-4064-8334-d730a8ed73c7",
   "metadata": {},
   "source": [
    "# Experimental results\n",
    "To confirm a few of the aforementioned bounds, we collected data on the various algorithms. [Appendix A](#Data-collection) describes how the framework was set up to collect the data. There is a few different results we gathered, each explained in their own section.\n",
    "\n",
    "## Relation between number of comparisons and time\n",
    "Some of the proofs argued that time complexity was linear in the number of comparisons. In [Figure 3](#Figure-3), we show that this is indeed the case for [Batcher's odd-even mergesort](#Batcher's-odd-even-mergesort), [Knuth's merge-exchangesort](#Knuth's-merge-exchange-sort) and [Bitonic merge](#Bitonic-merge-(and-sort)). \n",
    "\n",
    "## Relation between array length and time\n",
    "For each of the algorithms, we run the algorithm with 3 parties and various array length. They have been plotted in [Figure 1](#Figure-1). A detail for array lengths up to 128 is shown in [Figure 2](#Figure-2). \n",
    "\n",
    "For the implementation using `seclist`, we see that the amount of time increases by a lot when we double the array size. For $|x| = |y| = 128$ we see that it takes almost a minute to run. For $|x| = |y| = 256$, we see that we already need more than double the amount of time. This means that this implementation is not very scalable to larger input sizes which corresponds to the time complexity argued before.\n",
    "\n",
    "We see that Batcher's odd-even mergesort is slightly quicker than that, but still takes a lot of time.\n",
    "\n",
    "Although Knuth's exchange mergesort and Bitonic merge don't look alike, their performance is always best in our testcases, merging two arrays of 1024 elements in less than 1 minute.\n",
    "\n",
    "## Relation between number of parties and time\n",
    "We also looked at the number of parties with which we run the algorithm. For a fixed length $|x| = |y| = 16$, we run all of the algorithms and get the result as shown in [Figure 4](#Figure-4). \n",
    "\n",
    "Apart from noticing that the `seclist` implementation again is the slowest, we can also see that it increases in time quite a bit as does Batcher's odd-even mergesort. For Knuth's exchange-mergesort and Bitonic merge by Batcher, we see that we get much more realistic results for larger number of parties so those algorithms are clearly recommended when running with larger arrays and more parties. \n"
   ]
  },
  {
   "cell_type": "markdown",
   "id": "36f88aaf-e62d-4982-9f81-50bdf0935305",
   "metadata": {},
   "source": [
    "% nbconvert does not allow us to use BibTeX easily, so we will do it this way\n",
    "\\begin{thebibliography}{1}\n",
    "\\bibitem{batchersort} Sorting networks and their applications (1968) \\emph{Batcher, K. E.}. Spring Joint Computer Conference. Available at: \\url{https://www.cs.kent.edu/~batcher/sort.pdf} (Accessed: April 12, 2023).\n",
    "\\bibitem{knuth} The art of computer programming: Volume 3: Sorting and Searching (1998) \\emph{Knuth, D. E.}. Addison-Wesley Professional.\n",
    "\\bibitem{wiki-batcheroddeven} Batcher odd–even mergesort (2023) \\emph{Wikipedia}. Wikimedia Foundation. Available at: \\url{https://en.wikipedia.org/w/index.php?title=Batcher_odd-even_mergesort\\&oldid=1149453264} (Accessed: April 12, 2023).\n",
    "\\bibitem{wiki-batcherbitonic} Bitonic sorter (2023) \\emph{Wikipedia}. Wikimedia Foundation. Available at: \\url{https://en.wikipedia.org/w/index.php?title=Bitonic_sorter&oldid=1140526862} (Accessed: April 12, 2023).\n",
    "\\end{thebibliography}"
   ]
  },
  {
   "cell_type": "markdown",
   "id": "c74db69f-133b-4517-9cad-23cccf435947",
   "metadata": {},
   "source": [
    "\\newpage\n",
    "\\appendix\n",
    "\n",
    "# Data collection\n",
    "This appendix explains the experimental results that were obtained and referenced to\n"
   ]
  },
  {
   "cell_type": "code",
   "execution_count": 9,
   "id": "ce25b718-ff2d-4bf6-95f7-a8cd97243c1c",
   "metadata": {
    "tags": []
   },
   "outputs": [],
   "source": [
    "@mpc.coroutine\n",
    "async def randomSortedList(length,seed):\n",
    "    # To be able to pre-sort the two lists, we need regular integers here\n",
    "    # and cannot work with secure integers, because then we would need to \n",
    "    # sort regular lists of secure integers which we can't\n",
    "    # We actually need to set the seed immediately before we generate the \n",
    "    # list for consistency reasons\n",
    "    random.seed(seed)\n",
    "    l = list()\n",
    "    for i in range(0,length):\n",
    "        l.append(random.randint(0,2**20))\n",
    "    l.sort()\n",
    "    return l\n",
    "\n",
    "async def main(algorithm, subarraylength):\n",
    "    global listCombined\n",
    "    \n",
    "    # We share a random value to generate the same list on both endpoints\n",
    "    rnd = await mpc.output(mpc.random.randint(secint, 0, 2**31))\n",
    "    listA = randomSortedList(subarraylength,rnd)\n",
    "    listB = randomSortedList(subarraylength,rnd+1)\n",
    "\n",
    "    # The result we want to obtain\n",
    "    listCombined = listA + listB\n",
    "    listCombined.sort()\n",
    "    \n",
    "    listA = [secint(a) for a in listA]\n",
    "    listB = [secint(a) for a in listB]\n",
    "    \n",
    "    match algorithm:\n",
    "        case 'seclist':\n",
    "            # Convert the input to secure lists\n",
    "            listA = seclist(listA, secint)\n",
    "            listB = seclist(listB, secint)\n",
    "            sortObj = seclistMerge(listA, listB)\n",
    "        case 'batcher':\n",
    "            sortObj = batcherMerge(listA,listB)\n",
    "        case 'knuth':\n",
    "            sortObj = knuthMerge(listA,listB)\n",
    "        case 'bitonic':\n",
    "            sortObj = bitonicMerge(listA,listB)\n",
    "        case _:\n",
    "            print(\"specify one of seclist, batcher, knuth or bitonic\")\n",
    "            sys.exit()\n",
    "    \n",
    "    output = await mpc.output(sortObj.merge())\n",
    "    #rint(output)\n",
    "\n",
    "    print(\"List sorted?: \" + str(output == listCombined))\n",
    "    #rint(listCombined)\n",
    "    \n",
    "    return\n",
    "\n",
    "if len(sys.argv) > 1:\n",
    "    mpc.run(main(sys.argv[1], int(sys.argv[2])))"
   ]
  },
  {
   "cell_type": "code",
   "execution_count": 10,
   "id": "d44415eb-d0c7-47fb-8330-a5e36574244c",
   "metadata": {
    "tags": []
   },
   "outputs": [],
   "source": [
    "if len(sys.argv) > 1:\n",
    "    mpc.run(mpc.shutdown())\n",
    "    import sys; sys.exit()\n",
    "    quit"
   ]
  },
  {
   "cell_type": "markdown",
   "id": "0bb25dc6-7554-4806-98f4-2cc270e606a1",
   "metadata": {},
   "source": [
    "We convert the current script to a Python file (which stops at above `sys.exit()`) so we can call this script later. "
   ]
  },
  {
   "cell_type": "code",
   "execution_count": 11,
   "id": "347f8856-f8a7-4ab3-947d-9be52f656713",
   "metadata": {
    "tags": []
   },
   "outputs": [
    {
     "name": "stdout",
     "output_type": "stream",
     "text": [
      "[NbConvertApp] Converting notebook Secure Merging.ipynb to python\n",
      "[NbConvertApp] Writing 30604 bytes to Secure_Merging.py\n"
     ]
    }
   ],
   "source": [
    "!jupyter nbconvert --to=python --allow-errors \"Secure Merging.ipynb\" --output=\"Secure_Merging.py\""
   ]
  },
  {
   "cell_type": "code",
   "execution_count": 12,
   "id": "d49c0721-640a-4e53-a9b2-8f9ad9bdaf79",
   "metadata": {
    "tags": []
   },
   "outputs": [],
   "source": [
    "import os\n",
    "def runOne(participants, algorithm, arraysize, bitlength=32):\n",
    "    result = {\"Algorithm\": algorithm, \"Array size\": arraysize}\n",
    "    command = \"python Secure_Merging.py -M%d -B 11443 -L%d '%s' %d\" % (participants, bitlength, algorithm, arraysize)\n",
    "    #command = \"ipython Secure_Merging.py -- -M%d -B 11443 -L%d '%s' %d\" % (participants, bitlength, algorithm, arraysize)\n",
    "    cmd_output = os.popen(command).read()\n",
    "    for line in cmd_output.split(\"\\n\"):\n",
    "        if \"List sorted?\" in line:\n",
    "            result[\"Sorted\"] = line == \"List sorted?: True\"\n",
    "            if not result[\"Sorted\"]: raise RuntimeError(\"Output is not correct\")\n",
    "        if \"Total number of comparisons\" in line:\n",
    "            result[\"Comparisons\"] = int(line[29:])\n",
    "        if \"parties connected\" in line:\n",
    "            result[\"Parties\"] = int(line.split(\"All \")[1].split(\" \")[0])\n",
    "        if \"elapsed time\" in line:\n",
    "            result[\"Time\"] = line.split(\"elapsed time: \")[1].split(\"|\")[0]\n",
    "            result[\"Bytes\"] = int(line.split(\"bytes sent: \")[1])\n",
    "    if len(result) < 6: raise RuntimeError(cmd_output.split(\"\\n\"))\n",
    "    return result"
   ]
  },
  {
   "cell_type": "code",
   "execution_count": 13,
   "id": "a460215a-d47e-41bf-a710-0a6e38e62483",
   "metadata": {
    "tags": []
   },
   "outputs": [],
   "source": [
    "algorithms = {\n",
    "    \"seclist\": \"#ff7f00\",  #orange\n",
    "    \"batcher\": \"#984ea3\",  #purple\n",
    "    \"knuth\":   \"#377eb8\",  #blue\n",
    "    \"bitonic\": \"#999999\",  #gray\n",
    "}"
   ]
  },
  {
   "cell_type": "code",
   "execution_count": 14,
   "id": "33ea4f5b-04bb-458c-b8b4-1d91685cc42e",
   "metadata": {
    "tags": []
   },
   "outputs": [
    {
     "data": {
      "text/plain": [
       "{'Algorithm': 'seclist',\n",
       " 'Array size': 10,\n",
       " 'Parties': 3,\n",
       " 'Comparisons': 20,\n",
       " 'Sorted': True,\n",
       " 'Time': '0:00:02.103',\n",
       " 'Bytes': 281502}"
      ]
     },
     "execution_count": 14,
     "metadata": {},
     "output_type": "execute_result"
    }
   ],
   "source": [
    "runOne(3, \"seclist\", 10)"
   ]
  },
  {
   "cell_type": "code",
   "execution_count": 15,
   "id": "b2030864-026b-495d-b22a-3a1b6a3a3c98",
   "metadata": {
    "tags": []
   },
   "outputs": [
    {
     "name": "stdout",
     "output_type": "stream",
     "text": [
      "Requirement already satisfied: pandas in /opt/conda/lib/python3.10/site-packages (2.0.0)\n",
      "Requirement already satisfied: pytz>=2020.1 in /opt/conda/lib/python3.10/site-packages (from pandas) (2023.3)\n",
      "Requirement already satisfied: python-dateutil>=2.8.2 in /opt/conda/lib/python3.10/site-packages (from pandas) (2.8.2)\n",
      "Requirement already satisfied: tzdata>=2022.1 in /opt/conda/lib/python3.10/site-packages (from pandas) (2023.3)\n",
      "Requirement already satisfied: numpy>=1.21.0 in /opt/conda/lib/python3.10/site-packages (from pandas) (1.24.2)\n",
      "Requirement already satisfied: six>=1.5 in /opt/conda/lib/python3.10/site-packages (from python-dateutil>=2.8.2->pandas) (1.16.0)\n",
      "Note: you may need to restart the kernel to use updated packages.\n",
      "Requirement already satisfied: matplotlib in /opt/conda/lib/python3.10/site-packages (3.7.1)\n",
      "Requirement already satisfied: pillow>=6.2.0 in /opt/conda/lib/python3.10/site-packages (from matplotlib) (9.5.0)\n",
      "Requirement already satisfied: numpy>=1.20 in /opt/conda/lib/python3.10/site-packages (from matplotlib) (1.24.2)\n",
      "Requirement already satisfied: python-dateutil>=2.7 in /opt/conda/lib/python3.10/site-packages (from matplotlib) (2.8.2)\n",
      "Requirement already satisfied: cycler>=0.10 in /opt/conda/lib/python3.10/site-packages (from matplotlib) (0.11.0)\n",
      "Requirement already satisfied: packaging>=20.0 in /opt/conda/lib/python3.10/site-packages (from matplotlib) (23.0)\n",
      "Requirement already satisfied: kiwisolver>=1.0.1 in /opt/conda/lib/python3.10/site-packages (from matplotlib) (1.4.4)\n",
      "Requirement already satisfied: pyparsing>=2.3.1 in /opt/conda/lib/python3.10/site-packages (from matplotlib) (3.0.9)\n",
      "Requirement already satisfied: fonttools>=4.22.0 in /opt/conda/lib/python3.10/site-packages (from matplotlib) (4.39.3)\n",
      "Requirement already satisfied: contourpy>=1.0.1 in /opt/conda/lib/python3.10/site-packages (from matplotlib) (1.0.7)\n",
      "Requirement already satisfied: six>=1.5 in /opt/conda/lib/python3.10/site-packages (from python-dateutil>=2.7->matplotlib) (1.16.0)\n",
      "Note: you may need to restart the kernel to use updated packages.\n"
     ]
    }
   ],
   "source": [
    "%pip install pandas\n",
    "%pip install matplotlib\n",
    "import pandas as pd\n",
    "from IPython.display import display"
   ]
  },
  {
   "cell_type": "code",
   "execution_count": 16,
   "id": "d40f8944-24b3-4844-8220-c5b9d22b7128",
   "metadata": {
    "tags": []
   },
   "outputs": [],
   "source": [
    "df = pd.DataFrame(columns=[\"Algorithm\", \"Array size\", \"Parties\", \"Sorted\", \"Comparisons\", \"Time\", \"Bytes\"])"
   ]
  },
  {
   "cell_type": "code",
   "execution_count": 17,
   "id": "f02794f4-f2fa-4333-9ff7-57c7d8933d8b",
   "metadata": {
    "tags": []
   },
   "outputs": [
    {
     "data": {
      "text/plain": [
       "'Doing bitonic for length 96'"
      ]
     },
     "metadata": {},
     "output_type": "display_data"
    }
   ],
   "source": [
    "# Here we generate data for the various algorithms:\n",
    "for length in [2**i for i in range(0, 11)]:\n",
    "    for algorithm in algorithms.keys():\n",
    "        if length >= 257 and algorithm == \"seclist\": continue\n",
    "        if length >= 513 and algorithm == \"batcher\": continue\n",
    "        display(\"Doing \" + str(algorithm) + \" for length \" + str(length),clear=True)\n",
    "        df.loc[len(df)] = runOne(3, algorithm, length)\n",
    "        \n",
    "for length in [2**i - 2**(i-2) for i in range(3,8)]:\n",
    "    for algorithm in algorithms.keys():\n",
    "        if length >= 257 and algorithm == \"seclist\": continue\n",
    "        if length >= 513 and algorithm == \"batcher\": continue\n",
    "        display(\"Doing \" + str(algorithm) + \" for length \" + str(length),clear=True)\n",
    "        df.loc[len(df)] = runOne(3, algorithm, length)"
   ]
  },
  {
   "cell_type": "code",
   "execution_count": 18,
   "id": "3a5dfda2-5cb0-41dd-928c-6647f5ce8ed4",
   "metadata": {
    "tags": []
   },
   "outputs": [
    {
     "data": {
      "text/html": [
       "<div>\n",
       "<style scoped>\n",
       "    .dataframe tbody tr th:only-of-type {\n",
       "        vertical-align: middle;\n",
       "    }\n",
       "\n",
       "    .dataframe tbody tr th {\n",
       "        vertical-align: top;\n",
       "    }\n",
       "\n",
       "    .dataframe thead th {\n",
       "        text-align: right;\n",
       "    }\n",
       "</style>\n",
       "<table border=\"1\" class=\"dataframe\">\n",
       "  <thead>\n",
       "    <tr style=\"text-align: right;\">\n",
       "      <th></th>\n",
       "      <th>Algorithm</th>\n",
       "      <th>Array size</th>\n",
       "      <th>Parties</th>\n",
       "      <th>Sorted</th>\n",
       "      <th>Comparisons</th>\n",
       "      <th>Time</th>\n",
       "      <th>Bytes</th>\n",
       "    </tr>\n",
       "  </thead>\n",
       "  <tbody>\n",
       "    <tr>\n",
       "      <th>0</th>\n",
       "      <td>seclist</td>\n",
       "      <td>1</td>\n",
       "      <td>3</td>\n",
       "      <td>True</td>\n",
       "      <td>2</td>\n",
       "      <td>0:00:00.220</td>\n",
       "      <td>26894</td>\n",
       "    </tr>\n",
       "    <tr>\n",
       "      <th>1</th>\n",
       "      <td>batcher</td>\n",
       "      <td>1</td>\n",
       "      <td>3</td>\n",
       "      <td>True</td>\n",
       "      <td>1</td>\n",
       "      <td>0:00:00.066</td>\n",
       "      <td>4264</td>\n",
       "    </tr>\n",
       "    <tr>\n",
       "      <th>2</th>\n",
       "      <td>knuth</td>\n",
       "      <td>1</td>\n",
       "      <td>3</td>\n",
       "      <td>True</td>\n",
       "      <td>1</td>\n",
       "      <td>0:00:00.047</td>\n",
       "      <td>4012</td>\n",
       "    </tr>\n",
       "    <tr>\n",
       "      <th>3</th>\n",
       "      <td>bitonic</td>\n",
       "      <td>1</td>\n",
       "      <td>3</td>\n",
       "      <td>True</td>\n",
       "      <td>1</td>\n",
       "      <td>0:00:00.151</td>\n",
       "      <td>4516</td>\n",
       "    </tr>\n",
       "    <tr>\n",
       "      <th>4</th>\n",
       "      <td>seclist</td>\n",
       "      <td>2</td>\n",
       "      <td>3</td>\n",
       "      <td>True</td>\n",
       "      <td>4</td>\n",
       "      <td>0:00:00.421</td>\n",
       "      <td>53000</td>\n",
       "    </tr>\n",
       "    <tr>\n",
       "      <th>...</th>\n",
       "      <td>...</td>\n",
       "      <td>...</td>\n",
       "      <td>...</td>\n",
       "      <td>...</td>\n",
       "      <td>...</td>\n",
       "      <td>...</td>\n",
       "      <td>...</td>\n",
       "    </tr>\n",
       "    <tr>\n",
       "      <th>56</th>\n",
       "      <td>bitonic</td>\n",
       "      <td>48</td>\n",
       "      <td>3</td>\n",
       "      <td>True</td>\n",
       "      <td>448</td>\n",
       "      <td>0:00:01.873</td>\n",
       "      <td>619194</td>\n",
       "    </tr>\n",
       "    <tr>\n",
       "      <th>57</th>\n",
       "      <td>seclist</td>\n",
       "      <td>96</td>\n",
       "      <td>3</td>\n",
       "      <td>True</td>\n",
       "      <td>192</td>\n",
       "      <td>0:00:35.949</td>\n",
       "      <td>4102206</td>\n",
       "    </tr>\n",
       "    <tr>\n",
       "      <th>58</th>\n",
       "      <td>batcher</td>\n",
       "      <td>96</td>\n",
       "      <td>3</td>\n",
       "      <td>True</td>\n",
       "      <td>2784</td>\n",
       "      <td>0:00:13.254</td>\n",
       "      <td>3829374</td>\n",
       "    </tr>\n",
       "    <tr>\n",
       "      <th>59</th>\n",
       "      <td>knuth</td>\n",
       "      <td>96</td>\n",
       "      <td>3</td>\n",
       "      <td>True</td>\n",
       "      <td>904</td>\n",
       "      <td>0:00:03.501</td>\n",
       "      <td>1246922</td>\n",
       "    </tr>\n",
       "    <tr>\n",
       "      <th>60</th>\n",
       "      <td>bitonic</td>\n",
       "      <td>96</td>\n",
       "      <td>3</td>\n",
       "      <td>True</td>\n",
       "      <td>1024</td>\n",
       "      <td>0:00:03.960</td>\n",
       "      <td>1411386</td>\n",
       "    </tr>\n",
       "  </tbody>\n",
       "</table>\n",
       "<p>61 rows × 7 columns</p>\n",
       "</div>"
      ],
      "text/plain": [
       "   Algorithm  Array size  Parties  Sorted  Comparisons         Time    Bytes\n",
       "0    seclist           1        3    True            2  0:00:00.220    26894\n",
       "1    batcher           1        3    True            1  0:00:00.066     4264\n",
       "2      knuth           1        3    True            1  0:00:00.047     4012\n",
       "3    bitonic           1        3    True            1  0:00:00.151     4516\n",
       "4    seclist           2        3    True            4  0:00:00.421    53000\n",
       "..       ...         ...      ...     ...          ...          ...      ...\n",
       "56   bitonic          48        3    True          448  0:00:01.873   619194\n",
       "57   seclist          96        3    True          192  0:00:35.949  4102206\n",
       "58   batcher          96        3    True         2784  0:00:13.254  3829374\n",
       "59     knuth          96        3    True          904  0:00:03.501  1246922\n",
       "60   bitonic          96        3    True         1024  0:00:03.960  1411386\n",
       "\n",
       "[61 rows x 7 columns]"
      ]
     },
     "execution_count": 18,
     "metadata": {},
     "output_type": "execute_result"
    }
   ],
   "source": [
    "df"
   ]
  },
  {
   "cell_type": "code",
   "execution_count": 19,
   "id": "db9c5034-8432-49dc-a60e-165bd5186a25",
   "metadata": {
    "tags": []
   },
   "outputs": [],
   "source": [
    "# A few basic data conversions\n",
    "df[\"Color\"] = df[\"Algorithm\"].map(lambda x:algorithms[x])\n",
    "df['TimeAlt'] = pd.to_datetime(df['Time'], format=\"%H:%M:%S.%f\",errors='coerce')"
   ]
  },
  {
   "cell_type": "markdown",
   "id": "e0bd8169-dabe-47c5-9130-c57ba567fd17",
   "metadata": {},
   "source": [
    "## Figure 1"
   ]
  },
  {
   "cell_type": "code",
   "execution_count": 20,
   "id": "3e6aa59a-9d8e-4450-a3ab-95f1290855ee",
   "metadata": {
    "tags": []
   },
   "outputs": [
    {
     "data": {
      "image/png": "[encoded data removed]",
      "text/plain": [
       "<Figure size 640x480 with 1 Axes>"
      ]
     },
     "metadata": {},
     "output_type": "display_data"
    }
   ],
   "source": [
    "#ax = df.plot(kind='scatter', x=\"Array size\", y=\"TimeAlt\", c=\"Color\", legend=True, label=\"Algorithm\")\n",
    "ax = None\n",
    "for algorithm in algorithms.keys():\n",
    "    ax = df[df[\"Algorithm\"] == algorithm].plot(kind='scatter', x=\"Array size\", y=\"TimeAlt\", c=\"Color\", legend=True, label=algorithm, ax=ax)\n",
    "ax.set_title(\"Figure 1: Array size to wall computation time\")\n",
    "ax.set_xlabel(\"Length of arrays\")\n",
    "ax.set_ylabel(\"Wall computation time (seconds)\")\n",
    "ax.get_figure().savefig(\"fig_scatter_size_time.pdf\")\n"
   ]
  },
  {
   "cell_type": "markdown",
   "id": "1ba297f9-7196-4b23-a57c-6d6eeafcb9e2",
   "metadata": {},
   "source": [
    "## Figure 2"
   ]
  },
  {
   "cell_type": "code",
   "execution_count": 21,
   "id": "f2d00ed7-85c4-4697-8623-7e479d90c7a2",
   "metadata": {
    "tags": []
   },
   "outputs": [
    {
     "data": {
      "image/png": "[encoded data removed]",
      "text/plain": [
       "<Figure size 640x480 with 1 Axes>"
      ]
     },
     "metadata": {},
     "output_type": "display_data"
    }
   ],
   "source": [
    "#ax = df.plot(kind='scatter', x=\"Array size\", y=\"TimeAlt\", c=\"Color\", legend=True, label=\"Algorithm\")\n",
    "ax = None\n",
    "for algorithm in algorithms.keys():\n",
    "    ax = df[((df[\"Algorithm\"] == algorithm) & (df[\"Array size\"] <= 128))].plot(kind='scatter', x=\"Array size\", y=\"TimeAlt\", c=\"Color\", legend=True, label=algorithm, ax=ax)\n",
    "ax.set_title(\"Figure 2: Array size to wall computation time\")\n",
    "ax.set_xlabel(\"Length of arrays\")\n",
    "ax.set_ylabel(\"Wall computation time (seconds)\")\n",
    "ax.get_figure().savefig(\"fig_scatter_size_time_detail.pdf\")\n"
   ]
  },
  {
   "cell_type": "markdown",
   "id": "a20778af-8369-4713-91de-49a7fb692038",
   "metadata": {},
   "source": [
    "## Figure 3"
   ]
  },
  {
   "cell_type": "code",
   "execution_count": 22,
   "id": "8f3a7934-184a-41e9-8648-c46858d28eb8",
   "metadata": {
    "tags": []
   },
   "outputs": [
    {
     "data": {
      "image/png": "[encoded data removed]",
      "text/plain": [
       "<Figure size 640x480 with 1 Axes>"
      ]
     },
     "metadata": {},
     "output_type": "display_data"
    }
   ],
   "source": [
    "ax = None\n",
    "for algorithm in algorithms.keys():\n",
    "    ax = df[df[\"Algorithm\"] == algorithm].plot(kind='scatter', x=\"Comparisons\", y=\"TimeAlt\", c=\"Color\", legend=True, label=algorithm, ax=ax)\n",
    "ax.set_title(\"Figure 3: Number of comparisons to wall computation time\")\n",
    "ax.set_xlabel(\"Number of comparisons\")\n",
    "ax.set_ylabel(\"Wall computation time (seconds)\")\n",
    "ax.get_figure().savefig(\"fig_scatter_comp_time.pdf\")"
   ]
  },
  {
   "cell_type": "markdown",
   "id": "1a9b66da-8aa9-47ef-a3fc-7735d19d61bd",
   "metadata": {
    "tags": []
   },
   "source": [
    "## Figure 4"
   ]
  },
  {
   "cell_type": "code",
   "execution_count": 23,
   "id": "448119c6-cd43-4623-a0f2-69fd01e16f84",
   "metadata": {
    "tags": []
   },
   "outputs": [
    {
     "data": {
      "text/plain": [
       "'Doing bitonic for number of parties 11'"
      ]
     },
     "metadata": {},
     "output_type": "display_data"
    }
   ],
   "source": [
    "df_parties = pd.DataFrame(columns=[\"Algorithm\", \"Array size\", \"Parties\", \"Sorted\", \"Comparisons\", \"Time\", \"Bytes\"])\n",
    "# Here we generate data for the various algorithms:\n",
    "for parties in range(2,12):\n",
    "    for algorithm in algorithms.keys():\n",
    "        display(\"Doing \" + str(algorithm) + \" for number of parties \" + str(parties),clear=True)\n",
    "        df_parties.loc[len(df_parties)] = runOne(parties, algorithm, 16)\n",
    "# Basic data processing\n",
    "df_parties[\"Color\"] = df_parties[\"Algorithm\"].map(lambda x:algorithms[x])\n",
    "df_parties['TimeAlt'] = pd.to_datetime(df_parties['Time'], format=\"%H:%M:%S.%f\",errors='coerce')"
   ]
  },
  {
   "cell_type": "code",
   "execution_count": 24,
   "id": "fa1fb1cf-d0b8-4115-8a4e-5314bd6b2980",
   "metadata": {
    "tags": []
   },
   "outputs": [
    {
     "data": {
      "text/html": [
       "<div>\n",
       "<style scoped>\n",
       "    .dataframe tbody tr th:only-of-type {\n",
       "        vertical-align: middle;\n",
       "    }\n",
       "\n",
       "    .dataframe tbody tr th {\n",
       "        vertical-align: top;\n",
       "    }\n",
       "\n",
       "    .dataframe thead th {\n",
       "        text-align: right;\n",
       "    }\n",
       "</style>\n",
       "<table border=\"1\" class=\"dataframe\">\n",
       "  <thead>\n",
       "    <tr style=\"text-align: right;\">\n",
       "      <th></th>\n",
       "      <th>Algorithm</th>\n",
       "      <th>Array size</th>\n",
       "      <th>Parties</th>\n",
       "      <th>Sorted</th>\n",
       "      <th>Comparisons</th>\n",
       "      <th>Time</th>\n",
       "      <th>Bytes</th>\n",
       "      <th>Color</th>\n",
       "      <th>TimeAlt</th>\n",
       "    </tr>\n",
       "  </thead>\n",
       "  <tbody>\n",
       "    <tr>\n",
       "      <th>0</th>\n",
       "      <td>seclist</td>\n",
       "      <td>16</td>\n",
       "      <td>2</td>\n",
       "      <td>True</td>\n",
       "      <td>32</td>\n",
       "      <td>0:00:02.408</td>\n",
       "      <td>0</td>\n",
       "      <td>#ff7f00</td>\n",
       "      <td>1900-01-01 00:00:02.408</td>\n",
       "    </tr>\n",
       "    <tr>\n",
       "      <th>1</th>\n",
       "      <td>batcher</td>\n",
       "      <td>16</td>\n",
       "      <td>2</td>\n",
       "      <td>True</td>\n",
       "      <td>240</td>\n",
       "      <td>0:00:00.412</td>\n",
       "      <td>0</td>\n",
       "      <td>#984ea3</td>\n",
       "      <td>1900-01-01 00:00:00.412</td>\n",
       "    </tr>\n",
       "    <tr>\n",
       "      <th>2</th>\n",
       "      <td>knuth</td>\n",
       "      <td>16</td>\n",
       "      <td>2</td>\n",
       "      <td>True</td>\n",
       "      <td>69</td>\n",
       "      <td>0:00:00.173</td>\n",
       "      <td>0</td>\n",
       "      <td>#377eb8</td>\n",
       "      <td>1900-01-01 00:00:00.173</td>\n",
       "    </tr>\n",
       "    <tr>\n",
       "      <th>3</th>\n",
       "      <td>bitonic</td>\n",
       "      <td>16</td>\n",
       "      <td>2</td>\n",
       "      <td>True</td>\n",
       "      <td>80</td>\n",
       "      <td>0:00:00.186</td>\n",
       "      <td>0</td>\n",
       "      <td>#999999</td>\n",
       "      <td>1900-01-01 00:00:00.186</td>\n",
       "    </tr>\n",
       "    <tr>\n",
       "      <th>4</th>\n",
       "      <td>seclist</td>\n",
       "      <td>16</td>\n",
       "      <td>3</td>\n",
       "      <td>True</td>\n",
       "      <td>32</td>\n",
       "      <td>0:00:03.853</td>\n",
       "      <td>486376</td>\n",
       "      <td>#ff7f00</td>\n",
       "      <td>1900-01-01 00:00:03.853</td>\n",
       "    </tr>\n",
       "    <tr>\n",
       "      <th>5</th>\n",
       "      <td>batcher</td>\n",
       "      <td>16</td>\n",
       "      <td>3</td>\n",
       "      <td>True</td>\n",
       "      <td>240</td>\n",
       "      <td>0:00:00.968</td>\n",
       "      <td>333142</td>\n",
       "      <td>#984ea3</td>\n",
       "      <td>1900-01-01 00:00:00.968</td>\n",
       "    </tr>\n",
       "    <tr>\n",
       "      <th>6</th>\n",
       "      <td>knuth</td>\n",
       "      <td>16</td>\n",
       "      <td>3</td>\n",
       "      <td>True</td>\n",
       "      <td>69</td>\n",
       "      <td>0:00:00.290</td>\n",
       "      <td>97936</td>\n",
       "      <td>#377eb8</td>\n",
       "      <td>1900-01-01 00:00:00.290</td>\n",
       "    </tr>\n",
       "    <tr>\n",
       "      <th>7</th>\n",
       "      <td>bitonic</td>\n",
       "      <td>16</td>\n",
       "      <td>3</td>\n",
       "      <td>True</td>\n",
       "      <td>80</td>\n",
       "      <td>0:00:00.354</td>\n",
       "      <td>112968</td>\n",
       "      <td>#999999</td>\n",
       "      <td>1900-01-01 00:00:00.354</td>\n",
       "    </tr>\n",
       "    <tr>\n",
       "      <th>8</th>\n",
       "      <td>seclist</td>\n",
       "      <td>16</td>\n",
       "      <td>4</td>\n",
       "      <td>True</td>\n",
       "      <td>32</td>\n",
       "      <td>0:00:04.945</td>\n",
       "      <td>681448</td>\n",
       "      <td>#ff7f00</td>\n",
       "      <td>1900-01-01 00:00:04.945</td>\n",
       "    </tr>\n",
       "    <tr>\n",
       "      <th>9</th>\n",
       "      <td>batcher</td>\n",
       "      <td>16</td>\n",
       "      <td>4</td>\n",
       "      <td>True</td>\n",
       "      <td>240</td>\n",
       "      <td>0:00:01.336</td>\n",
       "      <td>423062</td>\n",
       "      <td>#984ea3</td>\n",
       "      <td>1900-01-01 00:00:01.336</td>\n",
       "    </tr>\n",
       "    <tr>\n",
       "      <th>10</th>\n",
       "      <td>knuth</td>\n",
       "      <td>16</td>\n",
       "      <td>4</td>\n",
       "      <td>True</td>\n",
       "      <td>69</td>\n",
       "      <td>0:00:00.437</td>\n",
       "      <td>123344</td>\n",
       "      <td>#377eb8</td>\n",
       "      <td>1900-01-01 00:00:00.437</td>\n",
       "    </tr>\n",
       "    <tr>\n",
       "      <th>11</th>\n",
       "      <td>bitonic</td>\n",
       "      <td>16</td>\n",
       "      <td>4</td>\n",
       "      <td>True</td>\n",
       "      <td>80</td>\n",
       "      <td>0:00:00.577</td>\n",
       "      <td>142440</td>\n",
       "      <td>#999999</td>\n",
       "      <td>1900-01-01 00:00:00.577</td>\n",
       "    </tr>\n",
       "    <tr>\n",
       "      <th>12</th>\n",
       "      <td>seclist</td>\n",
       "      <td>16</td>\n",
       "      <td>5</td>\n",
       "      <td>True</td>\n",
       "      <td>32</td>\n",
       "      <td>0:00:05.547</td>\n",
       "      <td>973256</td>\n",
       "      <td>#ff7f00</td>\n",
       "      <td>1900-01-01 00:00:05.547</td>\n",
       "    </tr>\n",
       "    <tr>\n",
       "      <th>13</th>\n",
       "      <td>batcher</td>\n",
       "      <td>16</td>\n",
       "      <td>5</td>\n",
       "      <td>True</td>\n",
       "      <td>240</td>\n",
       "      <td>0:00:01.780</td>\n",
       "      <td>666296</td>\n",
       "      <td>#984ea3</td>\n",
       "      <td>1900-01-01 00:00:01.780</td>\n",
       "    </tr>\n",
       "    <tr>\n",
       "      <th>14</th>\n",
       "      <td>knuth</td>\n",
       "      <td>16</td>\n",
       "      <td>5</td>\n",
       "      <td>True</td>\n",
       "      <td>69</td>\n",
       "      <td>0:00:00.597</td>\n",
       "      <td>196036</td>\n",
       "      <td>#377eb8</td>\n",
       "      <td>1900-01-01 00:00:00.597</td>\n",
       "    </tr>\n",
       "    <tr>\n",
       "      <th>15</th>\n",
       "      <td>bitonic</td>\n",
       "      <td>16</td>\n",
       "      <td>5</td>\n",
       "      <td>True</td>\n",
       "      <td>80</td>\n",
       "      <td>0:00:00.592</td>\n",
       "      <td>225596</td>\n",
       "      <td>#999999</td>\n",
       "      <td>1900-01-01 00:00:00.592</td>\n",
       "    </tr>\n",
       "    <tr>\n",
       "      <th>16</th>\n",
       "      <td>seclist</td>\n",
       "      <td>16</td>\n",
       "      <td>6</td>\n",
       "      <td>True</td>\n",
       "      <td>32</td>\n",
       "      <td>0:00:06.779</td>\n",
       "      <td>1168224</td>\n",
       "      <td>#ff7f00</td>\n",
       "      <td>1900-01-01 00:00:06.779</td>\n",
       "    </tr>\n",
       "    <tr>\n",
       "      <th>17</th>\n",
       "      <td>batcher</td>\n",
       "      <td>16</td>\n",
       "      <td>6</td>\n",
       "      <td>True</td>\n",
       "      <td>240</td>\n",
       "      <td>0:00</td>\n",
       "      <td>756840</td>\n",
       "      <td>#984ea3</td>\n",
       "      <td>NaT</td>\n",
       "    </tr>\n",
       "    <tr>\n",
       "      <th>18</th>\n",
       "      <td>knuth</td>\n",
       "      <td>16</td>\n",
       "      <td>6</td>\n",
       "      <td>True</td>\n",
       "      <td>69</td>\n",
       "      <td>0:00:00.675</td>\n",
       "      <td>221028</td>\n",
       "      <td>#377eb8</td>\n",
       "      <td>1900-01-01 00:00:00.675</td>\n",
       "    </tr>\n",
       "    <tr>\n",
       "      <th>19</th>\n",
       "      <td>bitonic</td>\n",
       "      <td>16</td>\n",
       "      <td>6</td>\n",
       "      <td>True</td>\n",
       "      <td>80</td>\n",
       "      <td>0:00:00.914</td>\n",
       "      <td>255238</td>\n",
       "      <td>#999999</td>\n",
       "      <td>1900-01-01 00:00:00.914</td>\n",
       "    </tr>\n",
       "    <tr>\n",
       "      <th>20</th>\n",
       "      <td>seclist</td>\n",
       "      <td>16</td>\n",
       "      <td>7</td>\n",
       "      <td>True</td>\n",
       "      <td>32</td>\n",
       "      <td>0:00:09.299</td>\n",
       "      <td>1459128</td>\n",
       "      <td>#ff7f00</td>\n",
       "      <td>1900-01-01 00:00:09.299</td>\n",
       "    </tr>\n",
       "    <tr>\n",
       "      <th>21</th>\n",
       "      <td>batcher</td>\n",
       "      <td>16</td>\n",
       "      <td>7</td>\n",
       "      <td>True</td>\n",
       "      <td>240</td>\n",
       "      <td>0:00:02.949</td>\n",
       "      <td>997914</td>\n",
       "      <td>#984ea3</td>\n",
       "      <td>1900-01-01 00:00:02.949</td>\n",
       "    </tr>\n",
       "    <tr>\n",
       "      <th>22</th>\n",
       "      <td>knuth</td>\n",
       "      <td>16</td>\n",
       "      <td>7</td>\n",
       "      <td>True</td>\n",
       "      <td>69</td>\n",
       "      <td>0:00:00.969</td>\n",
       "      <td>294072</td>\n",
       "      <td>#377eb8</td>\n",
       "      <td>1900-01-01 00:00:00.969</td>\n",
       "    </tr>\n",
       "    <tr>\n",
       "      <th>23</th>\n",
       "      <td>bitonic</td>\n",
       "      <td>16</td>\n",
       "      <td>7</td>\n",
       "      <td>True</td>\n",
       "      <td>80</td>\n",
       "      <td>0:00:01.026</td>\n",
       "      <td>338394</td>\n",
       "      <td>#999999</td>\n",
       "      <td>1900-01-01 00:00:01.026</td>\n",
       "    </tr>\n",
       "    <tr>\n",
       "      <th>24</th>\n",
       "      <td>seclist</td>\n",
       "      <td>16</td>\n",
       "      <td>8</td>\n",
       "      <td>True</td>\n",
       "      <td>32</td>\n",
       "      <td>0:00:09.717</td>\n",
       "      <td>1654682</td>\n",
       "      <td>#ff7f00</td>\n",
       "      <td>1900-01-01 00:00:09.717</td>\n",
       "    </tr>\n",
       "    <tr>\n",
       "      <th>25</th>\n",
       "      <td>batcher</td>\n",
       "      <td>16</td>\n",
       "      <td>8</td>\n",
       "      <td>True</td>\n",
       "      <td>240</td>\n",
       "      <td>0:00:03.941</td>\n",
       "      <td>1086566</td>\n",
       "      <td>#984ea3</td>\n",
       "      <td>1900-01-01 00:00:03.941</td>\n",
       "    </tr>\n",
       "    <tr>\n",
       "      <th>26</th>\n",
       "      <td>knuth</td>\n",
       "      <td>16</td>\n",
       "      <td>8</td>\n",
       "      <td>True</td>\n",
       "      <td>69</td>\n",
       "      <td>0:00:00.945</td>\n",
       "      <td>318712</td>\n",
       "      <td>#377eb8</td>\n",
       "      <td>1900-01-01 00:00:00.945</td>\n",
       "    </tr>\n",
       "    <tr>\n",
       "      <th>27</th>\n",
       "      <td>bitonic</td>\n",
       "      <td>16</td>\n",
       "      <td>8</td>\n",
       "      <td>True</td>\n",
       "      <td>80</td>\n",
       "      <td>0:00:01.302</td>\n",
       "      <td>371038</td>\n",
       "      <td>#999999</td>\n",
       "      <td>1900-01-01 00:00:01.302</td>\n",
       "    </tr>\n",
       "    <tr>\n",
       "      <th>28</th>\n",
       "      <td>seclist</td>\n",
       "      <td>16</td>\n",
       "      <td>9</td>\n",
       "      <td>True</td>\n",
       "      <td>32</td>\n",
       "      <td>0:00:13.945</td>\n",
       "      <td>1945504</td>\n",
       "      <td>#ff7f00</td>\n",
       "      <td>1900-01-01 00:00:13.945</td>\n",
       "    </tr>\n",
       "    <tr>\n",
       "      <th>29</th>\n",
       "      <td>batcher</td>\n",
       "      <td>16</td>\n",
       "      <td>9</td>\n",
       "      <td>True</td>\n",
       "      <td>240</td>\n",
       "      <td>0:00:06.574</td>\n",
       "      <td>1330552</td>\n",
       "      <td>#984ea3</td>\n",
       "      <td>1900-01-01 00:00:06.574</td>\n",
       "    </tr>\n",
       "    <tr>\n",
       "      <th>30</th>\n",
       "      <td>knuth</td>\n",
       "      <td>16</td>\n",
       "      <td>9</td>\n",
       "      <td>True</td>\n",
       "      <td>69</td>\n",
       "      <td>0:00:01.935</td>\n",
       "      <td>390736</td>\n",
       "      <td>#377eb8</td>\n",
       "      <td>1900-01-01 00:00:01.935</td>\n",
       "    </tr>\n",
       "    <tr>\n",
       "      <th>31</th>\n",
       "      <td>bitonic</td>\n",
       "      <td>16</td>\n",
       "      <td>9</td>\n",
       "      <td>True</td>\n",
       "      <td>80</td>\n",
       "      <td>0:00:02.356</td>\n",
       "      <td>451192</td>\n",
       "      <td>#999999</td>\n",
       "      <td>1900-01-01 00:00:02.356</td>\n",
       "    </tr>\n",
       "    <tr>\n",
       "      <th>32</th>\n",
       "      <td>seclist</td>\n",
       "      <td>16</td>\n",
       "      <td>10</td>\n",
       "      <td>True</td>\n",
       "      <td>32</td>\n",
       "      <td>0:00:16.238</td>\n",
       "      <td>2142214</td>\n",
       "      <td>#ff7f00</td>\n",
       "      <td>1900-01-01 00:00:16.238</td>\n",
       "    </tr>\n",
       "    <tr>\n",
       "      <th>33</th>\n",
       "      <td>batcher</td>\n",
       "      <td>16</td>\n",
       "      <td>10</td>\n",
       "      <td>True</td>\n",
       "      <td>240</td>\n",
       "      <td>0:00:08.397</td>\n",
       "      <td>1418114</td>\n",
       "      <td>#984ea3</td>\n",
       "      <td>1900-01-01 00:00:08.397</td>\n",
       "    </tr>\n",
       "    <tr>\n",
       "      <th>34</th>\n",
       "      <td>knuth</td>\n",
       "      <td>16</td>\n",
       "      <td>10</td>\n",
       "      <td>True</td>\n",
       "      <td>69</td>\n",
       "      <td>0:00:02.578</td>\n",
       "      <td>416396</td>\n",
       "      <td>#377eb8</td>\n",
       "      <td>1900-01-01 00:00:02.578</td>\n",
       "    </tr>\n",
       "    <tr>\n",
       "      <th>35</th>\n",
       "      <td>bitonic</td>\n",
       "      <td>16</td>\n",
       "      <td>10</td>\n",
       "      <td>True</td>\n",
       "      <td>80</td>\n",
       "      <td>0:00:03.090</td>\n",
       "      <td>485154</td>\n",
       "      <td>#999999</td>\n",
       "      <td>1900-01-01 00:00:03.090</td>\n",
       "    </tr>\n",
       "    <tr>\n",
       "      <th>36</th>\n",
       "      <td>seclist</td>\n",
       "      <td>16</td>\n",
       "      <td>11</td>\n",
       "      <td>True</td>\n",
       "      <td>32</td>\n",
       "      <td>0:00:21.565</td>\n",
       "      <td>2431880</td>\n",
       "      <td>#ff7f00</td>\n",
       "      <td>1900-01-01 00:00:21.565</td>\n",
       "    </tr>\n",
       "    <tr>\n",
       "      <th>37</th>\n",
       "      <td>batcher</td>\n",
       "      <td>16</td>\n",
       "      <td>11</td>\n",
       "      <td>True</td>\n",
       "      <td>240</td>\n",
       "      <td>0:00:12.885</td>\n",
       "      <td>1666560</td>\n",
       "      <td>#984ea3</td>\n",
       "      <td>1900-01-01 00:00:12.885</td>\n",
       "    </tr>\n",
       "    <tr>\n",
       "      <th>38</th>\n",
       "      <td>knuth</td>\n",
       "      <td>16</td>\n",
       "      <td>11</td>\n",
       "      <td>True</td>\n",
       "      <td>69</td>\n",
       "      <td>0:00:05.519</td>\n",
       "      <td>489680</td>\n",
       "      <td>#377eb8</td>\n",
       "      <td>1900-01-01 00:00:05.519</td>\n",
       "    </tr>\n",
       "    <tr>\n",
       "      <th>39</th>\n",
       "      <td>bitonic</td>\n",
       "      <td>16</td>\n",
       "      <td>11</td>\n",
       "      <td>True</td>\n",
       "      <td>80</td>\n",
       "      <td>0:00:04.877</td>\n",
       "      <td>569910</td>\n",
       "      <td>#999999</td>\n",
       "      <td>1900-01-01 00:00:04.877</td>\n",
       "    </tr>\n",
       "  </tbody>\n",
       "</table>\n",
       "</div>"
      ],
      "text/plain": [
       "   Algorithm  Array size  Parties  Sorted  Comparisons         Time    Bytes   \n",
       "0    seclist          16        2    True           32  0:00:02.408        0  \\\n",
       "1    batcher          16        2    True          240  0:00:00.412        0   \n",
       "2      knuth          16        2    True           69  0:00:00.173        0   \n",
       "3    bitonic          16        2    True           80  0:00:00.186        0   \n",
       "4    seclist          16        3    True           32  0:00:03.853   486376   \n",
       "5    batcher          16        3    True          240  0:00:00.968   333142   \n",
       "6      knuth          16        3    True           69  0:00:00.290    97936   \n",
       "7    bitonic          16        3    True           80  0:00:00.354   112968   \n",
       "8    seclist          16        4    True           32  0:00:04.945   681448   \n",
       "9    batcher          16        4    True          240  0:00:01.336   423062   \n",
       "10     knuth          16        4    True           69  0:00:00.437   123344   \n",
       "11   bitonic          16        4    True           80  0:00:00.577   142440   \n",
       "12   seclist          16        5    True           32  0:00:05.547   973256   \n",
       "13   batcher          16        5    True          240  0:00:01.780   666296   \n",
       "14     knuth          16        5    True           69  0:00:00.597   196036   \n",
       "15   bitonic          16        5    True           80  0:00:00.592   225596   \n",
       "16   seclist          16        6    True           32  0:00:06.779  1168224   \n",
       "17   batcher          16        6    True          240         0:00   756840   \n",
       "18     knuth          16        6    True           69  0:00:00.675   221028   \n",
       "19   bitonic          16        6    True           80  0:00:00.914   255238   \n",
       "20   seclist          16        7    True           32  0:00:09.299  1459128   \n",
       "21   batcher          16        7    True          240  0:00:02.949   997914   \n",
       "22     knuth          16        7    True           69  0:00:00.969   294072   \n",
       "23   bitonic          16        7    True           80  0:00:01.026   338394   \n",
       "24   seclist          16        8    True           32  0:00:09.717  1654682   \n",
       "25   batcher          16        8    True          240  0:00:03.941  1086566   \n",
       "26     knuth          16        8    True           69  0:00:00.945   318712   \n",
       "27   bitonic          16        8    True           80  0:00:01.302   371038   \n",
       "28   seclist          16        9    True           32  0:00:13.945  1945504   \n",
       "29   batcher          16        9    True          240  0:00:06.574  1330552   \n",
       "30     knuth          16        9    True           69  0:00:01.935   390736   \n",
       "31   bitonic          16        9    True           80  0:00:02.356   451192   \n",
       "32   seclist          16       10    True           32  0:00:16.238  2142214   \n",
       "33   batcher          16       10    True          240  0:00:08.397  1418114   \n",
       "34     knuth          16       10    True           69  0:00:02.578   416396   \n",
       "35   bitonic          16       10    True           80  0:00:03.090   485154   \n",
       "36   seclist          16       11    True           32  0:00:21.565  2431880   \n",
       "37   batcher          16       11    True          240  0:00:12.885  1666560   \n",
       "38     knuth          16       11    True           69  0:00:05.519   489680   \n",
       "39   bitonic          16       11    True           80  0:00:04.877   569910   \n",
       "\n",
       "      Color                 TimeAlt  \n",
       "0   #ff7f00 1900-01-01 00:00:02.408  \n",
       "1   #984ea3 1900-01-01 00:00:00.412  \n",
       "2   #377eb8 1900-01-01 00:00:00.173  \n",
       "3   #999999 1900-01-01 00:00:00.186  \n",
       "4   #ff7f00 1900-01-01 00:00:03.853  \n",
       "5   #984ea3 1900-01-01 00:00:00.968  \n",
       "6   #377eb8 1900-01-01 00:00:00.290  \n",
       "7   #999999 1900-01-01 00:00:00.354  \n",
       "8   #ff7f00 1900-01-01 00:00:04.945  \n",
       "9   #984ea3 1900-01-01 00:00:01.336  \n",
       "10  #377eb8 1900-01-01 00:00:00.437  \n",
       "11  #999999 1900-01-01 00:00:00.577  \n",
       "12  #ff7f00 1900-01-01 00:00:05.547  \n",
       "13  #984ea3 1900-01-01 00:00:01.780  \n",
       "14  #377eb8 1900-01-01 00:00:00.597  \n",
       "15  #999999 1900-01-01 00:00:00.592  \n",
       "16  #ff7f00 1900-01-01 00:00:06.779  \n",
       "17  #984ea3                     NaT  \n",
       "18  #377eb8 1900-01-01 00:00:00.675  \n",
       "19  #999999 1900-01-01 00:00:00.914  \n",
       "20  #ff7f00 1900-01-01 00:00:09.299  \n",
       "21  #984ea3 1900-01-01 00:00:02.949  \n",
       "22  #377eb8 1900-01-01 00:00:00.969  \n",
       "23  #999999 1900-01-01 00:00:01.026  \n",
       "24  #ff7f00 1900-01-01 00:00:09.717  \n",
       "25  #984ea3 1900-01-01 00:00:03.941  \n",
       "26  #377eb8 1900-01-01 00:00:00.945  \n",
       "27  #999999 1900-01-01 00:00:01.302  \n",
       "28  #ff7f00 1900-01-01 00:00:13.945  \n",
       "29  #984ea3 1900-01-01 00:00:06.574  \n",
       "30  #377eb8 1900-01-01 00:00:01.935  \n",
       "31  #999999 1900-01-01 00:00:02.356  \n",
       "32  #ff7f00 1900-01-01 00:00:16.238  \n",
       "33  #984ea3 1900-01-01 00:00:08.397  \n",
       "34  #377eb8 1900-01-01 00:00:02.578  \n",
       "35  #999999 1900-01-01 00:00:03.090  \n",
       "36  #ff7f00 1900-01-01 00:00:21.565  \n",
       "37  #984ea3 1900-01-01 00:00:12.885  \n",
       "38  #377eb8 1900-01-01 00:00:05.519  \n",
       "39  #999999 1900-01-01 00:00:04.877  "
      ]
     },
     "execution_count": 24,
     "metadata": {},
     "output_type": "execute_result"
    }
   ],
   "source": [
    "df_parties"
   ]
  },
  {
   "cell_type": "code",
   "execution_count": 25,
   "id": "5dbf7c60-ff3b-4392-8e04-ad6dae428832",
   "metadata": {
    "tags": []
   },
   "outputs": [
    {
     "data": {
      "image/png": "[encoded data removed]",
      "text/plain": [
       "<Figure size 640x480 with 1 Axes>"
      ]
     },
     "metadata": {},
     "output_type": "display_data"
    }
   ],
   "source": [
    "ax = None\n",
    "for algorithm in algorithms.keys():\n",
    "    ax = df_parties[df_parties[\"Algorithm\"] == algorithm].plot(kind='scatter', x=\"Parties\", y=\"TimeAlt\", c=\"Color\", legend=True, label=algorithm, ax=ax)\n",
    "ax.set_title(\"Figure 4: Number of parties to wall computation time\")\n",
    "ax.set_xlabel(\"Number of parties\")\n",
    "ax.set_ylabel(\"Wall computation time (seconds)\")\n",
    "ax.get_figure().savefig(\"fig_scatter_parties_time.pdf\")"
   ]
  },
  {
   "cell_type": "markdown",
   "id": "97e0ae7c-5395-4392-b538-6376ba718085",
   "metadata": {},
   "source": [
    "# Running this notebook\n",
    "To run this notebook, you must have also saved a copy of the script as a Python file. This can be done from the Jupyter Notebook interface or using the `nbconvert` terminal commands.\n",
    "\n",
    "In the `File` menu, please select `Save and export notebook as...` and then `Executable Code` (or `Python` if using the classic interface)\n",
    "\n",
    "\n",
    "## Exporting the pdf\n",
    "This can again be done using `nbconvert` to output a `.tex` or directly from Jupyter to obtain a PDF. \n",
    "\n",
    "Using the TU/e template can be done by inserting the following code immediately before `\\begin{document}`\n",
    "```tex\n",
    "\\input{General/Preamble} % Loads in the preamble \n",
    "\\input{General/Settings} % Loads in user defined settings\n",
    "```\n",
    "and replacing `\\maketitle` with \n",
    "```tex\n",
    "\\input{Chapters/0. Frontpage}\n",
    "\\newpage\n",
    "```"
   ]
  }
 ],
 "metadata": {
  "authors": [
   {
    "name": "Ruben Biskupec"
   },
   {
    "name": "Rink Pieters"
   }
  ],
  "date": "April 22, 2023",
  "kernelspec": {
   "display_name": "Python 3 (ipykernel)",
   "language": "python",
   "name": "python3"
  },
  "language_info": {
   "codemirror_mode": {
    "name": "ipython",
    "version": 3
   },
   "file_extension": ".py",
   "mimetype": "text/x-python",
   "name": "python",
   "nbconvert_exporter": "python",
   "pygments_lexer": "ipython3",
   "version": "3.10.10"
  }
 },
 "nbformat": 4,
 "nbformat_minor": 5
}
