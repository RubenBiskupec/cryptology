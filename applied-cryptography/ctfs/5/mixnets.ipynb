{
 "cells": [
  {
   "cell_type": "code",
   "execution_count": 19,
   "id": "8c573cbd-8b95-4cbb-a7d3-c2244c616cb2",
   "metadata": {},
   "outputs": [],
   "source": [
    "f = open(\"get_recv_data.txt\", \"r\")\n",
    "ingoing = f.readlines()\n",
    "f = open(\"get_send_data.txt\", \"r\")\n",
    "outgoing = f.readlines()\n",
    "\n",
    "send = []\n",
    "for row in outgoing:\n",
    "    tmp = row.split()\n",
    "    tmp = [int(i) for i in tmp]\n",
    "    send.append(tmp)\n",
    "    \n",
    "recv = []\n",
    "for row in ingoing:\n",
    "    tmp = row.split()\n",
    "    tmp = [int(i) for i in tmp]\n",
    "    recv.append(tmp)"
   ]
  },
  {
   "cell_type": "code",
   "execution_count": 22,
   "id": "8a1e9a76-985f-4e50-bd10-ef0fd3b0456a",
   "metadata": {},
   "outputs": [],
   "source": [
    "import numpy as np\n",
    "\n",
    "# sent_values is a 1000 x 50 matrix, where each column represents the number of messages sent by a single user over 1000 time points\n",
    "sent_values = np.array(send)\n",
    "\n",
    "# received_values is a 1000 x 50 matrix, where each column represents the number of messages received by a single user over 1000 time points\n",
    "received_values = np.array(recv)\n",
    "\n",
    "# Calculate the means and standard deviations for each user\n",
    "sent_means = np.mean(sent_values, axis=0)\n",
    "sent_stds = np.std(sent_values, axis=0)\n",
    "received_means = np.mean(received_values, axis=0)\n",
    "received_stds = np.std(received_values, axis=0)\n",
    "\n",
    "# Calculate Pearson's correlation coefficient for all pairs of users\n",
    "correlations = []\n",
    "for i in range(sent_values.shape[1]):\n",
    "    for j in range(i+1, sent_values.shape[1]):\n",
    "        # Calculate the correlation between users i and j\n",
    "        correlation = np.sum((sent_values[:, i] - sent_means[i]) * (received_values[:, j] - received_means[j])) / (sent_values.shape[0] * sent_stds[i] * received_stds[j])\n",
    "        correlations.append((i, j, correlation))"
   ]
  },
  {
   "cell_type": "code",
   "execution_count": 23,
   "id": "4b6a6c0d-29fe-45be-8a93-8bf73a70b96a",
   "metadata": {},
   "outputs": [
    {
     "data": {
      "text/plain": [
       "[(10, 11, 0.3955359546242034),\n",
       " (7, 22, 0.3877385542808403),\n",
       " (7, 19, 0.38248203640308265),\n",
       " (11, 22, 0.37907341841440445),\n",
       " (10, 19, 0.37815486619508315),\n",
       " (11, 19, 0.37757884336575154),\n",
       " (7, 10, 0.3762284499202132),\n",
       " (10, 22, 0.37565981242512697),\n",
       " (7, 11, 0.3618784786707489),\n",
       " (19, 22, 0.343274542472169),\n",
       " (34, 45, 0.16586795350579922),\n",
       " (26, 46, 0.16103863818848108),\n",
       " (5, 42, 0.15472365843731298),\n",
       " (20, 47, 0.15191374104659855),\n",
       " (20, 35, 0.1514928934128106),\n",
       " (32, 42, 0.14963589212889894),\n",
       " (30, 34, 0.149592447061841),\n",
       " (26, 27, 0.1480472442788198),\n",
       " (5, 28, 0.14759050556763373),\n",
       " (0, 38, 0.14395426030302977)]"
      ]
     },
     "execution_count": 23,
     "metadata": {},
     "output_type": "execute_result"
    }
   ],
   "source": [
    "# Sort the correlations list in descending order based on the correlation coefficient\n",
    "correlations.sort(key=lambda x: x[2], reverse=True)\n",
    "\n",
    "# Get the top 10 correlations\n",
    "top_correlations = correlations[:20]\n",
    "top_correlations"
   ]
  },
  {
   "cell_type": "code",
   "execution_count": null,
   "id": "543d7e51-c1ab-4de4-b6f9-efb620207107",
   "metadata": {},
   "outputs": [],
   "source": []
  }
 ],
 "metadata": {
  "kernelspec": {
   "display_name": "Python 3 (ipykernel)",
   "language": "python",
   "name": "python3"
  },
  "language_info": {
   "codemirror_mode": {
    "name": "ipython",
    "version": 3
   },
   "file_extension": ".py",
   "mimetype": "text/x-python",
   "name": "python",
   "nbconvert_exporter": "python",
   "pygments_lexer": "ipython3",
   "version": "3.10.10"
  }
 },
 "nbformat": 4,
 "nbformat_minor": 5
}
