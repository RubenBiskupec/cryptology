{
 "cells": [
  {
   "cell_type": "code",
   "execution_count": 1,
   "id": "f029744b-235f-4891-ab07-07906d88a037",
   "metadata": {},
   "outputs": [],
   "source": [
    "import requests\n",
    "import os\n",
    "\n",
    "from typing import Optional, Tuple\n",
    "\n",
    "url, auth = 'http://131.155.21.174:8082', ('', 'ilovecrypto')\n",
    "sid, token = 20221886, 'de9042e7f99da5cd28917b58a705843082d9354a'\n",
    "\n",
    "req = requests.Session()\n",
    "req.cookies['token'] = token\n",
    "\n",
    "def encrypt(nonce: bytes, plain: bytes) -> Optional[Tuple[bytes, bytes]]:\n",
    "    assert hasattr(nonce,'hex') and hasattr(plain,'hex') and len(nonce) == 16\n",
    "    r = req.post(url+'/encrypt', auth=auth, data={'nonce': nonce.hex(), 'plain': plain.hex()})\n",
    "    if r.text.startswith('Error:'):\n",
    "        print(r.text)\n",
    "        return None\n",
    "    ciphertext, tag = map(bytes.fromhex, r.text.strip().split())\n",
    "    return ciphertext, tag\n",
    "\n",
    "\n",
    "def decrypt(nonce: bytes, cipher: bytes, tag: bytes) -> Optional[bytes]:\n",
    "    assert hasattr(nonce,'hex') and hasattr(cipher,'hex') and hasattr(tag,'hex') and len(nonce) == len(tag) == 16\n",
    "    r = req.post(url+'/decrypt', auth=auth, data={'nonce': nonce.hex(), 'cipher': cipher.hex(), 'tag': tag.hex()})\n",
    "    if r.text.startswith('Error:'):\n",
    "        print(r.text)\n",
    "        return None\n",
    "    if 'INVALID' in r.text:\n",
    "        return None\n",
    "    return bytes.fromhex(r.text.strip())\n",
    "\n",
    "def forgery(nonce: bytes, cipher: bytes, tag: bytes) -> None:  # use this to submit your forgery once you've created it\n",
    "    assert type(nonce) == type(cipher) == type(tag) == bytes\n",
    "    assert len(cipher) >= 33 and len(nonce) == len(tag) == 16\n",
    "    r = req.post(url+'/validate_forgery', auth=auth, data={'nonce': nonce.hex(), 'cipher': cipher.hex(), 'tag': tag.hex()})\n",
    "    if r.text.startswith('Error:'):\n",
    "        print(r.text)\n",
    "    print('\\x1b[32m{}\\x1b[0m'.format(r.text.strip()))\n",
    "\n",
    "def random_nonce() -> bytes:\n",
    "    return os.urandom(16)\n",
    "\n",
    "# convert a number in [0..2^128) to a 16-byte block\n",
    "def n2b(n: int) -> bytes:\n",
    "    assert 0 <= n < 2**128\n",
    "    return int.to_bytes(n, 16, 'big')\n",
    "\n",
    "# convert a 16-byte block to a number in [0..2^128)\n",
    "def b2n(b: bytes) -> int:\n",
    "    assert len(b) == 16\n",
    "    return int.from_bytes(b, 'big')\n",
    "\n",
    "# XOR bytes\n",
    "def xor(xs:bytes, ys: bytes) -> bytes:\n",
    "    assert len(xs) == len(ys)\n",
    "    return bytes(x^y for x,y in zip(xs,ys))"
   ]
  },
  {
   "cell_type": "code",
   "execution_count": 2,
   "id": "8f317d57-b42d-4cac-9fd2-29df9c96e7d8",
   "metadata": {},
   "outputs": [],
   "source": [
    "# convert a number in [0..2^128) to a 16-byte block\n",
    "def n2b_64(n: int) -> bytes:\n",
    "    # assert 0 <= n < 2**128\n",
    "    return int.to_bytes(n, 64, 'big')\n",
    "\n",
    "# convert a 16-byte block to a number in [0..2^128)\n",
    "def b2n_64(b: bytes) -> int:\n",
    "    # assert len(b) == 64\n",
    "    return int.from_bytes(b, 'big')"
   ]
  },
  {
   "cell_type": "code",
   "execution_count": 3,
   "id": "e2f80dae-1759-4f1d-aa06-d20a62e85e95",
   "metadata": {},
   "outputs": [
    {
     "name": "stdout",
     "output_type": "stream",
     "text": [
      "nonce: 29d0fb5194bb998dd2cd53e5ae439eef (b')\\xd0\\xfbQ\\x94\\xbb\\x99\\x8d\\xd2\\xcdS\\xe5\\xaeC\\x9e\\xef')\n",
      "plaintext: 486921204a75737420747279696e6720746869732e (b'Hi! Just trying this.')\n",
      "ciphertext: cb7d75e59a3ca82a1c2f9986c9a15eae187da4f482 (b'\\xcb}u\\xe5\\x9a<\\xa8*\\x1c/\\x99\\x86\\xc9\\xa1^\\xae\\x18}\\xa4\\xf4\\x82')\n",
      "tag: 41c0a9ab14496f7a8e8dd5159e43fdf2 (b'A\\xc0\\xa9\\xab\\x14Ioz\\x8e\\x8d\\xd5\\x15\\x9eC\\xfd\\xf2')\n",
      "decrypted (correct): 486921204a75737420747279696e6720746869732e (b'Hi! Just trying this.')\n",
      "decrypted (invalid): None\n"
     ]
    }
   ],
   "source": [
    "################################################################\n",
    "\n",
    "# let's encrypt a plaintext and try decrypting a correct and invalid ciphertext.\n",
    "\n",
    "nonce = random_nonce()\n",
    "print('nonce: {} ({})'.format(nonce.hex(), repr(nonce)))\n",
    "\n",
    "plain = b\"Hi! Just trying this.\"\n",
    "print('plaintext: {} ({})'.format(plain.hex(), repr(plain)))\n",
    "\n",
    "\n",
    "cipher, tag = encrypt(nonce, plain)\n",
    "print('ciphertext: {} ({})'.format(cipher.hex(), repr(cipher)))\n",
    "print('tag: {} ({})'.format(tag.hex(), repr(tag)))\n",
    "\n",
    "plain2 = decrypt(nonce, cipher, tag)\n",
    "assert plain2 is not None\n",
    "print('decrypted (correct): {} ({})'.format(plain2.hex(), repr(plain2)))\n",
    "\n",
    "# let's flip a bit\n",
    "cipher = bytes([cipher[0] ^ 1]) + cipher[1:]\n",
    "plain3 = decrypt(nonce, cipher, tag)\n",
    "print('decrypted (invalid): {}'.format(plain3))"
   ]
  },
  {
   "cell_type": "code",
   "execution_count": 4,
   "id": "383c4dcf-65c6-42b6-8ed4-186ffc7ea4e9",
   "metadata": {},
   "outputs": [],
   "source": [
    "###########################"
   ]
  },
  {
   "cell_type": "code",
   "execution_count": 156,
   "id": "517b9200-672e-4a06-99c6-f6ecfe79d821",
   "metadata": {},
   "outputs": [
    {
     "data": {
      "text/plain": [
       "99658243781922747929894542049768960459"
      ]
     },
     "execution_count": 156,
     "metadata": {},
     "output_type": "execute_result"
    }
   ],
   "source": [
    "nonce_bytes = random_nonce()\n",
    "nonce_hex = nonce_bytes.hex()\n",
    "nonce_bytes\n",
    "nonce_number = b2n(nonce_bytes)\n",
    "nonce_number"
   ]
  },
  {
   "cell_type": "code",
   "execution_count": 157,
   "id": "0e16e283-f490-4f07-81ea-fe70b5d55247",
   "metadata": {},
   "outputs": [
    {
     "data": {
      "text/plain": [
       "b'\\x8d6\\xd6\\x8e,$\\x92?\\xef\\xfd\\x19\\x92\\xb9]}\\x8c\\xc5\\xabV\\x82\\xce\\x96\\xbd\\x86~y\\x10U\\xef\\xa6\\xeb%\\xdb1FF\\xed-d\\xf6\\xa1\\x9cI\\x17g\\xc3\\xd5\\xd3\\xcd\\xd4[L:|\\x86A\\x06\\xac\\xda\\xc6\\xd12\\x02\\x92'"
      ]
     },
     "execution_count": 157,
     "metadata": {},
     "output_type": "execute_result"
    }
   ],
   "source": [
    "message_bytes = os.urandom(64)\n",
    "message_hex = message_bytes.hex()\n",
    "message_bytes"
   ]
  },
  {
   "cell_type": "code",
   "execution_count": 158,
   "id": "ef86fbd6-74cb-4018-b86c-8fd4eaf2f2a4",
   "metadata": {},
   "outputs": [
    {
     "data": {
      "text/plain": [
       "[b'\\x8d6\\xd6\\x8e,$\\x92?\\xef\\xfd\\x19\\x92\\xb9]}\\x8c',\n",
       " b'\\xc5\\xabV\\x82\\xce\\x96\\xbd\\x86~y\\x10U\\xef\\xa6\\xeb%',\n",
       " b'\\xdb1FF\\xed-d\\xf6\\xa1\\x9cI\\x17g\\xc3\\xd5\\xd3',\n",
       " b'\\xcd\\xd4[L:|\\x86A\\x06\\xac\\xda\\xc6\\xd12\\x02\\x92']"
      ]
     },
     "execution_count": 158,
     "metadata": {},
     "output_type": "execute_result"
    }
   ],
   "source": [
    "message_number = b2n_64(message_bytes)\n",
    "message_bytes == n2b_64(message_number)\n",
    "message_array = []\n",
    "for i in range(0, 64, 16):\n",
    "    block = message_bytes[i:i+16]\n",
    "    message_array.append(block)\n",
    "message_array"
   ]
  },
  {
   "cell_type": "code",
   "execution_count": 159,
   "id": "1483982a-8a68-4f16-bd1b-bc7d81b7abdf",
   "metadata": {},
   "outputs": [
    {
     "data": {
      "text/plain": [
       "[b'\\x8d6\\xd6\\x8e,$\\x92?\\xef\\xfd\\x19\\x92\\xb9]}\\x8c',\n",
       " b'\\xc5\\xabV\\x82\\xce\\x96\\xbd\\x86~y\\x10U\\xef\\xa6\\xeb%',\n",
       " b'\\x00\\x00\\x00\\x00\\x00\\x00\\x00\\x00\\x00\\x00\\x00\\x00\\x00\\x00\\x00\\x80',\n",
       " b'\\xff\\xff\\xff\\xff\\xff\\xff\\xff\\xff\\xff\\xff\\xff\\xff\\xff\\xff\\xff\\xff']"
      ]
     },
     "execution_count": 159,
     "metadata": {},
     "output_type": "execute_result"
    }
   ],
   "source": [
    "# print(message_array[-2])\n",
    "# print(b\"\".join(message_array))\n",
    "# M[m-1]\n",
    "message_array[-2] = n2b(int(128))\n",
    "# M[m]\n",
    "# If it does not work, try with 16\n",
    "message_array[-1] = n2b(int(2**128 - 1))\n",
    "message_array"
   ]
  },
  {
   "cell_type": "code",
   "execution_count": 160,
   "id": "29f6b6b6-41fd-411a-bcbb-f15caddc060a",
   "metadata": {},
   "outputs": [
    {
     "data": {
      "text/plain": [
       "7395988370414512766327166272923899146894457685277051283517072879441430520033461152565527457204053500720068839007156641305925558478395053374651367771210386"
      ]
     },
     "execution_count": 160,
     "metadata": {},
     "output_type": "execute_result"
    }
   ],
   "source": [
    "b2n_64(message_bytes)"
   ]
  },
  {
   "cell_type": "code",
   "execution_count": 161,
   "id": "bd032580-0afe-4953-b735-ef470fcbb1e7",
   "metadata": {},
   "outputs": [
    {
     "data": {
      "text/plain": [
       "7395988370414512766327166272923899146894457685277051283517072879441430520033362008991147129494833931194038974865438883969222475774285745484877207351328767"
      ]
     },
     "execution_count": 161,
     "metadata": {},
     "output_type": "execute_result"
    }
   ],
   "source": [
    "# Remake message in bytes\n",
    "message_back = b\"\".join(message_array)\n",
    "b2n_64(message_back)"
   ]
  },
  {
   "cell_type": "code",
   "execution_count": 162,
   "id": "ea218f58-9c2c-4e3a-96d3-1c718b62f379",
   "metadata": {},
   "outputs": [],
   "source": [
    "cyphertext, tag = encrypt(nonce_bytes, message_back)\n",
    "# plaintext = decrypt(nonce_bytes, cyphertext, tag)\n",
    "# plaintext == message_back\n",
    "# list(cyphertext)"
   ]
  },
  {
   "cell_type": "code",
   "execution_count": 163,
   "id": "94900ed2-6ec6-4b66-8687-b6a316e45282",
   "metadata": {},
   "outputs": [
    {
     "name": "stdout",
     "output_type": "stream",
     "text": [
      "len 16\n",
      "len 16\n"
     ]
    },
    {
     "data": {
      "text/plain": [
       "[b'\\xaa\\xbbMw%k\\xa0,|\\xe4\\x9fUT\\xf5\\xc8\\xfa',\n",
       " b'\\xea\\x99\\xd5\\xc1{\\xec\\xc3}\\x92\\x02/\\xd2\\x8fpXG']"
      ]
     },
     "execution_count": 163,
     "metadata": {},
     "output_type": "execute_result"
    }
   ],
   "source": [
    "# M = M[1]    || M[m-2]   || M[m-1]   || M[m]\n",
    "# M = M[0:16] || M[16:32] || M[32:48] || M[48:64]\n",
    "cyphertext_forge_array = []\n",
    "for i in range(0, 32, 16):\n",
    "    block = cyphertext[i:i+16]\n",
    "    cyphertext_forge_array.append(block)\n",
    "    print(f\"len {len(block)}\")\n",
    "cyphertext_forge_array"
   ]
  },
  {
   "cell_type": "code",
   "execution_count": 164,
   "id": "b4fdd3a5-a171-46ac-977a-e9748bddcc79",
   "metadata": {},
   "outputs": [
    {
     "data": {
      "text/plain": [
       "b'\\xaa\\xbbMw%k\\xa0,|\\xe4\\x9fUT\\xf5\\xc8\\xfa\\xea\\x99\\xd5\\xc1{\\xec\\xc3}\\x92\\x02/\\xd2\\x8fpXG$\\x80\\xd6P\\xcb\\x91\\xfeDEl\\x9a\\xe5\\xa5{-.\\xa0\\x0e\\xdf\\x0c?D\\xeal\\xdev\\xa1%\\x9e\\xff\\xaf\\xc0'"
      ]
     },
     "execution_count": 164,
     "metadata": {},
     "output_type": "execute_result"
    }
   ],
   "source": [
    "cyphertext"
   ]
  },
  {
   "cell_type": "code",
   "execution_count": 165,
   "id": "aab36bf8-bed2-43e4-8e1e-9c860322933e",
   "metadata": {},
   "outputs": [],
   "source": [
    "def compute_m_1(cyphertext, message):\n",
    "    # left = C[m-1]\n",
    "    left = cyphertext[32:48]\n",
    "    # left = cyphertext[48:64]\n",
    "    # middle = n2b(b2n(message_back[48:64]))\n",
    "    middle = n2b(int(128))\n",
    "    # right_sum = n2b(b2n(cyphertext[0:16]) + b2n(cyphertext[16:32]))\n",
    "    right_sum = xor(message_back[0:16], message_back[16:32])\n",
    "                    # + b2n(cyphertext[32:48]))\n",
    "    # print(f\"len left {len(left)} middle {len(middle)} right {len(right_sum)}\")\n",
    "    # print(f\"type left {type(left)} middle {type(middle)} right {type(right_sum)}\")\n",
    "    # print(f\"left {left}\")\n",
    "    # print(f\"middle {middle}\")\n",
    "    first = xor(left, middle) \n",
    "    return xor(first, right_sum)\n",
    "# add C'[m-1]\n",
    "cyphertext_forge_array.append(compute_m_1(cyphertext, message_back))\n",
    "# add C'[m]\n",
    "# cyphertext_forge_array.append(cyphertext[48:64])\n",
    "forge_text = b\"\".join(cyphertext_forge_array)"
   ]
  },
  {
   "cell_type": "code",
   "execution_count": 166,
   "id": "b1cabc07-6ff7-44d9-b7e2-6526357bd934",
   "metadata": {},
   "outputs": [],
   "source": [
    "T_prime = xor(message_back[48:64], cyphertext[48:64])\n",
    "T_prime\n",
    "assert message_array[3] == message_back[48:64]"
   ]
  },
  {
   "cell_type": "code",
   "execution_count": 167,
   "id": "5da64a26-0989-40f0-8f62-0d452457878f",
   "metadata": {},
   "outputs": [
    {
     "name": "stdout",
     "output_type": "stream",
     "text": [
      "len nonce_bytes 16 forge_text 48 T_prime 16\n",
      "type nonce_bytes <class 'bytes'> forge_text <class 'bytes'> T_prime <class 'bytes'>\n"
     ]
    }
   ],
   "source": [
    "print(f\"len nonce_bytes {len(nonce_bytes)} forge_text {len(forge_text)} T_prime {len(T_prime)}\")\n",
    "print(f\"type nonce_bytes {type(nonce_bytes)} forge_text {type(forge_text)} T_prime {type(T_prime)}\")\n",
    "assert len(forge_text) == 48"
   ]
  },
  {
   "cell_type": "code",
   "execution_count": 168,
   "id": "227a6d2f-3175-42b0-b6de-70e92ae0c776",
   "metadata": {},
   "outputs": [
    {
     "name": "stdout",
     "output_type": "stream",
     "text": [
      "\u001b[32mWell done! We are accepting this authenticated ciphertext as a forgery. The tale of your success has been saved to disk.\u001b[0m\n"
     ]
    }
   ],
   "source": [
    "# def forgery(nonce: bytes, cipher: bytes, tag: bytes) -> None:  # use this to submit your forgery once you've created it\n",
    "forgery(nonce_bytes, forge_text, T_prime)"
   ]
  },
  {
   "cell_type": "code",
   "execution_count": null,
   "id": "98efd675-2339-4f85-b7dc-defd2bb27e14",
   "metadata": {},
   "outputs": [],
   "source": []
  },
  {
   "cell_type": "code",
   "execution_count": null,
   "id": "df0035dd-564c-4264-ab11-b8969a9015d1",
   "metadata": {},
   "outputs": [],
   "source": []
  }
 ],
 "metadata": {
  "kernelspec": {
   "display_name": "Python 3 (ipykernel)",
   "language": "python",
   "name": "python3"
  },
  "language_info": {
   "codemirror_mode": {
    "name": "ipython",
    "version": 3
   },
   "file_extension": ".py",
   "mimetype": "text/x-python",
   "name": "python",
   "nbconvert_exporter": "python",
   "pygments_lexer": "ipython3",
   "version": "3.10.8"
  }
 },
 "nbformat": 4,
 "nbformat_minor": 5
}
