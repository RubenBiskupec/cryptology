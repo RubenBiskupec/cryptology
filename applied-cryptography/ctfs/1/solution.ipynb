{
 "cells": [
  {
   "cell_type": "markdown",
   "id": "2e2378de-2738-4cd0-b4e7-8652ad144b8a",
   "metadata": {},
   "source": [
    "## 1 A"
   ]
  },
  {
   "cell_type": "code",
   "execution_count": 28,
   "id": "202cbdf7-6397-4993-849c-e230afa767b7",
   "metadata": {},
   "outputs": [
    {
     "name": "stdout",
     "output_type": "stream",
     "text": [
      "target hash value: b'\\x8a\\xfc\\x96\\xc8\\xd0\\xc3KtBc\\xd5\\xc5\\xc6\\t\\xd6\\x16'\n"
     ]
    }
   ],
   "source": [
    "import sys, requests, re, random, os\n",
    "\n",
    "url, auth = 'http://131.155.21.174:8084', ('', 'ilovecrypto')\n",
    "sid, token = 20221886, '6950e84b50d4e62cc6be6010a8333a5c2ad46f7f'\n",
    "\n",
    "req = requests.Session()\n",
    "req.cookies['token'] = token\n",
    "\n",
    "r = req.get(url+'/', auth=auth)\n",
    "target = bytes.fromhex(re.search('target_hash = ([0-9a-f]+)', r.text).groups()[0])\n",
    "target_hash = \"8afc96c8d0c34b744263d5c5c609d616\"\n",
    "\n",
    "def hash(x):\n",
    "    r = req.post(url+'/hash', auth=auth, data={'data': x.hex()})\n",
    "    return bytes.fromhex(r.text)\n",
    "\n",
    "def multi_unhash(xs):\n",
    "    r = req.post(url+'/multi_unhash', auth=auth, data={'hashes': [x.hex() for x in xs]})\n",
    "    r = r.text.strip().split()\n",
    "    if r[1] == 'None': \n",
    "        return int(r[0]), None  # bad query\n",
    "    return int(r[0]), bytes.fromhex(r[1])\n",
    "\n",
    "def preimage(x):  # use this to submit your preimage\n",
    "    r = req.post(url+'/validate_preimage', auth=auth, data={'data': x.hex()})\n",
    "    print('\\x1b[32m{}\\x1b[0m'.format(r.text.strip()))\n",
    "\n",
    "################################################################\n",
    "print(f'target hash value: {target}')\n",
    "# print('target hash value: {}'.format(target.hex()))\n",
    "\n",
    "# let's compute a few hash values for fun\n",
    "\n",
    "def generate_hashes():\n",
    "    xs = []\n",
    "    for _ in range(24):\n",
    "        x = os.urandom(random.randrange(5,20))\n",
    "        message = x.hex()\n",
    "        message_hash = hash(x)\n",
    "        xs.append(message_hash)\n",
    "    return xs"
   ]
  },
  {
   "cell_type": "code",
   "execution_count": 38,
   "id": "b132ef36-d9d3-46c7-83d1-4baf40cc1ff8",
   "metadata": {},
   "outputs": [],
   "source": [
    "def solve():\n",
    "    print(f\"target hash {target_hash}\")\n",
    "    i = 0\n",
    "    while True:\n",
    "        i += 1\n",
    "        xs = generate_hashes()\n",
    "        xs.insert(12, target)\n",
    "        preimage = multi_unhash(xs)\n",
    "        preimage_hash = hash(preimage[1]).hex()\n",
    "        print(f\"preimage hash {i} = {preimage_hash}\")\n",
    "        if (preimage_hash == target2):\n",
    "            print(f\"preimage {preimage[1].hex()}\")\n",
    "            print(f\"preimage hash {preimage_hash}\")\n",
    "            return preimage[1].hex()"
   ]
  },
  {
   "cell_type": "code",
   "execution_count": 39,
   "id": "de27fe3e-6083-4420-bf88-33690446b45f",
   "metadata": {},
   "outputs": [
    {
     "name": "stdout",
     "output_type": "stream",
     "text": [
      "target hash 8afc96c8d0c34b744263d5c5c609d616\n",
      "preimage hash 1 = 7fbc993a71743a1adb220568f287979c\n",
      "preimage hash 2 = 8e538c10ad4a8b3ebe7c525747b779d4\n",
      "preimage hash 3 = 8b0270d3e9c455c3725432bac3a371d5\n",
      "preimage hash 4 = 8afc96c8d0c34b744263d5c5c609d616\n",
      "preimage 48656c6c6f2c2032303232313838362e205468697320697320796f757220707265696d6167652e20536f6d652072616e646f6d6e6573733a203337326166663438313239393134323837636536643036666539386463636339\n",
      "preimage hash 8afc96c8d0c34b744263d5c5c609d616\n"
     ]
    },
    {
     "data": {
      "text/plain": [
       "'48656c6c6f2c2032303232313838362e205468697320697320796f757220707265696d6167652e20536f6d652072616e646f6d6e6573733a203337326166663438313239393134323837636536643036666539386463636339'"
      ]
     },
     "execution_count": 39,
     "metadata": {},
     "output_type": "execute_result"
    }
   ],
   "source": [
    "sol = solve()\n",
    "sol"
   ]
  },
  {
   "cell_type": "markdown",
   "id": "07a2a22a-bb83-4a08-b7d6-8a451783f055",
   "metadata": {},
   "source": [
    "## 1 B"
   ]
  },
  {
   "cell_type": "code",
   "execution_count": 40,
   "id": "368a4941-6513-4cf0-9a4f-79cd43ccbca7",
   "metadata": {},
   "outputs": [
    {
     "data": {
      "text/plain": [
       "42"
      ]
     },
     "execution_count": 40,
     "metadata": {},
     "output_type": "execute_result"
    }
   ],
   "source": [
    "N = 47641986688040193867377071289707038226486095080434488478557235920260051619212976109300257901646278642780852000629457258208885956988467583153162929158543252389566040916909256552175444520709560832795397422059532153740131565807964720296262734778654915668031798555272566354293548000081225499135036903655561872481\n",
    "g = 1973562372334739436117157396994411802795036014353454350182655881706341376046726071153435464248164251020750758985477740519314050545345059627577624541367681592362875422542356588779142865255880725220775657732229921437703762688429345758213803939418815981097096148970297596554980802312428187930688849077340601082\n",
    "mod(g^2, N)"
   ]
  },
  {
   "cell_type": "code",
   "execution_count": 41,
   "id": "f268bf18-bde3-4a32-8eef-402212517978",
   "metadata": {},
   "outputs": [
    {
     "name": "stdout",
     "output_type": "stream",
     "text": [
      "n: 47641986688040193867377071289707038226486095080434488478557235920260051619212976109300257901646278642780852000629457258208885956988467583153162929158543252389566040916909256552175444520709560832795397422059532153740131565807964720296262734778654915668031798555272566354293548000081225499135036903655561872481\n",
      "value: 8537473694 ~> sqrt: None\n",
      "value: 6173092323 ~> sqrt: None\n",
      "value: 2451026709 ~> sqrt: None\n",
      "value: 5227271663 ~> sqrt: None\n",
      "value: 6390925781 ~> sqrt: None\n",
      "value: 5565618969 ~> sqrt: None\n",
      "value: 5857686769 ~> sqrt: None\n",
      "value: 5761937298 ~> sqrt: None\n",
      "value: 6203830910 ~> sqrt: None\n",
      "value: 5891617749 ~> sqrt: 5557440900192710505772330666355067727623638350204603051036177120319139034026399354749683544762925945562860627282480744059265789445799138783073460768714874089363354183222744682665812423422084235845671557144381488961589998109256701797457058349386700750785047748570591015164099313567659713316122964377601851510\n"
     ]
    }
   ],
   "source": [
    "import sys, requests, re, random\n",
    "\n",
    "url, auth = 'http://131.155.21.174:8184', ('', 'ilovecrypto')\n",
    "sid, token = 20221886, '7dea095feb8c9c0fa5d12d553ab721de4577957d'\n",
    "\n",
    "req = requests.Session()\n",
    "req.cookies['token'] = token\n",
    "\n",
    "r = req.get(url+'/', auth=auth)\n",
    "n = int(re.findall('n = ([0-9]+)', r.text)[0])\n",
    "\n",
    "def sqrt(x):\n",
    "    r = req.post(url+'/sqrt', auth=auth, data={'value': x})\n",
    "    if r.text.strip() == 'None': return None  # not a square\n",
    "    return int(r.text)\n",
    "\n",
    "def factorization(p, q):  # use this to submit your factorization\n",
    "    assert type(p) == type(q) == int\n",
    "    r = req.post(url+'/validate_factorization', auth=auth, data={'p': '{:d}'.format(p), 'q': '{:d}'.format(q)})\n",
    "    print('\\x1b[32m{}\\x1b[0m'.format(r.text.strip()))\n",
    "\n",
    "################################################################\n",
    "\n",
    "print('n: {}'.format(n))\n",
    "\n",
    "# let's compute a few square roots for fun\n",
    "\n",
    "for _ in range(10):\n",
    "    x = random.randrange(10**10)\n",
    "    print('value: {}'.format(x), end = ' ~> ')\n",
    "    print('sqrt: {}'.format(sqrt(x)))"
   ]
  },
  {
   "cell_type": "code",
   "execution_count": 58,
   "id": "baf37ecc-c30a-4ebc-ae9e-6d45b39381ae",
   "metadata": {},
   "outputs": [],
   "source": [
    "def solve():\n",
    "    # https://crypto.stackexchange.com/questions/34061/factoring-large-n-given-oracle-to-find-square-roots-modulo-n\n",
    "    # https://math.stackexchange.com/questions/633160/modular-arithmetic-find-the-square-root\n",
    "    while True:\n",
    "        x = random.randint(0, N-1)\n",
    "        x2 = int(mod(x^2, N))\n",
    "        # print('value: {}'.format(x2), end = ' -> ')\n",
    "        y = sqrt(x2)\n",
    "        # print('sqrt: {}'.format(y))\n",
    "        if y:\n",
    "            y2 = int(mod(y^2, N))\n",
    "            # print(f\"x2 {x2} == {y2} y2\")\n",
    "            sol = gcd(x + y, N)    \n",
    "            if sol != 1 and sol != N:\n",
    "                return sol"
   ]
  },
  {
   "cell_type": "code",
   "execution_count": 59,
   "id": "2c70acb1-ad5b-4bc9-bf20-55410fd7e3a9",
   "metadata": {},
   "outputs": [
    {
     "name": "stdout",
     "output_type": "stream",
     "text": [
      "Solution! p: 13296306367833070932025183798119196681658330744582826048552378042206097171995410042424539861419819383823964657670268624773688144521607820415276326211219113, q: 3583099348800919363874090572250302828397954662694388937368140488569787142280059937122900813045905801462205862616043865033586780383720026774964829885158137\n"
     ]
    }
   ],
   "source": [
    "sol = solve()\n",
    "p = sol\n",
    "q = N / p\n",
    "print(f\"Solution! p: {p}, q: {q}\")"
   ]
  },
  {
   "cell_type": "code",
   "execution_count": 61,
   "id": "aa9e447a-238d-4952-bfc7-537b9c8c6869",
   "metadata": {},
   "outputs": [
    {
     "data": {
      "text/plain": [
       "True"
      ]
     },
     "execution_count": 61,
     "metadata": {},
     "output_type": "execute_result"
    }
   ],
   "source": [
    "N == p * q"
   ]
  },
  {
   "cell_type": "code",
   "execution_count": 62,
   "id": "2ec6d935-0768-4772-bf16-2c2f3d03eef9",
   "metadata": {},
   "outputs": [
    {
     "data": {
      "text/plain": [
       "13296306367833070932025183798119196681658330744582826048552378042206097171995410042424539861419819383823964657670268624773688144521607820415276326211219113"
      ]
     },
     "execution_count": 62,
     "metadata": {},
     "output_type": "execute_result"
    }
   ],
   "source": [
    "p"
   ]
  },
  {
   "cell_type": "code",
   "execution_count": 63,
   "id": "202f2f21-fb4e-4182-8d5c-f96981faf028",
   "metadata": {},
   "outputs": [
    {
     "data": {
      "text/plain": [
       "3583099348800919363874090572250302828397954662694388937368140488569787142280059937122900813045905801462205862616043865033586780383720026774964829885158137"
      ]
     },
     "execution_count": 63,
     "metadata": {},
     "output_type": "execute_result"
    }
   ],
   "source": [
    "q"
   ]
  },
  {
   "cell_type": "code",
   "execution_count": null,
   "id": "1814adfa-8e46-4546-99b2-176fe3b55284",
   "metadata": {},
   "outputs": [],
   "source": []
  }
 ],
 "metadata": {
  "kernelspec": {
   "display_name": "SageMath 9.7",
   "language": "sage",
   "name": "sagemath"
  },
  "language_info": {
   "codemirror_mode": {
    "name": "ipython",
    "version": 3
   },
   "file_extension": ".py",
   "mimetype": "text/x-python",
   "name": "python",
   "nbconvert_exporter": "python",
   "pygments_lexer": "ipython3",
   "version": "3.10.8"
  }
 },
 "nbformat": 4,
 "nbformat_minor": 5
}
