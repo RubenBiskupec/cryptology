{
 "cells": [
  {
   "cell_type": "markdown",
   "id": "c95355e4-c119-41cd-8232-d9dd01dff71c",
   "metadata": {},
   "source": [
    "### 2"
   ]
  },
  {
   "cell_type": "code",
   "execution_count": 1,
   "id": "7c9555a2-a831-44fe-8f9d-afe035a191bf",
   "metadata": {},
   "outputs": [],
   "source": [
    "import sys, requests, re, hashlib\n",
    "\n",
    "hashlen = 5\n",
    "\n",
    "url, auth = 'http://131.155.21.174:8081', ('', 'ilovecrypto')\n",
    "sid, token = 20221886, '2635699b040f28285b99c543000fa18b4c895b8f'\n",
    "\n",
    "sha = lambda m: int(hashlib.sha256((str(sid) + m).encode()).hexdigest()[:2*hashlen],16)\n",
    "\n",
    "req = requests.Session()\n",
    "req.cookies['token'] = token\n",
    "\n",
    "r = req.get(url+'/', auth=auth)\n",
    "n = int(re.search('n = ([0-9]+)', r.text).groups()[0])\n",
    "e = int(re.search('e = ([0-9]+)', r.text).groups()[0])\n",
    "\n",
    "def sign(m):\n",
    "    r = req.post(url+'/sign', auth=auth, data={'msg': m})\n",
    "    return int(r.text)\n",
    "\n",
    "def validate(m, s):\n",
    "    return pow(s, e, n) == sha(m)\n",
    "\n",
    "def forgery(m, s):  # use this to submit your forgery once you've created it\n",
    "    assert validate(m, s)\n",
    "    r = req.post(url+'/validate_forgery', auth=auth, data={'msg': m, 'sig': str(s)})\n",
    "    print('\\x1b[32m{}\\x1b[0m'.format(r.text.strip()))"
   ]
  },
  {
   "cell_type": "code",
   "execution_count": 2,
   "id": "218a5b96-3614-410e-b864-0be3d92a4018",
   "metadata": {},
   "outputs": [
    {
     "name": "stdout",
     "output_type": "stream",
     "text": [
      "public key: (152579285830235283227503885618892788961746910948104335839580651604160494241155242702334719934333460339845046895967236926672703967744310415286811741793540032355222144961745639991261008849867029346310388557481825441994609705068613777142239993109917812839610685937299142063270835695533679969730527395292945973567, 65537)\n",
      "message: '00000000000000000000000000000000000000Hi! Just trying this for fun'\n",
      "hash value: 170358956145\n",
      "signature: 142829274821760819948729885194143352063928029083010484592453889814588997197919300382241806143853064848055714306431674450929832724855020075027655219160056840919895872936878383918505139682021526977321017393881657446625508182422174551130342107241865705781005069544560980747562902433830063004482009487916799291224\n",
      "is valid? True\n"
     ]
    }
   ],
   "source": [
    "print('public key: {}'.format((n,e)))\n",
    "\n",
    "# let's sign a message and verify the signature\n",
    "\n",
    "msg = \"00000000000000000000000000000000000000Hi! Just trying this for fun\"\n",
    "print('message: {}'.format(repr(msg)))\n",
    "\n",
    "val = sha(msg)\n",
    "print('hash value: {}'.format(val))\n",
    "\n",
    "sig = sign(msg)\n",
    "print('signature: {}'.format(sig))\n",
    "print('is valid? {}'.format(validate(msg, sig)))"
   ]
  },
  {
   "cell_type": "code",
   "execution_count": 126,
   "id": "d8b9bb36-45e9-4431-9b1f-18fdfb6ad02b",
   "metadata": {},
   "outputs": [],
   "source": [
    "def getPrimes(bound):\n",
    "    p = Primes()\n",
    "    list_primes = []\n",
    "    prime = p.first()\n",
    "    while prime <= bound:\n",
    "        list_primes.append(prime)\n",
    "        prime = p.next(prime)\n",
    "    list_primes = [int(prime) for prime in list_primes]\n",
    "    return list_primes\n",
    "\n",
    "S = getPrimes(1000)\n",
    "l = len(S)"
   ]
  },
  {
   "cell_type": "code",
   "execution_count": 127,
   "id": "c323da56-de77-4671-bfb2-2c21b661f206",
   "metadata": {},
   "outputs": [],
   "source": [
    "def bruteForce(n_msg, bound):\n",
    "    max_length = 2^256\n",
    "    suitable_msg = []\n",
    "    while len(suitable_msg) < n_msg:\n",
    "        m = randint(1, max_length)\n",
    "        h = sha(str(m))        \n",
    "        if max(list(factor(h)))[0] <= bound:\n",
    "            if h not in suitable_msg:\n",
    "                suitable_msg.append((m, h))\n",
    "    return suitable_msg"
   ]
  },
  {
   "cell_type": "code",
   "execution_count": 218,
   "id": "34707f00-c1fb-419c-aef1-6dc2baa6d2b4",
   "metadata": {},
   "outputs": [],
   "source": [
    "H = bruteForce(l * 4, 1000)\n",
    "J = H[0]"
   ]
  },
  {
   "cell_type": "code",
   "execution_count": 219,
   "id": "e20e5faf-2a29-4098-aa89-96bc939aed80",
   "metadata": {},
   "outputs": [
    {
     "data": {
      "text/plain": [
       "(9342402959144252352375707487357706467916368572257867165551669044388447696802,\n",
       " 227699366877)"
      ]
     },
     "execution_count": 219,
     "metadata": {},
     "output_type": "execute_result"
    }
   ],
   "source": [
    "while J in H:\n",
    "    J = bruteForce(1, 1000)[0] # returns an array, so [0]\n",
    "J # The message for which we will forge the signature"
   ]
  },
  {
   "cell_type": "code",
   "execution_count": 220,
   "id": "d3396bc9-ab37-4272-8f5b-f6a71bd55ddd",
   "metadata": {},
   "outputs": [],
   "source": [
    "H_factor = [factor(h[1]) for h in H]"
   ]
  },
  {
   "cell_type": "code",
   "execution_count": 221,
   "id": "62a55423-78b1-4010-95f5-1c67f95acde8",
   "metadata": {},
   "outputs": [
    {
     "data": {
      "text/plain": [
       "2^4 * 103 * 173 * 379 * 809"
      ]
     },
     "execution_count": 221,
     "metadata": {},
     "output_type": "execute_result"
    }
   ],
   "source": [
    "H_factor[0]"
   ]
  },
  {
   "cell_type": "code",
   "execution_count": 222,
   "id": "ea96ee27-835b-405f-8423-4118bc11c5fa",
   "metadata": {},
   "outputs": [
    {
     "name": "stdout",
     "output_type": "stream",
     "text": [
      "997\n",
      "167\n"
     ]
    }
   ],
   "source": [
    "p_place = {}\n",
    "i = 0\n",
    "# for ptime in list of Primes up to X (1000)\n",
    "for p in S:\n",
    "    p_place[p] = i\n",
    "    i += 1\n",
    "print(max(p_place))\n",
    "print(p_place[997])"
   ]
  },
  {
   "cell_type": "code",
   "execution_count": 223,
   "id": "bfd92032-8322-4494-9bfe-9ed6905768a6",
   "metadata": {},
   "outputs": [
    {
     "data": {
      "text/plain": [
       "168"
      ]
     },
     "execution_count": 223,
     "metadata": {},
     "output_type": "execute_result"
    }
   ],
   "source": [
    "A = matrix(l * 4, l)\n",
    "\n",
    "i = 0\n",
    "for h in H_factor:\n",
    "    for p in h:\n",
    "        pos = p_place[p[0]]\n",
    "        A[i, pos] = p[1]\n",
    "    i += 1\n",
    "A[0]\n",
    "rank(A)\n",
    "# len(A[0])"
   ]
  },
  {
   "cell_type": "code",
   "execution_count": 224,
   "id": "1c039120-555f-4aca-9dc5-ef64be543770",
   "metadata": {},
   "outputs": [
    {
     "data": {
      "text/plain": [
       "3^2 * 31 * 59 * 101 * 151 * 907"
      ]
     },
     "execution_count": 224,
     "metadata": {},
     "output_type": "execute_result"
    }
   ],
   "source": [
    "J_factor = factor(J[1])\n",
    "J_factor"
   ]
  },
  {
   "cell_type": "code",
   "execution_count": 225,
   "id": "1e0e888b-719b-4e9e-b063-2ffcaa80c2a1",
   "metadata": {},
   "outputs": [],
   "source": [
    "J_arr = vector([0 for i in range(l)])"
   ]
  },
  {
   "cell_type": "code",
   "execution_count": 226,
   "id": "457bf563-e50c-492d-89a6-feec8bd9d397",
   "metadata": {},
   "outputs": [
    {
     "data": {
      "text/plain": [
       "(0, 2, 0, 0, 0, 0, 0, 0, 0, 0, 1, 0, 0, 0, 0, 0, 1, 0, 0, 0, 0, 0, 0, 0, 0, 1, 0, 0, 0, 0, 0, 0, 0, 0, 0, 1, 0, 0, 0, 0, 0, 0, 0, 0, 0, 0, 0, 0, 0, 0, 0, 0, 0, 0, 0, 0, 0, 0, 0, 0, 0, 0, 0, 0, 0, 0, 0, 0, 0, 0, 0, 0, 0, 0, 0, 0, 0, 0, 0, 0, 0, 0, 0, 0, 0, 0, 0, 0, 0, 0, 0, 0, 0, 0, 0, 0, 0, 0, 0, 0, 0, 0, 0, 0, 0, 0, 0, 0, 0, 0, 0, 0, 0, 0, 0, 0, 0, 0, 0, 0, 0, 0, 0, 0, 0, 0, 0, 0, 0, 0, 0, 0, 0, 0, 0, 0, 0, 0, 0, 0, 0, 0, 0, 0, 0, 0, 0, 0, 0, 0, 0, 0, 0, 0, 1, 0, 0, 0, 0, 0, 0, 0, 0, 0, 0, 0, 0, 0)"
      ]
     },
     "execution_count": 226,
     "metadata": {},
     "output_type": "execute_result"
    }
   ],
   "source": [
    "for p in J_factor:\n",
    "        pos = p_place[p[0]]\n",
    "        J_arr[pos] = p[1] \n",
    "J_vector = vector(J_arr)\n",
    "J_vector # V tao"
   ]
  },
  {
   "cell_type": "code",
   "execution_count": 227,
   "id": "dd432f8f-b24f-4fa6-bc9a-26e3c2d6f212",
   "metadata": {},
   "outputs": [
    {
     "data": {
      "text/plain": [
       "True"
      ]
     },
     "execution_count": 227,
     "metadata": {},
     "output_type": "execute_result"
    }
   ],
   "source": [
    "f_e = GF(e)\n",
    "AT = A.transpose()\n",
    "AT = matrix(f_e,AT)\n",
    "sol = AT.solve_right(vector(f_e, J_vector))\n",
    "AT * sol == J_vector"
   ]
  },
  {
   "cell_type": "code",
   "execution_count": 228,
   "id": "0303baab-413c-4d7e-97bf-13ccf968ea08",
   "metadata": {},
   "outputs": [
    {
     "data": {
      "text/plain": [
       "(6488165, 3473462, 1703963, 1179666, 1048592, 983055, 524296, 524296, 655370, 393222, 262148, 262148, 262148, 393222, 131074, 262148, 131074, 131074, 131074, 196611, 262149, 131074, 131074, 65537, 131074, 196611, 196611, 65537, 393222, 196612, 196611, 65537, 196611, 65537, 131074, 131074, 65537, 196611, 131074, 262148, 196611, 65537, 131074, 0, 0, 0, 65537, 131074, 131074, 131074, 131074, 65537, 65537, 131074, 65537, 196611, 65537, 131074, 131074, 65537, 65537, 131074, 65537, 65537, 131074, 65537, 65537, 65537, 131074, 196611, 0, 0, 0, 131074, 65537, 65537, 0, 0, 131074, 0, 131074, 0, 0, 65537, 0, 262148, 0, 0, 0, 65537, 0, 65537, 65537, 1, 0, 65537, 0, 65537, 65537, 196611, 65538, 0, 0, 65537, 0, 65537, 65537, 131074, 0, 65537, 0, 0, 65537, 65537, 0, 0, 0, 0, 131074, 0, 65537, 0, 65537, 65537, 0, 65537, 0, 0, 0, 0, 0, 65537, 0, 0, 0, 0, 65537, 0, 0, 65537, 0, 65537, 0, 65537, 65537, 0, 0, 65537, 65537, 0, 0, 65537, 65537, 0, 65537, 0, 65537, 0, 0, 0, 0, 0, 0, 0, 0, 0, 65537, 65537)"
      ]
     },
     "execution_count": 228,
     "metadata": {},
     "output_type": "execute_result"
    }
   ],
   "source": [
    "B_sum"
   ]
  },
  {
   "cell_type": "code",
   "execution_count": 229,
   "id": "c890ab94-a470-4ca1-b76d-d28ed9d151ec",
   "metadata": {},
   "outputs": [
    {
     "data": {
      "text/plain": [
       "(6422626, 4522055, 2687017, 1310740, 917518, 851981, 720907, 393222, 786444, 720907, 327686, 458759, 327685, 589833, 393222, 262148, 131075, 327685, 458759, 327685, 196611, 262148, 196611, 65537, 131074, 327686, 196611, 327685, 196611, 262148, 131074, 131074, 65537, 262148, 131074, 327686, 131074, 65537, 131074, 65537, 65537, 131074, 262148, 65537, 131074, 0, 131074, 65537, 65537, 65537, 0, 196611, 131074, 65537, 131074, 131074, 65537, 196611, 65537, 65537, 65537, 131074, 65537, 131074, 0, 131074, 65537, 131074, 0, 65537, 131074, 0, 65537, 131074, 65537, 0, 65537, 0, 0, 65537, 65537, 65537, 0, 0, 65537, 65537, 0, 65537, 0, 65537, 65537, 196611, 0, 65537, 0, 65537, 0, 65537, 0, 0, 131074, 0, 65537, 65537, 65537, 65537, 65537, 0, 0, 65537, 0, 65537, 65537, 65537, 65537, 0, 0, 65537, 0, 65537, 0, 65537, 131074, 0, 0, 0, 65537, 0, 0, 0, 0, 0, 0, 0, 0, 65537, 0, 0, 65537, 65537, 0, 131074, 0, 131074, 0, 0, 0, 65537, 0, 0, 0, 65537, 0, 0, 1, 65537, 65537, 0, 0, 0, 0, 65537, 65537, 131074, 0, 131074, 0, 65537)"
      ]
     },
     "execution_count": 229,
     "metadata": {},
     "output_type": "execute_result"
    }
   ],
   "source": [
    "B_sum = vector(ZZ, [0]*len(A[0]))\n",
    "j = 0\n",
    "for i in sol:\n",
    "    B_sum += int(i) * vector(ZZ,A[j])\n",
    "    j += 1\n",
    "B_sum"
   ]
  },
  {
   "cell_type": "code",
   "execution_count": 230,
   "id": "abcf4887-5db7-4ce4-b97d-b090279ed3f0",
   "metadata": {},
   "outputs": [
    {
     "data": {
      "text/plain": [
       "(-98, -69, -41, -20, -14, -13, -11, -6, -12, -11, -5, -7, -5, -9, -6, -4, -2, -5, -7, -5, -3, -4, -3, -1, -2, -5, -3, -5, -3, -4, -2, -2, -1, -4, -2, -5, -2, -1, -2, -1, -1, -2, -4, -1, -2, 0, -2, -1, -1, -1, 0, -3, -2, -1, -2, -2, -1, -3, -1, -1, -1, -2, -1, -2, 0, -2, -1, -2, 0, -1, -2, 0, -1, -2, -1, 0, -1, 0, 0, -1, -1, -1, 0, 0, -1, -1, 0, -1, 0, -1, -1, -3, 0, -1, 0, -1, 0, -1, 0, 0, -2, 0, -1, -1, -1, -1, -1, 0, 0, -1, 0, -1, -1, -1, -1, 0, 0, -1, 0, -1, 0, -1, -2, 0, 0, 0, -1, 0, 0, 0, 0, 0, 0, 0, 0, -1, 0, 0, -1, -1, 0, -2, 0, -2, 0, 0, 0, -1, 0, 0, 0, -1, 0, 0, 0, -1, -1, 0, 0, 0, 0, -1, -1, -2, 0, -2, 0, -1)"
      ]
     },
     "execution_count": 230,
     "metadata": {},
     "output_type": "execute_result"
    }
   ],
   "source": [
    "# print(type(A))\n",
    "# print(type(B_sum))\n",
    "# print(type(sol))\n",
    "C = (J_vector - B_sum)/e\n",
    "C"
   ]
  },
  {
   "cell_type": "code",
   "execution_count": 231,
   "id": "25e34f0f-98c1-420b-aae1-ca0a42aeff34",
   "metadata": {},
   "outputs": [],
   "source": [
    "C  = vector(ZZ,C)"
   ]
  },
  {
   "cell_type": "code",
   "execution_count": 232,
   "id": "34227c25-7f01-4a25-8a37-b83b9e01fc9b",
   "metadata": {},
   "outputs": [],
   "source": [
    "# get signatures\n",
    "G = []\n",
    "for m in H:\n",
    "    G.append(sign(m[0]))"
   ]
  },
  {
   "cell_type": "code",
   "execution_count": 233,
   "id": "d948486a-9158-41d8-b8df-b566bf79864f",
   "metadata": {},
   "outputs": [],
   "source": [
    "for h, g in zip(H, G):\n",
    "    # print(f\"h {h}, g {g}\")\n",
    "    # print(f\"type h {type(h[1])}\")\n",
    "    # print(f\"type g {type(g)}\")\n",
    "    assert pow(g, e, n) == sha(str(h[0]))"
   ]
  },
  {
   "cell_type": "code",
   "execution_count": null,
   "id": "0e53c24b-73cc-4291-af53-2be5eb120939",
   "metadata": {},
   "outputs": [],
   "source": []
  },
  {
   "cell_type": "code",
   "execution_count": 238,
   "id": "4bffaff2-e9d0-4e0b-9b64-e7585ac81500",
   "metadata": {},
   "outputs": [],
   "source": [
    "left = 1\n",
    "right = 1\n",
    "i = 0\n",
    "for prime in p_place:\n",
    "    # left *= int(mod(prime ^ k[i], n))\n",
    "    # Suppose Yj is not significant\n",
    "    # left = int(mod(left * prime, n))\n",
    "    # What the F is X supposed to be?\n",
    "    Y = C[i]\n",
    "    a = mod(Integer(prime) ** (Y), n)\n",
    "    left = int(mod(left * a, n))\n",
    "    i += 1\n",
    "    \n",
    "i = 0\n",
    "for h in H:\n",
    "    c = int(mod(G[i] ^ int(sol[i]), n))\n",
    "    right = int(mod(right * c, n))\n",
    "    i += 1\n",
    "    "
   ]
  },
  {
   "cell_type": "code",
   "execution_count": 239,
   "id": "ff0eb6a6-f081-4639-afbe-e409ca1fedd1",
   "metadata": {},
   "outputs": [
    {
     "data": {
      "text/plain": [
       "146878625056278049379910555675244221023902747211483804359058382191663912583496461648871235151245544917577693081026351796381860302361745833622952625841143717875694034626633386141196364985529099095588013992747213342562670184820789302196664023275711413552933229849214496020484325118261633675393119075479085889065"
      ]
     },
     "execution_count": 239,
     "metadata": {},
     "output_type": "execute_result"
    }
   ],
   "source": [
    "forge = int(mod(left * right, n))\n",
    "forge"
   ]
  },
  {
   "cell_type": "code",
   "execution_count": 241,
   "id": "439acd6b-ec09-404c-864d-8e059bc965f1",
   "metadata": {},
   "outputs": [
    {
     "name": "stdout",
     "output_type": "stream",
     "text": [
      "\u001b[32mWell done! We are accepting this signature as a forgery. The tale of your success has been saved to disk.\u001b[0m\n"
     ]
    }
   ],
   "source": [
    "forgery(str(J[0]), forge)"
   ]
  },
  {
   "cell_type": "code",
   "execution_count": 152,
   "id": "a1d03483-4e15-418c-9553-9f78f381fef9",
   "metadata": {},
   "outputs": [
    {
     "data": {
      "text/plain": [
       "58072293406276126704411965555725866915152013548805402697909249312505449581407"
      ]
     },
     "execution_count": 152,
     "metadata": {},
     "output_type": "execute_result"
    }
   ],
   "source": [
    "J[0]"
   ]
  },
  {
   "cell_type": "code",
   "execution_count": null,
   "id": "ac02ffd5-5462-4686-adb6-f4f0d2af66b4",
   "metadata": {},
   "outputs": [],
   "source": []
  },
  {
   "cell_type": "code",
   "execution_count": null,
   "id": "a12980c4-ad0f-4301-bf53-636d469c83a1",
   "metadata": {},
   "outputs": [],
   "source": []
  }
 ],
 "metadata": {
  "kernelspec": {
   "display_name": "SageMath 9.8",
   "language": "sage",
   "name": "sagemath"
  },
  "language_info": {
   "codemirror_mode": {
    "name": "ipython",
    "version": 3
   },
   "file_extension": ".py",
   "mimetype": "text/x-python",
   "name": "python",
   "nbconvert_exporter": "python",
   "pygments_lexer": "ipython3",
   "version": "3.10.10"
  }
 },
 "nbformat": 4,
 "nbformat_minor": 5
}
