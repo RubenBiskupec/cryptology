{
 "cells": [
  {
   "cell_type": "code",
   "execution_count": 48,
   "id": "163cf4ff-a910-451d-89c9-dc4d0cf66706",
   "metadata": {},
   "outputs": [],
   "source": [
    "import requests, re\n",
    "\n",
    "url, auth = 'http://131.155.21.174:8083', ('', 'ilovecrypto')\n",
    "sid, token = 20221886, '3535062df506f93f9ac7da6f483e1da29bb75c56'\n",
    "\n",
    "req = requests.Session()\n",
    "req.cookies['token'] = token\n",
    "\n",
    "r = req.get(url+'/', auth=auth)\n",
    "ciphertext = bytes.fromhex(re.search('target_ciphertext = ([0-9a-f]+)', r.text).groups()[0])\n",
    "\n",
    "def oracle(cipher):\n",
    "    assert hasattr(cipher,'hex') and len(cipher) % 16 == 0 and len(cipher) >= 32\n",
    "    r = req.post(url+'/oracle', auth=auth, data={'cipher': cipher.hex()})\n",
    "    return bool(['False', 'True'].index(r.text.strip()))\n",
    "\n",
    "def validate(plaintext):  # use this to submit your plaintext once you've decrypted it\n",
    "    if type(plaintext) == bytes:\n",
    "        try: plaintext = plaintext.decode()\n",
    "        except UnicodeDecodeError: raise Exception('plaintext is printable ASCII; something is amiss.')\n",
    "    assert type(plaintext) == str\n",
    "    r = req.post(url+'/validate', auth=auth, data={'plaintext': plaintext})\n",
    "    print('\\x1b[32m{}\\x1b[0m'.format(r.text.strip()))"
   ]
  },
  {
   "cell_type": "code",
   "execution_count": 49,
   "id": "460e46ff-2252-4157-a2c8-8a97b85b9da7",
   "metadata": {},
   "outputs": [
    {
     "name": "stdout",
     "output_type": "stream",
     "text": [
      "oracle (correct): True\n",
      "oracle (invalid): False\n"
     ]
    }
   ],
   "source": [
    "# let's try the oracle with a correct and invalid ciphertext.\n",
    "\n",
    "res1 = oracle(ciphertext)\n",
    "print('oracle (correct): {}'.format(res1))\n",
    "\n",
    "# let's flip a bit\n",
    "ciphertext_invalid = ciphertext[:-1] + bytes([ciphertext[-1] ^ 1])\n",
    "res2 = oracle(ciphertext_invalid)\n",
    "print('oracle (invalid): {}'.format(res2))\n"
   ]
  },
  {
   "cell_type": "code",
   "execution_count": 87,
   "id": "b76e2999-6ddc-43ec-ab26-026c2a286fb1",
   "metadata": {},
   "outputs": [
    {
     "data": {
      "text/plain": [
       "[b'\\xff4\\x8aJ\\xf8\\xb4\\xb3*\\xf2\\x94\\xef\\x94\\x88t\\x12C',\n",
       " b'\\xfb\\xb8\\xbf\\xd3\\xcc@\\x91\\x8f\\x1d\\xe8Z\\xbb\\x10\\xe1W\\x15',\n",
       " b'3\\xd4/\\xa7`\\t?C\\xee\\xea\\xf1\\x85}\\xe0\\xca\\xc4',\n",
       " b\"\\xe8\\x80o\\x06\\x97Sb8\\xa8T'\\xd7\\xdb9?\\x90\",\n",
       " b'\\xe0H\\xaf\\xdb\\x16\\xf7/b\\x8e6\\xf7}\\xfc\\x98\\r\\x9b']"
      ]
     },
     "execution_count": 87,
     "metadata": {},
     "output_type": "execute_result"
    }
   ],
   "source": [
    "ciphertext_blocks = []\n",
    "i = 0\n",
    "while i < len(ciphertext):\n",
    "    block = ciphertext[i:i+16:]\n",
    "    ciphertext_blocks.append(block)\n",
    "    i += 16\n",
    "ciphertext_blocks"
   ]
  },
  {
   "cell_type": "code",
   "execution_count": 91,
   "id": "c793a360-beeb-4936-9e98-b16a89fc6632",
   "metadata": {},
   "outputs": [],
   "source": [
    "def block_to_arr(block):\n",
    "    padding_block_arr = []\n",
    "    for byte in padding_block:\n",
    "        padding_block_arr.append(bytes([byte]))\n",
    "    return padding_block_arr"
   ]
  },
  {
   "cell_type": "code",
   "execution_count": 97,
   "id": "b6f235c5-7379-43da-b804-ad93f66b61e2",
   "metadata": {},
   "outputs": [
    {
     "name": "stdout",
     "output_type": "stream",
     "text": [
      "Found 3\n",
      "True\n"
     ]
    },
    {
     "data": {
      "text/plain": [
       "b\"\\xff4\\x8aJ\\xf8\\xb4\\xb3*\\xf2\\x94\\xef\\x94\\x88t\\x12C\\xfb\\xb8\\xbf\\xd3\\xcc@\\x91\\x8f\\x1d\\xe8Z\\xbb\\x10\\xe1W\\x153\\xd4/\\xa7`\\t?C\\xee\\xea\\xf1\\x85}\\xe0\\xca\\xc4\\xe8\\x80o\\x06\\x97Sb8\\xa8T'\\xd7\\xda9?\\x90\\xe0H\\xaf\\xdb\\x16\\xf7/b\\x8e6\\xf7}\\xfc\\x98\\r\\x9b\""
      ]
     },
     "execution_count": 97,
     "metadata": {},
     "output_type": "execute_result"
    }
   ],
   "source": [
    "padding_block = ciphertext_blocks[3]\n",
    "# print(f\"original \\n {ciphertext}\")\n",
    "ciphertext_blocks_tmp = ciphertext_blocks\n",
    "i = 1\n",
    "res = False\n",
    "while not res:\n",
    "    padding_block_tmp = padding_block\n",
    "    # ciphertext_blocks_tmp = ciphertext_blocks.copy()\n",
    "    padding_block_tmp_arr = block_to_arr(padding_block_tmp)\n",
    "    padding_block_tmp_arr[-i] = bytes([padding_block[-i] ^ 1])\n",
    "    padding_block_tmp = b\"\".join(padding_block_tmp_arr)\n",
    "    ciphertext_blocks_tmp[3] = padding_block_tmp\n",
    "    ciphertext_tmp = b\"\".join(ciphertext_blocks_tmp)\n",
    "    # print(f\"try \\n{ciphertext_tmp}\")\n",
    "    res = oracle(ciphertext_tmp)\n",
    "    i += 1\n",
    "print(f\"Found {i-2}\")\n",
    "print(oracle(ciphertext_tmp))\n",
    "ciphertext_tmp"
   ]
  },
  {
   "cell_type": "code",
   "execution_count": null,
   "id": "e9eff650-9ea0-47ef-b781-435ed6d66ed5",
   "metadata": {},
   "outputs": [],
   "source": []
  }
 ],
 "metadata": {
  "kernelspec": {
   "display_name": "Python 3 (ipykernel)",
   "language": "python",
   "name": "python3"
  },
  "language_info": {
   "codemirror_mode": {
    "name": "ipython",
    "version": 3
   },
   "file_extension": ".py",
   "mimetype": "text/x-python",
   "name": "python",
   "nbconvert_exporter": "python",
   "pygments_lexer": "ipython3",
   "version": "3.10.10"
  }
 },
 "nbformat": 4,
 "nbformat_minor": 5
}
